{
  "nbformat": 4,
  "nbformat_minor": 0,
  "metadata": {
    "colab": {
      "name": "emonewData21April.ipynb",
      "provenance": [],
      "collapsed_sections": [],
      "toc_visible": true
    },
    "kernelspec": {
      "name": "python3",
      "display_name": "Python 3"
    },
    "language_info": {
      "name": "python"
    }
  },
  "cells": [
    {
      "cell_type": "code",
      "metadata": {
        "id": "6qomtO1IO_yE"
      },
      "source": [
        "import pandas as pd"
      ],
      "execution_count": 125,
      "outputs": []
    },
    {
      "cell_type": "code",
      "metadata": {
        "id": "3aVgugCefOZq",
        "colab": {
          "base_uri": "https://localhost:8080/",
          "height": 194
        },
        "outputId": "8b8528de-6465-4520-98f5-240ced131a3a"
      },
      "source": [
        "#Loading the DataSet mypersonality\n",
        "df = pd.read_csv('essaysCombined.csv' ,encoding='cp1252')\n",
        "df.head()\n",
        "#print(df.shape)"
      ],
      "execution_count": 126,
      "outputs": [
        {
          "output_type": "execute_result",
          "data": {
            "text/html": [
              "<div>\n",
              "<style scoped>\n",
              "    .dataframe tbody tr th:only-of-type {\n",
              "        vertical-align: middle;\n",
              "    }\n",
              "\n",
              "    .dataframe tbody tr th {\n",
              "        vertical-align: top;\n",
              "    }\n",
              "\n",
              "    .dataframe thead th {\n",
              "        text-align: right;\n",
              "    }\n",
              "</style>\n",
              "<table border=\"1\" class=\"dataframe\">\n",
              "  <thead>\n",
              "    <tr style=\"text-align: right;\">\n",
              "      <th></th>\n",
              "      <th>#AUTHID</th>\n",
              "      <th>TEXT</th>\n",
              "      <th>cEXT</th>\n",
              "      <th>cNEU</th>\n",
              "      <th>cAGR</th>\n",
              "      <th>cCON</th>\n",
              "      <th>cOPN</th>\n",
              "    </tr>\n",
              "  </thead>\n",
              "  <tbody>\n",
              "    <tr>\n",
              "      <th>0</th>\n",
              "      <td>1997_504851.txt</td>\n",
              "      <td>Well, right now I just woke up from a mid-day ...</td>\n",
              "      <td>n</td>\n",
              "      <td>y</td>\n",
              "      <td>y</td>\n",
              "      <td>n</td>\n",
              "      <td>y</td>\n",
              "    </tr>\n",
              "    <tr>\n",
              "      <th>1</th>\n",
              "      <td>1997_605191.txt</td>\n",
              "      <td>Well, here we go with the stream of consciousn...</td>\n",
              "      <td>n</td>\n",
              "      <td>n</td>\n",
              "      <td>y</td>\n",
              "      <td>n</td>\n",
              "      <td>n</td>\n",
              "    </tr>\n",
              "    <tr>\n",
              "      <th>2</th>\n",
              "      <td>1997_687252.txt</td>\n",
              "      <td>An open keyboard and buttons to push. The thin...</td>\n",
              "      <td>n</td>\n",
              "      <td>y</td>\n",
              "      <td>n</td>\n",
              "      <td>y</td>\n",
              "      <td>y</td>\n",
              "    </tr>\n",
              "    <tr>\n",
              "      <th>3</th>\n",
              "      <td>1997_568848.txt</td>\n",
              "      <td>I can't believe it!  It's really happening!  M...</td>\n",
              "      <td>y</td>\n",
              "      <td>n</td>\n",
              "      <td>y</td>\n",
              "      <td>y</td>\n",
              "      <td>n</td>\n",
              "    </tr>\n",
              "    <tr>\n",
              "      <th>4</th>\n",
              "      <td>1997_688160.txt</td>\n",
              "      <td>Well, here I go with the good old stream of co...</td>\n",
              "      <td>y</td>\n",
              "      <td>n</td>\n",
              "      <td>y</td>\n",
              "      <td>n</td>\n",
              "      <td>y</td>\n",
              "    </tr>\n",
              "  </tbody>\n",
              "</table>\n",
              "</div>"
            ],
            "text/plain": [
              "           #AUTHID                                               TEXT  ... cCON cOPN\n",
              "0  1997_504851.txt  Well, right now I just woke up from a mid-day ...  ...    n    y\n",
              "1  1997_605191.txt  Well, here we go with the stream of consciousn...  ...    n    n\n",
              "2  1997_687252.txt  An open keyboard and buttons to push. The thin...  ...    y    y\n",
              "3  1997_568848.txt  I can't believe it!  It's really happening!  M...  ...    y    n\n",
              "4  1997_688160.txt  Well, here I go with the good old stream of co...  ...    n    y\n",
              "\n",
              "[5 rows x 7 columns]"
            ]
          },
          "metadata": {
            "tags": []
          },
          "execution_count": 126
        }
      ]
    },
    {
      "cell_type": "code",
      "metadata": {
        "colab": {
          "base_uri": "https://localhost:8080/"
        },
        "id": "lCs4a93bXJJe",
        "outputId": "b17402c5-8aea-4965-c0f1-f53554d002ac"
      },
      "source": [
        "#Checking out Shape of Data set (9917 , 20)\n",
        "df.shape"
      ],
      "execution_count": 127,
      "outputs": [
        {
          "output_type": "execute_result",
          "data": {
            "text/plain": [
              "(12384, 7)"
            ]
          },
          "metadata": {
            "tags": []
          },
          "execution_count": 127
        }
      ]
    },
    {
      "cell_type": "code",
      "metadata": {
        "id": "G8GyIS17V7sz"
      },
      "source": [
        "#df_id "
      ],
      "execution_count": 128,
      "outputs": []
    },
    {
      "cell_type": "code",
      "metadata": {
        "id": "dTmw7ZsSVvBD"
      },
      "source": [
        "#df_id.size()"
      ],
      "execution_count": 129,
      "outputs": []
    },
    {
      "cell_type": "code",
      "metadata": {
        "colab": {
          "base_uri": "https://localhost:8080/"
        },
        "id": "WdaFYPA0QfZi",
        "outputId": "fee3efd7-94ef-4314-8eee-d727defa4204"
      },
      "source": [
        "#Creating a copy\n",
        "df1 = df\n",
        "df1.shape"
      ],
      "execution_count": 130,
      "outputs": [
        {
          "output_type": "execute_result",
          "data": {
            "text/plain": [
              "(12384, 7)"
            ]
          },
          "metadata": {
            "tags": []
          },
          "execution_count": 130
        }
      ]
    },
    {
      "cell_type": "code",
      "metadata": {
        "colab": {
          "base_uri": "https://localhost:8080/",
          "height": 399
        },
        "id": "WdxhtW2ncsZx",
        "outputId": "a6ab98b6-c5f2-4001-a889-f309a2efd841"
      },
      "source": [
        "df1"
      ],
      "execution_count": 131,
      "outputs": [
        {
          "output_type": "execute_result",
          "data": {
            "text/html": [
              "<div>\n",
              "<style scoped>\n",
              "    .dataframe tbody tr th:only-of-type {\n",
              "        vertical-align: middle;\n",
              "    }\n",
              "\n",
              "    .dataframe tbody tr th {\n",
              "        vertical-align: top;\n",
              "    }\n",
              "\n",
              "    .dataframe thead th {\n",
              "        text-align: right;\n",
              "    }\n",
              "</style>\n",
              "<table border=\"1\" class=\"dataframe\">\n",
              "  <thead>\n",
              "    <tr style=\"text-align: right;\">\n",
              "      <th></th>\n",
              "      <th>#AUTHID</th>\n",
              "      <th>TEXT</th>\n",
              "      <th>cEXT</th>\n",
              "      <th>cNEU</th>\n",
              "      <th>cAGR</th>\n",
              "      <th>cCON</th>\n",
              "      <th>cOPN</th>\n",
              "    </tr>\n",
              "  </thead>\n",
              "  <tbody>\n",
              "    <tr>\n",
              "      <th>0</th>\n",
              "      <td>1997_504851.txt</td>\n",
              "      <td>Well, right now I just woke up from a mid-day ...</td>\n",
              "      <td>n</td>\n",
              "      <td>y</td>\n",
              "      <td>y</td>\n",
              "      <td>n</td>\n",
              "      <td>y</td>\n",
              "    </tr>\n",
              "    <tr>\n",
              "      <th>1</th>\n",
              "      <td>1997_605191.txt</td>\n",
              "      <td>Well, here we go with the stream of consciousn...</td>\n",
              "      <td>n</td>\n",
              "      <td>n</td>\n",
              "      <td>y</td>\n",
              "      <td>n</td>\n",
              "      <td>n</td>\n",
              "    </tr>\n",
              "    <tr>\n",
              "      <th>2</th>\n",
              "      <td>1997_687252.txt</td>\n",
              "      <td>An open keyboard and buttons to push. The thin...</td>\n",
              "      <td>n</td>\n",
              "      <td>y</td>\n",
              "      <td>n</td>\n",
              "      <td>y</td>\n",
              "      <td>y</td>\n",
              "    </tr>\n",
              "    <tr>\n",
              "      <th>3</th>\n",
              "      <td>1997_568848.txt</td>\n",
              "      <td>I can't believe it!  It's really happening!  M...</td>\n",
              "      <td>y</td>\n",
              "      <td>n</td>\n",
              "      <td>y</td>\n",
              "      <td>y</td>\n",
              "      <td>n</td>\n",
              "    </tr>\n",
              "    <tr>\n",
              "      <th>4</th>\n",
              "      <td>1997_688160.txt</td>\n",
              "      <td>Well, here I go with the good old stream of co...</td>\n",
              "      <td>y</td>\n",
              "      <td>n</td>\n",
              "      <td>y</td>\n",
              "      <td>n</td>\n",
              "      <td>y</td>\n",
              "    </tr>\n",
              "    <tr>\n",
              "      <th>...</th>\n",
              "      <td>...</td>\n",
              "      <td>...</td>\n",
              "      <td>...</td>\n",
              "      <td>...</td>\n",
              "      <td>...</td>\n",
              "      <td>...</td>\n",
              "      <td>...</td>\n",
              "    </tr>\n",
              "    <tr>\n",
              "      <th>12379</th>\n",
              "      <td>deb899e426c1a5c66c24eeb0d7df6257</td>\n",
              "      <td>little things give you away.</td>\n",
              "      <td>n</td>\n",
              "      <td>n</td>\n",
              "      <td>y</td>\n",
              "      <td>n</td>\n",
              "      <td>y</td>\n",
              "    </tr>\n",
              "    <tr>\n",
              "      <th>12380</th>\n",
              "      <td>ea28a927cb6663480ea33ca917c3c8ba</td>\n",
              "      <td>is wishing it was Saturday.</td>\n",
              "      <td>y</td>\n",
              "      <td>y</td>\n",
              "      <td>y</td>\n",
              "      <td>y</td>\n",
              "      <td>y</td>\n",
              "    </tr>\n",
              "    <tr>\n",
              "      <th>12381</th>\n",
              "      <td>ea28a927cb6663480ea33ca917c3c8ba</td>\n",
              "      <td>is studying hard for the G.R.E.</td>\n",
              "      <td>y</td>\n",
              "      <td>y</td>\n",
              "      <td>y</td>\n",
              "      <td>y</td>\n",
              "      <td>y</td>\n",
              "    </tr>\n",
              "    <tr>\n",
              "      <th>12382</th>\n",
              "      <td>5532642937eb3497a43e15dbb23a9d2d</td>\n",
              "      <td>snipers get more head</td>\n",
              "      <td>n</td>\n",
              "      <td>y</td>\n",
              "      <td>n</td>\n",
              "      <td>n</td>\n",
              "      <td>y</td>\n",
              "    </tr>\n",
              "    <tr>\n",
              "      <th>12383</th>\n",
              "      <td>a286b7286b1247d4a7851709e9f31e1e</td>\n",
              "      <td>Last night was amazing! Not only did I see *PR...</td>\n",
              "      <td>y</td>\n",
              "      <td>y</td>\n",
              "      <td>n</td>\n",
              "      <td>y</td>\n",
              "      <td>y</td>\n",
              "    </tr>\n",
              "  </tbody>\n",
              "</table>\n",
              "<p>12384 rows × 7 columns</p>\n",
              "</div>"
            ],
            "text/plain": [
              "                                #AUTHID  ... cOPN\n",
              "0                       1997_504851.txt  ...    y\n",
              "1                       1997_605191.txt  ...    n\n",
              "2                       1997_687252.txt  ...    y\n",
              "3                       1997_568848.txt  ...    n\n",
              "4                       1997_688160.txt  ...    y\n",
              "...                                 ...  ...  ...\n",
              "12379  deb899e426c1a5c66c24eeb0d7df6257  ...    y\n",
              "12380  ea28a927cb6663480ea33ca917c3c8ba  ...    y\n",
              "12381  ea28a927cb6663480ea33ca917c3c8ba  ...    y\n",
              "12382  5532642937eb3497a43e15dbb23a9d2d  ...    y\n",
              "12383  a286b7286b1247d4a7851709e9f31e1e  ...    y\n",
              "\n",
              "[12384 rows x 7 columns]"
            ]
          },
          "metadata": {
            "tags": []
          },
          "execution_count": 131
        }
      ]
    },
    {
      "cell_type": "code",
      "metadata": {
        "id": "HAqZMJGyefXm",
        "colab": {
          "base_uri": "https://localhost:8080/",
          "height": 399
        },
        "outputId": "1ec02d75-21a5-4350-ee34-ffd0d09d48c6"
      },
      "source": [
        "#It is necessary to remove the duplicate AUTHIDs\n",
        "df1 = df1.drop_duplicates(keep='first')\n",
        "df1"
      ],
      "execution_count": 132,
      "outputs": [
        {
          "output_type": "execute_result",
          "data": {
            "text/html": [
              "<div>\n",
              "<style scoped>\n",
              "    .dataframe tbody tr th:only-of-type {\n",
              "        vertical-align: middle;\n",
              "    }\n",
              "\n",
              "    .dataframe tbody tr th {\n",
              "        vertical-align: top;\n",
              "    }\n",
              "\n",
              "    .dataframe thead th {\n",
              "        text-align: right;\n",
              "    }\n",
              "</style>\n",
              "<table border=\"1\" class=\"dataframe\">\n",
              "  <thead>\n",
              "    <tr style=\"text-align: right;\">\n",
              "      <th></th>\n",
              "      <th>#AUTHID</th>\n",
              "      <th>TEXT</th>\n",
              "      <th>cEXT</th>\n",
              "      <th>cNEU</th>\n",
              "      <th>cAGR</th>\n",
              "      <th>cCON</th>\n",
              "      <th>cOPN</th>\n",
              "    </tr>\n",
              "  </thead>\n",
              "  <tbody>\n",
              "    <tr>\n",
              "      <th>0</th>\n",
              "      <td>1997_504851.txt</td>\n",
              "      <td>Well, right now I just woke up from a mid-day ...</td>\n",
              "      <td>n</td>\n",
              "      <td>y</td>\n",
              "      <td>y</td>\n",
              "      <td>n</td>\n",
              "      <td>y</td>\n",
              "    </tr>\n",
              "    <tr>\n",
              "      <th>1</th>\n",
              "      <td>1997_605191.txt</td>\n",
              "      <td>Well, here we go with the stream of consciousn...</td>\n",
              "      <td>n</td>\n",
              "      <td>n</td>\n",
              "      <td>y</td>\n",
              "      <td>n</td>\n",
              "      <td>n</td>\n",
              "    </tr>\n",
              "    <tr>\n",
              "      <th>2</th>\n",
              "      <td>1997_687252.txt</td>\n",
              "      <td>An open keyboard and buttons to push. The thin...</td>\n",
              "      <td>n</td>\n",
              "      <td>y</td>\n",
              "      <td>n</td>\n",
              "      <td>y</td>\n",
              "      <td>y</td>\n",
              "    </tr>\n",
              "    <tr>\n",
              "      <th>3</th>\n",
              "      <td>1997_568848.txt</td>\n",
              "      <td>I can't believe it!  It's really happening!  M...</td>\n",
              "      <td>y</td>\n",
              "      <td>n</td>\n",
              "      <td>y</td>\n",
              "      <td>y</td>\n",
              "      <td>n</td>\n",
              "    </tr>\n",
              "    <tr>\n",
              "      <th>4</th>\n",
              "      <td>1997_688160.txt</td>\n",
              "      <td>Well, here I go with the good old stream of co...</td>\n",
              "      <td>y</td>\n",
              "      <td>n</td>\n",
              "      <td>y</td>\n",
              "      <td>n</td>\n",
              "      <td>y</td>\n",
              "    </tr>\n",
              "    <tr>\n",
              "      <th>...</th>\n",
              "      <td>...</td>\n",
              "      <td>...</td>\n",
              "      <td>...</td>\n",
              "      <td>...</td>\n",
              "      <td>...</td>\n",
              "      <td>...</td>\n",
              "      <td>...</td>\n",
              "    </tr>\n",
              "    <tr>\n",
              "      <th>12379</th>\n",
              "      <td>deb899e426c1a5c66c24eeb0d7df6257</td>\n",
              "      <td>little things give you away.</td>\n",
              "      <td>n</td>\n",
              "      <td>n</td>\n",
              "      <td>y</td>\n",
              "      <td>n</td>\n",
              "      <td>y</td>\n",
              "    </tr>\n",
              "    <tr>\n",
              "      <th>12380</th>\n",
              "      <td>ea28a927cb6663480ea33ca917c3c8ba</td>\n",
              "      <td>is wishing it was Saturday.</td>\n",
              "      <td>y</td>\n",
              "      <td>y</td>\n",
              "      <td>y</td>\n",
              "      <td>y</td>\n",
              "      <td>y</td>\n",
              "    </tr>\n",
              "    <tr>\n",
              "      <th>12381</th>\n",
              "      <td>ea28a927cb6663480ea33ca917c3c8ba</td>\n",
              "      <td>is studying hard for the G.R.E.</td>\n",
              "      <td>y</td>\n",
              "      <td>y</td>\n",
              "      <td>y</td>\n",
              "      <td>y</td>\n",
              "      <td>y</td>\n",
              "    </tr>\n",
              "    <tr>\n",
              "      <th>12382</th>\n",
              "      <td>5532642937eb3497a43e15dbb23a9d2d</td>\n",
              "      <td>snipers get more head</td>\n",
              "      <td>n</td>\n",
              "      <td>y</td>\n",
              "      <td>n</td>\n",
              "      <td>n</td>\n",
              "      <td>y</td>\n",
              "    </tr>\n",
              "    <tr>\n",
              "      <th>12383</th>\n",
              "      <td>a286b7286b1247d4a7851709e9f31e1e</td>\n",
              "      <td>Last night was amazing! Not only did I see *PR...</td>\n",
              "      <td>y</td>\n",
              "      <td>y</td>\n",
              "      <td>n</td>\n",
              "      <td>y</td>\n",
              "      <td>y</td>\n",
              "    </tr>\n",
              "  </tbody>\n",
              "</table>\n",
              "<p>12368 rows × 7 columns</p>\n",
              "</div>"
            ],
            "text/plain": [
              "                                #AUTHID  ... cOPN\n",
              "0                       1997_504851.txt  ...    y\n",
              "1                       1997_605191.txt  ...    n\n",
              "2                       1997_687252.txt  ...    y\n",
              "3                       1997_568848.txt  ...    n\n",
              "4                       1997_688160.txt  ...    y\n",
              "...                                 ...  ...  ...\n",
              "12379  deb899e426c1a5c66c24eeb0d7df6257  ...    y\n",
              "12380  ea28a927cb6663480ea33ca917c3c8ba  ...    y\n",
              "12381  ea28a927cb6663480ea33ca917c3c8ba  ...    y\n",
              "12382  5532642937eb3497a43e15dbb23a9d2d  ...    y\n",
              "12383  a286b7286b1247d4a7851709e9f31e1e  ...    y\n",
              "\n",
              "[12368 rows x 7 columns]"
            ]
          },
          "metadata": {
            "tags": []
          },
          "execution_count": 132
        }
      ]
    },
    {
      "cell_type": "code",
      "metadata": {
        "id": "2fSahrfdgRUZ"
      },
      "source": [
        ""
      ],
      "execution_count": 132,
      "outputs": []
    },
    {
      "cell_type": "markdown",
      "metadata": {
        "id": "xBAnn2RmJ0WU"
      },
      "source": [
        "##Cleaning Text"
      ]
    },
    {
      "cell_type": "code",
      "metadata": {
        "colab": {
          "base_uri": "https://localhost:8080/",
          "height": 595
        },
        "id": "Va62d1gllntq",
        "outputId": "c11589d5-91c7-489c-e99e-86f15a341b19"
      },
      "source": [
        "#Cleaning text, removing special charachters and special symbols\n",
        "df1[df1.columns[1]].replace(\"[^a-zA-Z]\",\" \",regex=True, inplace=True)\n",
        "df1['TEXT'] = df1['TEXT'].str.lower()\n",
        "df1"
      ],
      "execution_count": 133,
      "outputs": [
        {
          "output_type": "stream",
          "text": [
            "/usr/local/lib/python3.7/dist-packages/pandas/core/series.py:4582: SettingWithCopyWarning: \n",
            "A value is trying to be set on a copy of a slice from a DataFrame\n",
            "\n",
            "See the caveats in the documentation: https://pandas.pydata.org/pandas-docs/stable/user_guide/indexing.html#returning-a-view-versus-a-copy\n",
            "  method=method,\n",
            "/usr/local/lib/python3.7/dist-packages/ipykernel_launcher.py:3: SettingWithCopyWarning: \n",
            "A value is trying to be set on a copy of a slice from a DataFrame.\n",
            "Try using .loc[row_indexer,col_indexer] = value instead\n",
            "\n",
            "See the caveats in the documentation: https://pandas.pydata.org/pandas-docs/stable/user_guide/indexing.html#returning-a-view-versus-a-copy\n",
            "  This is separate from the ipykernel package so we can avoid doing imports until\n"
          ],
          "name": "stderr"
        },
        {
          "output_type": "execute_result",
          "data": {
            "text/html": [
              "<div>\n",
              "<style scoped>\n",
              "    .dataframe tbody tr th:only-of-type {\n",
              "        vertical-align: middle;\n",
              "    }\n",
              "\n",
              "    .dataframe tbody tr th {\n",
              "        vertical-align: top;\n",
              "    }\n",
              "\n",
              "    .dataframe thead th {\n",
              "        text-align: right;\n",
              "    }\n",
              "</style>\n",
              "<table border=\"1\" class=\"dataframe\">\n",
              "  <thead>\n",
              "    <tr style=\"text-align: right;\">\n",
              "      <th></th>\n",
              "      <th>#AUTHID</th>\n",
              "      <th>TEXT</th>\n",
              "      <th>cEXT</th>\n",
              "      <th>cNEU</th>\n",
              "      <th>cAGR</th>\n",
              "      <th>cCON</th>\n",
              "      <th>cOPN</th>\n",
              "    </tr>\n",
              "  </thead>\n",
              "  <tbody>\n",
              "    <tr>\n",
              "      <th>0</th>\n",
              "      <td>1997_504851.txt</td>\n",
              "      <td>well  right now i just woke up from a mid day ...</td>\n",
              "      <td>n</td>\n",
              "      <td>y</td>\n",
              "      <td>y</td>\n",
              "      <td>n</td>\n",
              "      <td>y</td>\n",
              "    </tr>\n",
              "    <tr>\n",
              "      <th>1</th>\n",
              "      <td>1997_605191.txt</td>\n",
              "      <td>well  here we go with the stream of consciousn...</td>\n",
              "      <td>n</td>\n",
              "      <td>n</td>\n",
              "      <td>y</td>\n",
              "      <td>n</td>\n",
              "      <td>n</td>\n",
              "    </tr>\n",
              "    <tr>\n",
              "      <th>2</th>\n",
              "      <td>1997_687252.txt</td>\n",
              "      <td>an open keyboard and buttons to push  the thin...</td>\n",
              "      <td>n</td>\n",
              "      <td>y</td>\n",
              "      <td>n</td>\n",
              "      <td>y</td>\n",
              "      <td>y</td>\n",
              "    </tr>\n",
              "    <tr>\n",
              "      <th>3</th>\n",
              "      <td>1997_568848.txt</td>\n",
              "      <td>i can t believe it   it s really happening   m...</td>\n",
              "      <td>y</td>\n",
              "      <td>n</td>\n",
              "      <td>y</td>\n",
              "      <td>y</td>\n",
              "      <td>n</td>\n",
              "    </tr>\n",
              "    <tr>\n",
              "      <th>4</th>\n",
              "      <td>1997_688160.txt</td>\n",
              "      <td>well  here i go with the good old stream of co...</td>\n",
              "      <td>y</td>\n",
              "      <td>n</td>\n",
              "      <td>y</td>\n",
              "      <td>n</td>\n",
              "      <td>y</td>\n",
              "    </tr>\n",
              "    <tr>\n",
              "      <th>...</th>\n",
              "      <td>...</td>\n",
              "      <td>...</td>\n",
              "      <td>...</td>\n",
              "      <td>...</td>\n",
              "      <td>...</td>\n",
              "      <td>...</td>\n",
              "      <td>...</td>\n",
              "    </tr>\n",
              "    <tr>\n",
              "      <th>12379</th>\n",
              "      <td>deb899e426c1a5c66c24eeb0d7df6257</td>\n",
              "      <td>little things give you away</td>\n",
              "      <td>n</td>\n",
              "      <td>n</td>\n",
              "      <td>y</td>\n",
              "      <td>n</td>\n",
              "      <td>y</td>\n",
              "    </tr>\n",
              "    <tr>\n",
              "      <th>12380</th>\n",
              "      <td>ea28a927cb6663480ea33ca917c3c8ba</td>\n",
              "      <td>is wishing it was saturday</td>\n",
              "      <td>y</td>\n",
              "      <td>y</td>\n",
              "      <td>y</td>\n",
              "      <td>y</td>\n",
              "      <td>y</td>\n",
              "    </tr>\n",
              "    <tr>\n",
              "      <th>12381</th>\n",
              "      <td>ea28a927cb6663480ea33ca917c3c8ba</td>\n",
              "      <td>is studying hard for the g r e</td>\n",
              "      <td>y</td>\n",
              "      <td>y</td>\n",
              "      <td>y</td>\n",
              "      <td>y</td>\n",
              "      <td>y</td>\n",
              "    </tr>\n",
              "    <tr>\n",
              "      <th>12382</th>\n",
              "      <td>5532642937eb3497a43e15dbb23a9d2d</td>\n",
              "      <td>snipers get more head</td>\n",
              "      <td>n</td>\n",
              "      <td>y</td>\n",
              "      <td>n</td>\n",
              "      <td>n</td>\n",
              "      <td>y</td>\n",
              "    </tr>\n",
              "    <tr>\n",
              "      <th>12383</th>\n",
              "      <td>a286b7286b1247d4a7851709e9f31e1e</td>\n",
              "      <td>last night was amazing  not only did i see  pr...</td>\n",
              "      <td>y</td>\n",
              "      <td>y</td>\n",
              "      <td>n</td>\n",
              "      <td>y</td>\n",
              "      <td>y</td>\n",
              "    </tr>\n",
              "  </tbody>\n",
              "</table>\n",
              "<p>12368 rows × 7 columns</p>\n",
              "</div>"
            ],
            "text/plain": [
              "                                #AUTHID  ... cOPN\n",
              "0                       1997_504851.txt  ...    y\n",
              "1                       1997_605191.txt  ...    n\n",
              "2                       1997_687252.txt  ...    y\n",
              "3                       1997_568848.txt  ...    n\n",
              "4                       1997_688160.txt  ...    y\n",
              "...                                 ...  ...  ...\n",
              "12379  deb899e426c1a5c66c24eeb0d7df6257  ...    y\n",
              "12380  ea28a927cb6663480ea33ca917c3c8ba  ...    y\n",
              "12381  ea28a927cb6663480ea33ca917c3c8ba  ...    y\n",
              "12382  5532642937eb3497a43e15dbb23a9d2d  ...    y\n",
              "12383  a286b7286b1247d4a7851709e9f31e1e  ...    y\n",
              "\n",
              "[12368 rows x 7 columns]"
            ]
          },
          "metadata": {
            "tags": []
          },
          "execution_count": 133
        }
      ]
    },
    {
      "cell_type": "code",
      "metadata": {
        "colab": {
          "base_uri": "https://localhost:8080/"
        },
        "id": "CjevYdhrAFTu",
        "outputId": "06b0f304-5369-48d7-9d78-30264900558d"
      },
      "source": [
        "df_lexicon = pd.read_csv('Emotion_Lexicon.csv', index_col=0)\n",
        "df_lexicon.shape"
      ],
      "execution_count": 134,
      "outputs": [
        {
          "output_type": "execute_result",
          "data": {
            "text/plain": [
              "(14182, 11)"
            ]
          },
          "metadata": {
            "tags": []
          },
          "execution_count": 134
        }
      ]
    },
    {
      "cell_type": "code",
      "metadata": {
        "id": "KpH4WmnmvA0X",
        "colab": {
          "base_uri": "https://localhost:8080/"
        },
        "outputId": "2474addb-338c-4f06-a634-ad14161d3907"
      },
      "source": [
        "df_lexicon = pd.read_csv('Emotion_Lexicon.csv', index_col=0)\n",
        "\n",
        "# some of the words have no emotional category, \n",
        "# so let's remove them as they have no use to us.\n",
        "# can be improved by not even loading them when all columns are 0. maybe later.\n",
        "df_lexicon = df_lexicon[(df_lexicon.T == 0).any()]\n",
        "emotional_words = df_lexicon.index.tolist()\n",
        "df_lexicon.shape\n",
        "#emotional_words"
      ],
      "execution_count": 135,
      "outputs": [
        {
          "output_type": "execute_result",
          "data": {
            "text/plain": [
              "(14180, 11)"
            ]
          },
          "metadata": {
            "tags": []
          },
          "execution_count": 135
        }
      ]
    },
    {
      "cell_type": "code",
      "metadata": {
        "colab": {
          "base_uri": "https://localhost:8080/",
          "height": 506
        },
        "id": "kPDxVFvgycpq",
        "outputId": "2ed5ee7d-d176-459d-d99d-f6f9533811d4"
      },
      "source": [
        "import re\n",
        "def tokenization(text):\n",
        "    text = re.split('\\W+', text)\n",
        "    return text\n",
        "\n",
        "df1['TEXT'] = df1['TEXT'].apply(lambda x: tokenization(x.lower()))\n",
        "df1"
      ],
      "execution_count": 136,
      "outputs": [
        {
          "output_type": "stream",
          "text": [
            "/usr/local/lib/python3.7/dist-packages/ipykernel_launcher.py:6: SettingWithCopyWarning: \n",
            "A value is trying to be set on a copy of a slice from a DataFrame.\n",
            "Try using .loc[row_indexer,col_indexer] = value instead\n",
            "\n",
            "See the caveats in the documentation: https://pandas.pydata.org/pandas-docs/stable/user_guide/indexing.html#returning-a-view-versus-a-copy\n",
            "  \n"
          ],
          "name": "stderr"
        },
        {
          "output_type": "execute_result",
          "data": {
            "text/html": [
              "<div>\n",
              "<style scoped>\n",
              "    .dataframe tbody tr th:only-of-type {\n",
              "        vertical-align: middle;\n",
              "    }\n",
              "\n",
              "    .dataframe tbody tr th {\n",
              "        vertical-align: top;\n",
              "    }\n",
              "\n",
              "    .dataframe thead th {\n",
              "        text-align: right;\n",
              "    }\n",
              "</style>\n",
              "<table border=\"1\" class=\"dataframe\">\n",
              "  <thead>\n",
              "    <tr style=\"text-align: right;\">\n",
              "      <th></th>\n",
              "      <th>#AUTHID</th>\n",
              "      <th>TEXT</th>\n",
              "      <th>cEXT</th>\n",
              "      <th>cNEU</th>\n",
              "      <th>cAGR</th>\n",
              "      <th>cCON</th>\n",
              "      <th>cOPN</th>\n",
              "    </tr>\n",
              "  </thead>\n",
              "  <tbody>\n",
              "    <tr>\n",
              "      <th>0</th>\n",
              "      <td>1997_504851.txt</td>\n",
              "      <td>[well, right, now, i, just, woke, up, from, a,...</td>\n",
              "      <td>n</td>\n",
              "      <td>y</td>\n",
              "      <td>y</td>\n",
              "      <td>n</td>\n",
              "      <td>y</td>\n",
              "    </tr>\n",
              "    <tr>\n",
              "      <th>1</th>\n",
              "      <td>1997_605191.txt</td>\n",
              "      <td>[well, here, we, go, with, the, stream, of, co...</td>\n",
              "      <td>n</td>\n",
              "      <td>n</td>\n",
              "      <td>y</td>\n",
              "      <td>n</td>\n",
              "      <td>n</td>\n",
              "    </tr>\n",
              "    <tr>\n",
              "      <th>2</th>\n",
              "      <td>1997_687252.txt</td>\n",
              "      <td>[an, open, keyboard, and, buttons, to, push, t...</td>\n",
              "      <td>n</td>\n",
              "      <td>y</td>\n",
              "      <td>n</td>\n",
              "      <td>y</td>\n",
              "      <td>y</td>\n",
              "    </tr>\n",
              "    <tr>\n",
              "      <th>3</th>\n",
              "      <td>1997_568848.txt</td>\n",
              "      <td>[i, can, t, believe, it, it, s, really, happen...</td>\n",
              "      <td>y</td>\n",
              "      <td>n</td>\n",
              "      <td>y</td>\n",
              "      <td>y</td>\n",
              "      <td>n</td>\n",
              "    </tr>\n",
              "    <tr>\n",
              "      <th>4</th>\n",
              "      <td>1997_688160.txt</td>\n",
              "      <td>[well, here, i, go, with, the, good, old, stre...</td>\n",
              "      <td>y</td>\n",
              "      <td>n</td>\n",
              "      <td>y</td>\n",
              "      <td>n</td>\n",
              "      <td>y</td>\n",
              "    </tr>\n",
              "    <tr>\n",
              "      <th>...</th>\n",
              "      <td>...</td>\n",
              "      <td>...</td>\n",
              "      <td>...</td>\n",
              "      <td>...</td>\n",
              "      <td>...</td>\n",
              "      <td>...</td>\n",
              "      <td>...</td>\n",
              "    </tr>\n",
              "    <tr>\n",
              "      <th>12379</th>\n",
              "      <td>deb899e426c1a5c66c24eeb0d7df6257</td>\n",
              "      <td>[little, things, give, you, away, ]</td>\n",
              "      <td>n</td>\n",
              "      <td>n</td>\n",
              "      <td>y</td>\n",
              "      <td>n</td>\n",
              "      <td>y</td>\n",
              "    </tr>\n",
              "    <tr>\n",
              "      <th>12380</th>\n",
              "      <td>ea28a927cb6663480ea33ca917c3c8ba</td>\n",
              "      <td>[is, wishing, it, was, saturday, ]</td>\n",
              "      <td>y</td>\n",
              "      <td>y</td>\n",
              "      <td>y</td>\n",
              "      <td>y</td>\n",
              "      <td>y</td>\n",
              "    </tr>\n",
              "    <tr>\n",
              "      <th>12381</th>\n",
              "      <td>ea28a927cb6663480ea33ca917c3c8ba</td>\n",
              "      <td>[is, studying, hard, for, the, g, r, e, ]</td>\n",
              "      <td>y</td>\n",
              "      <td>y</td>\n",
              "      <td>y</td>\n",
              "      <td>y</td>\n",
              "      <td>y</td>\n",
              "    </tr>\n",
              "    <tr>\n",
              "      <th>12382</th>\n",
              "      <td>5532642937eb3497a43e15dbb23a9d2d</td>\n",
              "      <td>[snipers, get, more, head]</td>\n",
              "      <td>n</td>\n",
              "      <td>y</td>\n",
              "      <td>n</td>\n",
              "      <td>n</td>\n",
              "      <td>y</td>\n",
              "    </tr>\n",
              "    <tr>\n",
              "      <th>12383</th>\n",
              "      <td>a286b7286b1247d4a7851709e9f31e1e</td>\n",
              "      <td>[last, night, was, amazing, not, only, did, i,...</td>\n",
              "      <td>y</td>\n",
              "      <td>y</td>\n",
              "      <td>n</td>\n",
              "      <td>y</td>\n",
              "      <td>y</td>\n",
              "    </tr>\n",
              "  </tbody>\n",
              "</table>\n",
              "<p>12368 rows × 7 columns</p>\n",
              "</div>"
            ],
            "text/plain": [
              "                                #AUTHID  ... cOPN\n",
              "0                       1997_504851.txt  ...    y\n",
              "1                       1997_605191.txt  ...    n\n",
              "2                       1997_687252.txt  ...    y\n",
              "3                       1997_568848.txt  ...    n\n",
              "4                       1997_688160.txt  ...    y\n",
              "...                                 ...  ...  ...\n",
              "12379  deb899e426c1a5c66c24eeb0d7df6257  ...    y\n",
              "12380  ea28a927cb6663480ea33ca917c3c8ba  ...    y\n",
              "12381  ea28a927cb6663480ea33ca917c3c8ba  ...    y\n",
              "12382  5532642937eb3497a43e15dbb23a9d2d  ...    y\n",
              "12383  a286b7286b1247d4a7851709e9f31e1e  ...    y\n",
              "\n",
              "[12368 rows x 7 columns]"
            ]
          },
          "metadata": {
            "tags": []
          },
          "execution_count": 136
        }
      ]
    },
    {
      "cell_type": "code",
      "metadata": {
        "colab": {
          "base_uri": "https://localhost:8080/",
          "height": 541
        },
        "id": "vBg_VQvsTwfN",
        "outputId": "d26a24e8-1b83-47a3-e2c7-3f001c96ff00"
      },
      "source": [
        "#Removing Non English Words, like Slangs, spellling mistakes etc\n",
        "import nltk\n",
        "nltk.download('words')\n",
        "words = set(nltk.corpus.words.words())\n",
        "\n",
        "def remove_slang(x):\n",
        "  text = [x1 for x1 in x if x1 in words]\n",
        "  return text\n",
        "\n",
        "df1['TEXT'] = df1['TEXT'].apply(lambda x: remove_slang(x))\n",
        "\n",
        "df1"
      ],
      "execution_count": 137,
      "outputs": [
        {
          "output_type": "stream",
          "text": [
            "[nltk_data] Downloading package words to /root/nltk_data...\n",
            "[nltk_data]   Package words is already up-to-date!\n"
          ],
          "name": "stdout"
        },
        {
          "output_type": "stream",
          "text": [
            "/usr/local/lib/python3.7/dist-packages/ipykernel_launcher.py:10: SettingWithCopyWarning: \n",
            "A value is trying to be set on a copy of a slice from a DataFrame.\n",
            "Try using .loc[row_indexer,col_indexer] = value instead\n",
            "\n",
            "See the caveats in the documentation: https://pandas.pydata.org/pandas-docs/stable/user_guide/indexing.html#returning-a-view-versus-a-copy\n",
            "  # Remove the CWD from sys.path while we load stuff.\n"
          ],
          "name": "stderr"
        },
        {
          "output_type": "execute_result",
          "data": {
            "text/html": [
              "<div>\n",
              "<style scoped>\n",
              "    .dataframe tbody tr th:only-of-type {\n",
              "        vertical-align: middle;\n",
              "    }\n",
              "\n",
              "    .dataframe tbody tr th {\n",
              "        vertical-align: top;\n",
              "    }\n",
              "\n",
              "    .dataframe thead th {\n",
              "        text-align: right;\n",
              "    }\n",
              "</style>\n",
              "<table border=\"1\" class=\"dataframe\">\n",
              "  <thead>\n",
              "    <tr style=\"text-align: right;\">\n",
              "      <th></th>\n",
              "      <th>#AUTHID</th>\n",
              "      <th>TEXT</th>\n",
              "      <th>cEXT</th>\n",
              "      <th>cNEU</th>\n",
              "      <th>cAGR</th>\n",
              "      <th>cCON</th>\n",
              "      <th>cOPN</th>\n",
              "    </tr>\n",
              "  </thead>\n",
              "  <tbody>\n",
              "    <tr>\n",
              "      <th>0</th>\n",
              "      <td>1997_504851.txt</td>\n",
              "      <td>[well, right, now, i, just, woke, up, from, a,...</td>\n",
              "      <td>n</td>\n",
              "      <td>y</td>\n",
              "      <td>y</td>\n",
              "      <td>n</td>\n",
              "      <td>y</td>\n",
              "    </tr>\n",
              "    <tr>\n",
              "      <th>1</th>\n",
              "      <td>1997_605191.txt</td>\n",
              "      <td>[well, here, we, go, with, the, stream, of, co...</td>\n",
              "      <td>n</td>\n",
              "      <td>n</td>\n",
              "      <td>y</td>\n",
              "      <td>n</td>\n",
              "      <td>n</td>\n",
              "    </tr>\n",
              "    <tr>\n",
              "      <th>2</th>\n",
              "      <td>1997_687252.txt</td>\n",
              "      <td>[an, open, keyboard, and, buttons, to, push, t...</td>\n",
              "      <td>n</td>\n",
              "      <td>y</td>\n",
              "      <td>n</td>\n",
              "      <td>y</td>\n",
              "      <td>y</td>\n",
              "    </tr>\n",
              "    <tr>\n",
              "      <th>3</th>\n",
              "      <td>1997_568848.txt</td>\n",
              "      <td>[i, can, t, believe, it, it, s, really, happen...</td>\n",
              "      <td>y</td>\n",
              "      <td>n</td>\n",
              "      <td>y</td>\n",
              "      <td>y</td>\n",
              "      <td>n</td>\n",
              "    </tr>\n",
              "    <tr>\n",
              "      <th>4</th>\n",
              "      <td>1997_688160.txt</td>\n",
              "      <td>[well, here, i, go, with, the, good, old, stre...</td>\n",
              "      <td>y</td>\n",
              "      <td>n</td>\n",
              "      <td>y</td>\n",
              "      <td>n</td>\n",
              "      <td>y</td>\n",
              "    </tr>\n",
              "    <tr>\n",
              "      <th>...</th>\n",
              "      <td>...</td>\n",
              "      <td>...</td>\n",
              "      <td>...</td>\n",
              "      <td>...</td>\n",
              "      <td>...</td>\n",
              "      <td>...</td>\n",
              "      <td>...</td>\n",
              "    </tr>\n",
              "    <tr>\n",
              "      <th>12379</th>\n",
              "      <td>deb899e426c1a5c66c24eeb0d7df6257</td>\n",
              "      <td>[little, give, you, away]</td>\n",
              "      <td>n</td>\n",
              "      <td>n</td>\n",
              "      <td>y</td>\n",
              "      <td>n</td>\n",
              "      <td>y</td>\n",
              "    </tr>\n",
              "    <tr>\n",
              "      <th>12380</th>\n",
              "      <td>ea28a927cb6663480ea33ca917c3c8ba</td>\n",
              "      <td>[is, wishing, it, was]</td>\n",
              "      <td>y</td>\n",
              "      <td>y</td>\n",
              "      <td>y</td>\n",
              "      <td>y</td>\n",
              "      <td>y</td>\n",
              "    </tr>\n",
              "    <tr>\n",
              "      <th>12381</th>\n",
              "      <td>ea28a927cb6663480ea33ca917c3c8ba</td>\n",
              "      <td>[is, hard, for, the, g, r, e]</td>\n",
              "      <td>y</td>\n",
              "      <td>y</td>\n",
              "      <td>y</td>\n",
              "      <td>y</td>\n",
              "      <td>y</td>\n",
              "    </tr>\n",
              "    <tr>\n",
              "      <th>12382</th>\n",
              "      <td>5532642937eb3497a43e15dbb23a9d2d</td>\n",
              "      <td>[get, more, head]</td>\n",
              "      <td>n</td>\n",
              "      <td>y</td>\n",
              "      <td>n</td>\n",
              "      <td>n</td>\n",
              "      <td>y</td>\n",
              "    </tr>\n",
              "    <tr>\n",
              "      <th>12383</th>\n",
              "      <td>a286b7286b1247d4a7851709e9f31e1e</td>\n",
              "      <td>[last, night, was, amazing, not, only, did, i,...</td>\n",
              "      <td>y</td>\n",
              "      <td>y</td>\n",
              "      <td>n</td>\n",
              "      <td>y</td>\n",
              "      <td>y</td>\n",
              "    </tr>\n",
              "  </tbody>\n",
              "</table>\n",
              "<p>12368 rows × 7 columns</p>\n",
              "</div>"
            ],
            "text/plain": [
              "                                #AUTHID  ... cOPN\n",
              "0                       1997_504851.txt  ...    y\n",
              "1                       1997_605191.txt  ...    n\n",
              "2                       1997_687252.txt  ...    y\n",
              "3                       1997_568848.txt  ...    n\n",
              "4                       1997_688160.txt  ...    y\n",
              "...                                 ...  ...  ...\n",
              "12379  deb899e426c1a5c66c24eeb0d7df6257  ...    y\n",
              "12380  ea28a927cb6663480ea33ca917c3c8ba  ...    y\n",
              "12381  ea28a927cb6663480ea33ca917c3c8ba  ...    y\n",
              "12382  5532642937eb3497a43e15dbb23a9d2d  ...    y\n",
              "12383  a286b7286b1247d4a7851709e9f31e1e  ...    y\n",
              "\n",
              "[12368 rows x 7 columns]"
            ]
          },
          "metadata": {
            "tags": []
          },
          "execution_count": 137
        }
      ]
    },
    {
      "cell_type": "code",
      "metadata": {
        "colab": {
          "base_uri": "https://localhost:8080/",
          "height": 612
        },
        "id": "W66uxsjivRrx",
        "outputId": "46c7883d-e5d9-4791-a7c2-ab8167c3c4f6"
      },
      "source": [
        "#Removing unemotional words from the words list\n",
        "\n",
        "def unemotional_words(text):\n",
        "    text = [word for word in text if word not in emotional_words]\n",
        "    return text\n",
        "    \n",
        "df1['TEXT'] = df1['TEXT'].apply(lambda x: unemotional_words(x))\n",
        "df1['TEXT'] = df1['TEXT'].apply(lambda x:\" \".join(x))\n",
        "\n",
        "df1"
      ],
      "execution_count": 138,
      "outputs": [
        {
          "output_type": "stream",
          "text": [
            "/usr/local/lib/python3.7/dist-packages/ipykernel_launcher.py:7: SettingWithCopyWarning: \n",
            "A value is trying to be set on a copy of a slice from a DataFrame.\n",
            "Try using .loc[row_indexer,col_indexer] = value instead\n",
            "\n",
            "See the caveats in the documentation: https://pandas.pydata.org/pandas-docs/stable/user_guide/indexing.html#returning-a-view-versus-a-copy\n",
            "  import sys\n",
            "/usr/local/lib/python3.7/dist-packages/ipykernel_launcher.py:8: SettingWithCopyWarning: \n",
            "A value is trying to be set on a copy of a slice from a DataFrame.\n",
            "Try using .loc[row_indexer,col_indexer] = value instead\n",
            "\n",
            "See the caveats in the documentation: https://pandas.pydata.org/pandas-docs/stable/user_guide/indexing.html#returning-a-view-versus-a-copy\n",
            "  \n"
          ],
          "name": "stderr"
        },
        {
          "output_type": "execute_result",
          "data": {
            "text/html": [
              "<div>\n",
              "<style scoped>\n",
              "    .dataframe tbody tr th:only-of-type {\n",
              "        vertical-align: middle;\n",
              "    }\n",
              "\n",
              "    .dataframe tbody tr th {\n",
              "        vertical-align: top;\n",
              "    }\n",
              "\n",
              "    .dataframe thead th {\n",
              "        text-align: right;\n",
              "    }\n",
              "</style>\n",
              "<table border=\"1\" class=\"dataframe\">\n",
              "  <thead>\n",
              "    <tr style=\"text-align: right;\">\n",
              "      <th></th>\n",
              "      <th>#AUTHID</th>\n",
              "      <th>TEXT</th>\n",
              "      <th>cEXT</th>\n",
              "      <th>cNEU</th>\n",
              "      <th>cAGR</th>\n",
              "      <th>cCON</th>\n",
              "      <th>cOPN</th>\n",
              "    </tr>\n",
              "  </thead>\n",
              "  <tbody>\n",
              "    <tr>\n",
              "      <th>0</th>\n",
              "      <td>1997_504851.txt</td>\n",
              "      <td>well right now i just woke up from a it s of b...</td>\n",
              "      <td>n</td>\n",
              "      <td>y</td>\n",
              "      <td>y</td>\n",
              "      <td>n</td>\n",
              "      <td>y</td>\n",
              "    </tr>\n",
              "    <tr>\n",
              "      <th>1</th>\n",
              "      <td>1997_605191.txt</td>\n",
              "      <td>well here we go with the of i used to do like ...</td>\n",
              "      <td>n</td>\n",
              "      <td>n</td>\n",
              "      <td>y</td>\n",
              "      <td>n</td>\n",
              "      <td>n</td>\n",
              "    </tr>\n",
              "    <tr>\n",
              "      <th>2</th>\n",
              "      <td>1997_687252.txt</td>\n",
              "      <td>an keyboard and buttons to the worked and i ne...</td>\n",
              "      <td>n</td>\n",
              "      <td>y</td>\n",
              "      <td>n</td>\n",
              "      <td>y</td>\n",
              "      <td>y</td>\n",
              "    </tr>\n",
              "    <tr>\n",
              "      <th>3</th>\n",
              "      <td>1997_568848.txt</td>\n",
              "      <td>i can t believe it it s really my is racing li...</td>\n",
              "      <td>y</td>\n",
              "      <td>n</td>\n",
              "      <td>y</td>\n",
              "      <td>y</td>\n",
              "      <td>n</td>\n",
              "    </tr>\n",
              "    <tr>\n",
              "      <th>4</th>\n",
              "      <td>1997_688160.txt</td>\n",
              "      <td>well here i go with the old of again i like i ...</td>\n",
              "      <td>y</td>\n",
              "      <td>n</td>\n",
              "      <td>y</td>\n",
              "      <td>n</td>\n",
              "      <td>y</td>\n",
              "    </tr>\n",
              "    <tr>\n",
              "      <th>...</th>\n",
              "      <td>...</td>\n",
              "      <td>...</td>\n",
              "      <td>...</td>\n",
              "      <td>...</td>\n",
              "      <td>...</td>\n",
              "      <td>...</td>\n",
              "      <td>...</td>\n",
              "    </tr>\n",
              "    <tr>\n",
              "      <th>12379</th>\n",
              "      <td>deb899e426c1a5c66c24eeb0d7df6257</td>\n",
              "      <td>little give you away</td>\n",
              "      <td>n</td>\n",
              "      <td>n</td>\n",
              "      <td>y</td>\n",
              "      <td>n</td>\n",
              "      <td>y</td>\n",
              "    </tr>\n",
              "    <tr>\n",
              "      <th>12380</th>\n",
              "      <td>ea28a927cb6663480ea33ca917c3c8ba</td>\n",
              "      <td>is wishing it was</td>\n",
              "      <td>y</td>\n",
              "      <td>y</td>\n",
              "      <td>y</td>\n",
              "      <td>y</td>\n",
              "      <td>y</td>\n",
              "    </tr>\n",
              "    <tr>\n",
              "      <th>12381</th>\n",
              "      <td>ea28a927cb6663480ea33ca917c3c8ba</td>\n",
              "      <td>is hard for the g r e</td>\n",
              "      <td>y</td>\n",
              "      <td>y</td>\n",
              "      <td>y</td>\n",
              "      <td>y</td>\n",
              "      <td>y</td>\n",
              "    </tr>\n",
              "    <tr>\n",
              "      <th>12382</th>\n",
              "      <td>5532642937eb3497a43e15dbb23a9d2d</td>\n",
              "      <td>get more</td>\n",
              "      <td>n</td>\n",
              "      <td>y</td>\n",
              "      <td>n</td>\n",
              "      <td>n</td>\n",
              "      <td>y</td>\n",
              "    </tr>\n",
              "    <tr>\n",
              "      <th>12383</th>\n",
              "      <td>a286b7286b1247d4a7851709e9f31e1e</td>\n",
              "      <td>last was amazing not only did i see and s last...</td>\n",
              "      <td>y</td>\n",
              "      <td>y</td>\n",
              "      <td>n</td>\n",
              "      <td>y</td>\n",
              "      <td>y</td>\n",
              "    </tr>\n",
              "  </tbody>\n",
              "</table>\n",
              "<p>12368 rows × 7 columns</p>\n",
              "</div>"
            ],
            "text/plain": [
              "                                #AUTHID  ... cOPN\n",
              "0                       1997_504851.txt  ...    y\n",
              "1                       1997_605191.txt  ...    n\n",
              "2                       1997_687252.txt  ...    y\n",
              "3                       1997_568848.txt  ...    n\n",
              "4                       1997_688160.txt  ...    y\n",
              "...                                 ...  ...  ...\n",
              "12379  deb899e426c1a5c66c24eeb0d7df6257  ...    y\n",
              "12380  ea28a927cb6663480ea33ca917c3c8ba  ...    y\n",
              "12381  ea28a927cb6663480ea33ca917c3c8ba  ...    y\n",
              "12382  5532642937eb3497a43e15dbb23a9d2d  ...    y\n",
              "12383  a286b7286b1247d4a7851709e9f31e1e  ...    y\n",
              "\n",
              "[12368 rows x 7 columns]"
            ]
          },
          "metadata": {
            "tags": []
          },
          "execution_count": 138
        }
      ]
    },
    {
      "cell_type": "code",
      "metadata": {
        "id": "L8F1OIX_JtaB",
        "colab": {
          "base_uri": "https://localhost:8080/",
          "height": 932
        },
        "outputId": "ef9f6d55-9166-4479-b560-64fbcdea7534"
      },
      "source": [
        "con_col = ['#AUTHID','TEXT']\n",
        "df1['cEXT'] = df1['cEXT'].map({'y': 1, 'n': 0})\n",
        "df1['cCON'] = df1['cCON'].map({'y': 1, 'n': 0})\n",
        "df1['cNEU'] = df1['cNEU'].map({'y': 1, 'n': 0})\n",
        "df1['cOPN'] = df1['cOPN'].map({'y': 1, 'n': 0})\n",
        "df1['cAGR'] = df1['cAGR'].map({'y': 1, 'n': 0})\n",
        "df1"
      ],
      "execution_count": 139,
      "outputs": [
        {
          "output_type": "stream",
          "text": [
            "/usr/local/lib/python3.7/dist-packages/ipykernel_launcher.py:2: SettingWithCopyWarning: \n",
            "A value is trying to be set on a copy of a slice from a DataFrame.\n",
            "Try using .loc[row_indexer,col_indexer] = value instead\n",
            "\n",
            "See the caveats in the documentation: https://pandas.pydata.org/pandas-docs/stable/user_guide/indexing.html#returning-a-view-versus-a-copy\n",
            "  \n",
            "/usr/local/lib/python3.7/dist-packages/ipykernel_launcher.py:3: SettingWithCopyWarning: \n",
            "A value is trying to be set on a copy of a slice from a DataFrame.\n",
            "Try using .loc[row_indexer,col_indexer] = value instead\n",
            "\n",
            "See the caveats in the documentation: https://pandas.pydata.org/pandas-docs/stable/user_guide/indexing.html#returning-a-view-versus-a-copy\n",
            "  This is separate from the ipykernel package so we can avoid doing imports until\n",
            "/usr/local/lib/python3.7/dist-packages/ipykernel_launcher.py:4: SettingWithCopyWarning: \n",
            "A value is trying to be set on a copy of a slice from a DataFrame.\n",
            "Try using .loc[row_indexer,col_indexer] = value instead\n",
            "\n",
            "See the caveats in the documentation: https://pandas.pydata.org/pandas-docs/stable/user_guide/indexing.html#returning-a-view-versus-a-copy\n",
            "  after removing the cwd from sys.path.\n",
            "/usr/local/lib/python3.7/dist-packages/ipykernel_launcher.py:5: SettingWithCopyWarning: \n",
            "A value is trying to be set on a copy of a slice from a DataFrame.\n",
            "Try using .loc[row_indexer,col_indexer] = value instead\n",
            "\n",
            "See the caveats in the documentation: https://pandas.pydata.org/pandas-docs/stable/user_guide/indexing.html#returning-a-view-versus-a-copy\n",
            "  \"\"\"\n",
            "/usr/local/lib/python3.7/dist-packages/ipykernel_launcher.py:6: SettingWithCopyWarning: \n",
            "A value is trying to be set on a copy of a slice from a DataFrame.\n",
            "Try using .loc[row_indexer,col_indexer] = value instead\n",
            "\n",
            "See the caveats in the documentation: https://pandas.pydata.org/pandas-docs/stable/user_guide/indexing.html#returning-a-view-versus-a-copy\n",
            "  \n"
          ],
          "name": "stderr"
        },
        {
          "output_type": "execute_result",
          "data": {
            "text/html": [
              "<div>\n",
              "<style scoped>\n",
              "    .dataframe tbody tr th:only-of-type {\n",
              "        vertical-align: middle;\n",
              "    }\n",
              "\n",
              "    .dataframe tbody tr th {\n",
              "        vertical-align: top;\n",
              "    }\n",
              "\n",
              "    .dataframe thead th {\n",
              "        text-align: right;\n",
              "    }\n",
              "</style>\n",
              "<table border=\"1\" class=\"dataframe\">\n",
              "  <thead>\n",
              "    <tr style=\"text-align: right;\">\n",
              "      <th></th>\n",
              "      <th>#AUTHID</th>\n",
              "      <th>TEXT</th>\n",
              "      <th>cEXT</th>\n",
              "      <th>cNEU</th>\n",
              "      <th>cAGR</th>\n",
              "      <th>cCON</th>\n",
              "      <th>cOPN</th>\n",
              "    </tr>\n",
              "  </thead>\n",
              "  <tbody>\n",
              "    <tr>\n",
              "      <th>0</th>\n",
              "      <td>1997_504851.txt</td>\n",
              "      <td>well right now i just woke up from a it s of b...</td>\n",
              "      <td>0</td>\n",
              "      <td>1</td>\n",
              "      <td>1</td>\n",
              "      <td>0</td>\n",
              "      <td>1</td>\n",
              "    </tr>\n",
              "    <tr>\n",
              "      <th>1</th>\n",
              "      <td>1997_605191.txt</td>\n",
              "      <td>well here we go with the of i used to do like ...</td>\n",
              "      <td>0</td>\n",
              "      <td>0</td>\n",
              "      <td>1</td>\n",
              "      <td>0</td>\n",
              "      <td>0</td>\n",
              "    </tr>\n",
              "    <tr>\n",
              "      <th>2</th>\n",
              "      <td>1997_687252.txt</td>\n",
              "      <td>an keyboard and buttons to the worked and i ne...</td>\n",
              "      <td>0</td>\n",
              "      <td>1</td>\n",
              "      <td>0</td>\n",
              "      <td>1</td>\n",
              "      <td>1</td>\n",
              "    </tr>\n",
              "    <tr>\n",
              "      <th>3</th>\n",
              "      <td>1997_568848.txt</td>\n",
              "      <td>i can t believe it it s really my is racing li...</td>\n",
              "      <td>1</td>\n",
              "      <td>0</td>\n",
              "      <td>1</td>\n",
              "      <td>1</td>\n",
              "      <td>0</td>\n",
              "    </tr>\n",
              "    <tr>\n",
              "      <th>4</th>\n",
              "      <td>1997_688160.txt</td>\n",
              "      <td>well here i go with the old of again i like i ...</td>\n",
              "      <td>1</td>\n",
              "      <td>0</td>\n",
              "      <td>1</td>\n",
              "      <td>0</td>\n",
              "      <td>1</td>\n",
              "    </tr>\n",
              "    <tr>\n",
              "      <th>...</th>\n",
              "      <td>...</td>\n",
              "      <td>...</td>\n",
              "      <td>...</td>\n",
              "      <td>...</td>\n",
              "      <td>...</td>\n",
              "      <td>...</td>\n",
              "      <td>...</td>\n",
              "    </tr>\n",
              "    <tr>\n",
              "      <th>12379</th>\n",
              "      <td>deb899e426c1a5c66c24eeb0d7df6257</td>\n",
              "      <td>little give you away</td>\n",
              "      <td>0</td>\n",
              "      <td>0</td>\n",
              "      <td>1</td>\n",
              "      <td>0</td>\n",
              "      <td>1</td>\n",
              "    </tr>\n",
              "    <tr>\n",
              "      <th>12380</th>\n",
              "      <td>ea28a927cb6663480ea33ca917c3c8ba</td>\n",
              "      <td>is wishing it was</td>\n",
              "      <td>1</td>\n",
              "      <td>1</td>\n",
              "      <td>1</td>\n",
              "      <td>1</td>\n",
              "      <td>1</td>\n",
              "    </tr>\n",
              "    <tr>\n",
              "      <th>12381</th>\n",
              "      <td>ea28a927cb6663480ea33ca917c3c8ba</td>\n",
              "      <td>is hard for the g r e</td>\n",
              "      <td>1</td>\n",
              "      <td>1</td>\n",
              "      <td>1</td>\n",
              "      <td>1</td>\n",
              "      <td>1</td>\n",
              "    </tr>\n",
              "    <tr>\n",
              "      <th>12382</th>\n",
              "      <td>5532642937eb3497a43e15dbb23a9d2d</td>\n",
              "      <td>get more</td>\n",
              "      <td>0</td>\n",
              "      <td>1</td>\n",
              "      <td>0</td>\n",
              "      <td>0</td>\n",
              "      <td>1</td>\n",
              "    </tr>\n",
              "    <tr>\n",
              "      <th>12383</th>\n",
              "      <td>a286b7286b1247d4a7851709e9f31e1e</td>\n",
              "      <td>last was amazing not only did i see and s last...</td>\n",
              "      <td>1</td>\n",
              "      <td>1</td>\n",
              "      <td>0</td>\n",
              "      <td>1</td>\n",
              "      <td>1</td>\n",
              "    </tr>\n",
              "  </tbody>\n",
              "</table>\n",
              "<p>12368 rows × 7 columns</p>\n",
              "</div>"
            ],
            "text/plain": [
              "                                #AUTHID  ... cOPN\n",
              "0                       1997_504851.txt  ...    1\n",
              "1                       1997_605191.txt  ...    0\n",
              "2                       1997_687252.txt  ...    1\n",
              "3                       1997_568848.txt  ...    0\n",
              "4                       1997_688160.txt  ...    1\n",
              "...                                 ...  ...  ...\n",
              "12379  deb899e426c1a5c66c24eeb0d7df6257  ...    1\n",
              "12380  ea28a927cb6663480ea33ca917c3c8ba  ...    1\n",
              "12381  ea28a927cb6663480ea33ca917c3c8ba  ...    1\n",
              "12382  5532642937eb3497a43e15dbb23a9d2d  ...    1\n",
              "12383  a286b7286b1247d4a7851709e9f31e1e  ...    1\n",
              "\n",
              "[12368 rows x 7 columns]"
            ]
          },
          "metadata": {
            "tags": []
          },
          "execution_count": 139
        }
      ]
    },
    {
      "cell_type": "code",
      "metadata": {
        "id": "dC-bbYezl8Lz",
        "colab": {
          "base_uri": "https://localhost:8080/"
        },
        "outputId": "7a96df33-b14c-40de-b152-daccce3c8218"
      },
      "source": [
        "x = df1['TEXT']\n",
        "y = df1.drop(con_col,axis=1)\n",
        "y.isna().sum()"
      ],
      "execution_count": 140,
      "outputs": [
        {
          "output_type": "execute_result",
          "data": {
            "text/plain": [
              "cEXT    0\n",
              "cNEU    0\n",
              "cAGR    0\n",
              "cCON    0\n",
              "cOPN    0\n",
              "dtype: int64"
            ]
          },
          "metadata": {
            "tags": []
          },
          "execution_count": 140
        }
      ]
    },
    {
      "cell_type": "code",
      "metadata": {
        "id": "bxb1LG9C2L4z"
      },
      "source": [
        "#x_train[7787]\n"
      ],
      "execution_count": 141,
      "outputs": []
    },
    {
      "cell_type": "code",
      "metadata": {
        "id": "r4Uwh7SDJB28"
      },
      "source": [
        "from sklearn.model_selection import train_test_split\n",
        "x_train,x_test,yEXT_train,yEXT_test = train_test_split(x,y['cEXT'], test_size=0.20, random_state=42)\n",
        "x_train,x_test,yNEU_train,yNEU_test = train_test_split(x,y['cNEU'], test_size=0.20, random_state=42)\n",
        "x_train,x_test,yAGR_train,yAGR_test = train_test_split(x,y['cAGR'], test_size=0.20, random_state=42)\n",
        "x_train,x_test,yCON_train,yCON_test = train_test_split(x,y['cCON'], test_size=0.20, random_state=42)\n",
        "x_train,x_test,yOPN_train,yOPN_test = train_test_split(x,y['cOPN'], test_size=0.20, random_state=42)"
      ],
      "execution_count": 142,
      "outputs": []
    },
    {
      "cell_type": "markdown",
      "metadata": {
        "id": "2XW67HAs3P6j"
      },
      "source": [
        "Creating a bag of words method to create a vocabulary of each of the \n",
        "big five personality traits so that the model learns which words are associated \n",
        "with which trait."
      ]
    },
    {
      "cell_type": "code",
      "metadata": {
        "id": "gyzIWE5wJDDH"
      },
      "source": [
        "\n",
        "from sklearn.feature_extraction.text import CountVectorizer\n",
        "bow_vectorizer = CountVectorizer()\n",
        "\n",
        "# create vectors from our words\n",
        "train_x_vectors = bow_vectorizer.fit_transform(x_train)\n",
        "test_x_vectors = bow_vectorizer.transform(x_test)"
      ],
      "execution_count": 143,
      "outputs": []
    },
    {
      "cell_type": "code",
      "metadata": {
        "colab": {
          "base_uri": "https://localhost:8080/"
        },
        "id": "NFUnAy6cvoVI",
        "outputId": "09e5b000-3158-4ee9-b68a-72123c2e4097"
      },
      "source": [
        "len(bow_vectorizer.vocabulary_)"
      ],
      "execution_count": 144,
      "outputs": [
        {
          "output_type": "execute_result",
          "data": {
            "text/plain": [
              "5493"
            ]
          },
          "metadata": {
            "tags": []
          },
          "execution_count": 144
        }
      ]
    },
    {
      "cell_type": "markdown",
      "metadata": {
        "id": "nABqfIY_3kXC"
      },
      "source": [
        "##Model Building"
      ]
    },
    {
      "cell_type": "code",
      "metadata": {
        "colab": {
          "base_uri": "https://localhost:8080/"
        },
        "id": "GT5icb2iMfPt",
        "outputId": "b22350f3-a07a-4396-8e67-b64d1bb651b6"
      },
      "source": [
        "from sklearn import svm\n",
        "from sklearn.metrics import f1_score,accuracy_score\n",
        "name = \"svm\"\n",
        "evaluation = []\n",
        "\n",
        "print(\"training Extraversion cEXT using SVM...\")\n",
        "clf_svm_cEXT = svm.SVC(kernel='linear',probability=True)\n",
        "clf_svm_cEXT.fit(train_x_vectors, yEXT_train)\n",
        "evaluation.append([name, \"cEXT\", clf_svm_cEXT.score(test_x_vectors, yEXT_test)])\n",
        "predEXT_svm = clf_svm_cEXT.predict(test_x_vectors)\n",
        "print(\"cEXT score: \",\"accuracy score\", accuracy_score(yEXT_test,predEXT_svm), \"f1 score\", f1_score(yEXT_test,predEXT_svm),\n",
        "      \"ROC AUC score\",roc_auc_score(yEXT_test,clf_svm_cEXT.predict_proba(test_x_vectors)[:,1]))\n",
        "\n",
        "try:\n",
        "    print(\"training Neuroticism cNEU using SVM...\")\n",
        "    clf_svm_cNEU = svm.SVC(kernel='linear',probability=True)\n",
        "    clf_svm_cNEU.fit(train_x_vectors, yNEU_train)\n",
        "    evaluation.append([name, \"cNEU\", clf_svm_cNEU.score(test_x_vectors, yNEU_test)])\n",
        "    predNEU_svm = clf_svm_cNEU.predict(test_x_vectors)\n",
        "    print(\"cNEU score: \", \"accuracy score\", accuracy_score(yNEU_test,predNEU_svm), \"f1 score\", f1_score(yNEU_test,predNEU_svm),\n",
        "          \"ROC AUC score\",roc_auc_score(yNEU_test,clf_svm_cNEU.predict_proba(test_x_vectors)[:,1]))\n",
        "except:\n",
        "    print(\"with this data not available (MBTI only 4 dimensions)\")\n",
        "    \n",
        "print(\"training Agreeableness cAGR using using SVM...\")\n",
        "clf_svm_cAGR = svm.SVC(kernel='linear',probability=True)\n",
        "clf_svm_cAGR.fit(train_x_vectors, yAGR_train)\n",
        "evaluation.append([ name, \"cAGR\", clf_svm_cAGR.score(test_x_vectors, yAGR_test)])\n",
        "predAGR_svm = clf_svm_cAGR.predict(test_x_vectors)\n",
        "print(\"cAGR score: \", \"accuracy score\", accuracy_score(yAGR_test,predAGR_svm), \"f1 score\", f1_score(yAGR_test,predAGR_svm),\n",
        "      \"ROC AUC score\",roc_auc_score(yAGR_test,clf_svm_cAGR.predict_proba(test_x_vectors)[:,1]))\n",
        "\n",
        "print(\"training Conscientiousness cCON using SVM...\")\n",
        "clf_svm_cCON = svm.SVC(kernel='linear',probability=True)\n",
        "clf_svm_cCON.fit(train_x_vectors, yCON_train)\n",
        "evaluation.append([ name, \"cCON\", clf_svm_cCON.score(test_x_vectors, yCON_test)])\n",
        "predCON_svm = clf_svm_cCON.predict(test_x_vectors)\n",
        "print(\"cCON score: \",\"accuracy score\", accuracy_score(yCON_test,predCON_svm), \"f1 score\", f1_score(yCON_test,predCON_svm),\n",
        "      \"ROC AUC score\",roc_auc_score(yCON_test,clf_svm_cCON.predict_proba(test_x_vectors)[:,1]))\n",
        "\n",
        "print(\"training Openness to Experience cOPN using SVM...\")\n",
        "clf_svm_cOPN = svm.SVC(kernel='linear',probability=True)\n",
        "clf_svm_cOPN.fit(train_x_vectors, yOPN_train)\n",
        "evaluation.append([ name, \"cOPN\", clf_svm_cOPN.score(test_x_vectors, yOPN_test)])\n",
        "\n",
        "predOPN_svm = clf_svm_cOPN.predict(test_x_vectors)\n",
        "print(\"cOPN score: \", \"accuracy score\", accuracy_score(yOPN_test,predOPN_svm), \"f1 score\", f1_score(yOPN_test,predOPN_svm),\n",
        "      \"ROC AUC score\",roc_auc_score(yOPN_test,clf_svm_cOPN.predict_proba(test_x_vectors)[:,1]))"
      ],
      "execution_count": 145,
      "outputs": [
        {
          "output_type": "stream",
          "text": [
            "training Extraversion cEXT using SVM...\n",
            "cEXT score:  accuracy score 0.5695230396119644 f1 score 0.2740286298568507 ROC AUC score 0.5361316174514499\n",
            "training Neuroticism cNEU using SVM...\n",
            "cNEU score:  accuracy score 0.5885206143896524 f1 score 0.24143070044709392 ROC AUC score 0.5484781714672773\n",
            "training Agreeableness cAGR using using SVM...\n",
            "cAGR score:  accuracy score 0.5404203718674212 f1 score 0.6519742883379247 ROC AUC score 0.5195796651810322\n",
            "training Conscientiousness cCON using SVM...\n",
            "cCON score:  accuracy score 0.555375909458367 f1 score 0.3268053855569156 ROC AUC score 0.5553732986917072\n",
            "training Openness to Experience cOPN using SVM...\n",
            "cOPN score:  accuracy score 0.7037186742118028 f1 score 0.8129624904312325 ROC AUC score 0.5960251398517737\n"
          ],
          "name": "stdout"
        }
      ]
    },
    {
      "cell_type": "code",
      "metadata": {
        "id": "PYrcwaAynKvS"
      },
      "source": [
        "\n",
        "from sklearn import metrics"
      ],
      "execution_count": 146,
      "outputs": []
    },
    {
      "cell_type": "code",
      "metadata": {
        "colab": {
          "base_uri": "https://localhost:8080/"
        },
        "id": "E_DPDhjUOC4U",
        "outputId": "f55e5dac-bd10-4e34-9684-f077c2a516fe"
      },
      "source": [
        "from sklearn import tree\n",
        "name = \"tree\"\n",
        "#evaluation = []\n",
        "\n",
        "print(\"training Extraversion cEXT using TREE...\")\n",
        "clf_dec_cEXT = tree.DecisionTreeClassifier()\n",
        "clf_dec_cEXT.fit(train_x_vectors, yEXT_train)\n",
        "evaluation.append([name, \"cEXT\", clf_dec_cEXT.score(test_x_vectors, yEXT_test)])\n",
        "predEXT_dec = clf_dec_cEXT.predict(test_x_vectors)\n",
        "print(\"cEXT score: \",\"accuracy score\", accuracy_score(yEXT_test,predEXT_dec), \"f1 score\", f1_score(yEXT_test,predEXT_dec),\n",
        "      \"ROC AUC score\",roc_auc_score(yEXT_test,clf_dec_cEXT.predict_proba(test_x_vectors)[:,1]))\n",
        "\n",
        "try:\n",
        "    print(\"training Neuroticism cNEU using TREE...\")\n",
        "    clf_dec_cNEU = tree.DecisionTreeClassifier()\n",
        "    clf_dec_cNEU.fit(train_x_vectors, yNEU_train)\n",
        "    evaluation.append([name, \"cNEU\", clf_dec_cNEU.score(test_x_vectors, yNEU_test)])\n",
        "    predNEU_dec = clf_dec_cNEU.predict(test_x_vectors)\n",
        "    print(\"cNEU score: \", \"accuracy score\", accuracy_score(yNEU_test,predNEU_dec), \"f1 score\", f1_score(yNEU_test,predNEU_dec),\n",
        "          \"ROC AUC score\",roc_auc_score(yNEU_test,clf_dec_cNEU.predict_proba(test_x_vectors)[:,1]))\n",
        "except:\n",
        "    print(\"with this data not available (MBTI only 4 dimensions)\")\n",
        "    \n",
        "print(\"training Agreeableness cAGR using using TREE...\")\n",
        "clf_dec_cAGR = tree.DecisionTreeClassifier()\n",
        "clf_dec_cAGR.fit(train_x_vectors, yAGR_train)\n",
        "evaluation.append([ name, \"cAGR\", clf_dec_cAGR.score(test_x_vectors, yAGR_test)])\n",
        "predAGR_dec = clf_dec_cAGR.predict(test_x_vectors)\n",
        "print(\"cAGR score: \", \"accuracy score\", accuracy_score(yAGR_test,predAGR_dec), \"f1 score\", f1_score(yAGR_test,predAGR_dec),\n",
        "      \"ROC AUC score\",roc_auc_score(yAGR_test,clf_dec_cAGR.predict_proba(test_x_vectors)[:,1]))\n",
        "\n",
        "print(\"training Conscientiousness cCON using TREE...\")\n",
        "clf_dec_cCON = tree.DecisionTreeClassifier()\n",
        "clf_dec_cCON.fit(train_x_vectors, yCON_train)\n",
        "evaluation.append([ name, \"cCON\", clf_dec_cCON.score(test_x_vectors, yCON_test)])\n",
        "predCON_dec = clf_dec_cCON.predict(test_x_vectors)\n",
        "print(\"cCON score: \",\"accuracy score\", accuracy_score(yCON_test,predCON_dec), \"f1 score\", f1_score(yCON_test,predCON_dec),\n",
        "      \"ROC AUC score\",roc_auc_score(yCON_test,clf_dec_cCON.predict_proba(test_x_vectors)[:,1]))\n",
        "\n",
        "print(\"training Openness to Experience cOPN using TREE...\")\n",
        "clf_dec_cOPN = tree.DecisionTreeClassifier()\n",
        "clf_dec_cOPN.fit(train_x_vectors, yOPN_train)\n",
        "evaluation.append([ name, \"cOPN\", clf_dec_cOPN.score(test_x_vectors, yOPN_test)])\n",
        "predOPN_dec = clf_dec_cOPN.predict(test_x_vectors)\n",
        "print(\"cOPN score: \", \"accuracy score\", accuracy_score(yOPN_test,predOPN_dec), \"f1 score\", f1_score(yOPN_test,predOPN_dec),\n",
        "      \"ROC AUC score\",roc_auc_score(yOPN_test,clf_dec_cOPN.predict_proba(test_x_vectors)[:,1]))"
      ],
      "execution_count": 147,
      "outputs": [
        {
          "output_type": "stream",
          "text": [
            "training Extraversion cEXT using TREE...\n",
            "cEXT score:  accuracy score 0.5375909458367018 f1 score 0.4583333333333333 ROC AUC score 0.5235913806863528\n",
            "training Neuroticism cNEU using TREE...\n",
            "cNEU score:  accuracy score 0.547696038803557 f1 score 0.40064274236743436 ROC AUC score 0.5293261270414691\n",
            "training Agreeableness cAGR using using TREE...\n",
            "cAGR score:  accuracy score 0.5408245755860954 f1 score 0.5513428120063191 ROC AUC score 0.5420259356085065\n",
            "training Conscientiousness cCON using TREE...\n",
            "cCON score:  accuracy score 0.5040420371867421 f1 score 0.4881101376720901 ROC AUC score 0.5106222963705424\n",
            "training Openness to Experience cOPN using TREE...\n",
            "cOPN score:  accuracy score 0.624090541632983 f1 score 0.7327586206896551 ROC AUC score 0.5415231475746844\n"
          ],
          "name": "stdout"
        }
      ]
    },
    {
      "cell_type": "code",
      "metadata": {
        "colab": {
          "base_uri": "https://localhost:8080/"
        },
        "id": "e-wcVwX26FyK",
        "outputId": "57fce0d0-2274-4d01-cf23-e6d731f89c3a"
      },
      "source": [
        "from sklearn.naive_bayes import GaussianNB\n",
        "name = \"gNB\"\n",
        "#evaluation = []\n",
        "\n",
        "print(\"training Extraversion cEXT using gNB...\")\n",
        "clf_gnb_cEXT = GaussianNB()\n",
        "clf_gnb_cEXT.fit(train_x_vectors.toarray(), yEXT_train)\n",
        "evaluation.append([name, \"cEXT\", clf_gnb_cEXT.score(test_x_vectors.toarray(), yEXT_test)])\n",
        "predEXT_gnb = clf_gnb_cEXT.predict(test_x_vectors.toarray())\n",
        "print(\"cEXT score: \",\"accuracy score\", accuracy_score(yEXT_test,predEXT_gnb), \"f1 score\", f1_score(yEXT_test,predEXT_gnb),\n",
        "      \"ROC AUC score\",roc_auc_score(yEXT_test,clf_gnb_cEXT.predict_proba(test_x_vectors.toarray())[:,1]))\n",
        "\n",
        "try:\n",
        "    print(\"training Neuroticism cNEU using gNB...\")\n",
        "    clf_gnb_cNEU = GaussianNB()\n",
        "    clf_gnb_cNEU.fit(train_x_vectors.toarray(), yNEU_train)\n",
        "    evaluation.append([name, \"cNEU\", clf_gnb_cNEU.score(test_x_vectors.toarray(), yNEU_test)])\n",
        "    predNEU_gnb = clf_gnb_cNEU.predict(test_x_vectors.toarray())\n",
        "    print(\"cNEU score: \", \"accuracy score\", accuracy_score(yNEU_test,predNEU_gnb), \"f1 score\", f1_score(yNEU_test,predNEU_gnb),\n",
        "          \"ROC AUC score\",roc_auc_score(yNEU_test,clf_gnb_cNEU.predict_proba(test_x_vectors.toarray())[:,1]))\n",
        "except:\n",
        "    print(\"with this data not available (MBTI only 4 dimensions)\")\n",
        "    \n",
        "print(\"training Agreeableness cAGR using using gNB...\")\n",
        "clf_gnb_cAGR = GaussianNB()\n",
        "clf_gnb_cAGR.fit(train_x_vectors.toarray(), yAGR_train)\n",
        "evaluation.append([ name, \"cAGR\", clf_gnb_cAGR.score(test_x_vectors.toarray(), yAGR_test)])\n",
        "predAGR_gnb = clf_gnb_cAGR.predict(test_x_vectors.toarray())\n",
        "print(\"cAGR score: \", \"accuracy score\", accuracy_score(yAGR_test,predAGR_gnb), \"f1 score\", f1_score(yAGR_test,predAGR_gnb),\n",
        "      \"ROC AUC score\",roc_auc_score(yAGR_test,clf_gnb_cAGR.predict_proba(test_x_vectors.toarray())[:,1]))\n",
        "\n",
        "print(\"training Conscientiousness cCON using gNB...\")\n",
        "clf_gnb_cCON = GaussianNB()\n",
        "clf_gnb_cCON.fit(train_x_vectors.toarray(), yCON_train)\n",
        "evaluation.append([ name, \"cCON\", clf_gnb_cCON.score(test_x_vectors.toarray(), yCON_test)])\n",
        "predCON_gnb = clf_gnb_cCON.predict(test_x_vectors.toarray())\n",
        "print(\"cCON score: \",\"accuracy score\", accuracy_score(yCON_test,predCON_gnb), \"f1 score\", f1_score(yCON_test,predCON_gnb),\n",
        "      \"ROC AUC score\",roc_auc_score(yCON_test,clf_gnb_cCON.predict_proba(test_x_vectors.toarray())[:,1]))\n",
        "\n",
        "print(\"training Openness to Experience cOPN using gNB...\")\n",
        "clf_gnb_cOPN = GaussianNB()\n",
        "clf_gnb_cOPN.fit(train_x_vectors.toarray(), yOPN_train)\n",
        "evaluation.append([ name, \"cOPN\", clf_gnb_cOPN.score(test_x_vectors.toarray(), yOPN_test)])\n",
        "predOPN_gnb = clf_gnb_cOPN.predict(test_x_vectors.toarray())\n",
        "print(\"cOPN score: \", \"accuracy score\", accuracy_score(yOPN_test,predOPN_gnb), \"f1 score\", f1_score(yOPN_test,predOPN_gnb),\n",
        "      \"ROC AUC score\",roc_auc_score(yOPN_test,clf_gnb_cOPN.predict_proba(test_x_vectors.toarray())[:,1]))"
      ],
      "execution_count": 148,
      "outputs": [
        {
          "output_type": "stream",
          "text": [
            "training Extraversion cEXT using gNB...\n",
            "cEXT score:  accuracy score 0.45715440582053357 f1 score 0.5926599939338792 ROC AUC score 0.5103431763766959\n",
            "training Neuroticism cNEU using gNB...\n",
            "cNEU score:  accuracy score 0.42764753435731606 f1 score 0.5656441717791411 ROC AUC score 0.493612513305164\n",
            "training Agreeableness cAGR using using gNB...\n",
            "cAGR score:  accuracy score 0.5303152789005658 f1 score 0.6626016260162602 ROC AUC score 0.5084610296549443\n",
            "training Conscientiousness cCON using gNB...\n",
            "cCON score:  accuracy score 0.47049312853678255 f1 score 0.6066066066066066 ROC AUC score 0.5079361415910529\n",
            "training Openness to Experience cOPN using gNB...\n",
            "cOPN score:  accuracy score 0.3395311236863379 f1 score 0.18544366899302095 ROC AUC score 0.48613253585829486\n"
          ],
          "name": "stdout"
        }
      ]
    },
    {
      "cell_type": "code",
      "metadata": {
        "colab": {
          "base_uri": "https://localhost:8080/"
        },
        "id": "HiSHVXNucDKJ",
        "outputId": "2208bde4-b0a1-4568-ab26-bdcc7d3a5e4d"
      },
      "source": [
        "from sklearn.linear_model import LogisticRegression\n",
        "name = \"logR\"\n",
        "#evaluation = []\n",
        "\n",
        "print(\"training Extraversion cEXT using LogR...\")\n",
        "clf_log_cEXT = LogisticRegression()\n",
        "clf_log_cEXT.fit(train_x_vectors, yEXT_train)\n",
        "evaluation.append([name, \"cEXT\", clf_log_cEXT.score(test_x_vectors, yEXT_test)])\n",
        "print(\"cEXT score: \", clf_log_cEXT.score(test_x_vectors, yEXT_test))\n",
        "predEXT_log = clf_log_cEXT.predict(test_x_vectors)\n",
        "print(\"cEXT score: \",\"accuracy score\", accuracy_score(yEXT_test,predEXT_log), \"f1 score\", f1_score(yEXT_test,predEXT_log),\n",
        "      \"ROC AUC score\",roc_auc_score(yEXT_test,clf_log_cEXT.predict_proba(test_x_vectors)[:,1]))\n",
        "\n",
        "try:\n",
        "    print(\"training Neuroticism cNEU using LogR...\")\n",
        "    clf_log_cNEU = LogisticRegression(solver='newton-cg')\n",
        "    clf_log_cNEU.fit(train_x_vectors, yNEU_train)\n",
        "    evaluation.append([name, \"cNEU\", clf_log_cNEU.score(test_x_vectors, yNEU_test)])\n",
        "    predNEU_log = clf_log_cNEU.predict(test_x_vectors)\n",
        "    print(\"cNEU score: \", \"accuracy score\", accuracy_score(yNEU_test,predNEU_log), \"f1 score\", f1_score(yNEU_test,predNEU_log),\n",
        "          \"ROC AUC score\",roc_auc_score(yNEU_test,clf_log_cNEU.predict_proba(test_x_vectors)[:,1]))\n",
        "except:\n",
        "    print(\"with this data not available (MBTI only 4 dimensions)\")\n",
        "    \n",
        "print(\"training Agreeableness cAGR using using LogR...\")\n",
        "clf_log_cAGR = LogisticRegression(solver='newton-cg')\n",
        "clf_log_cAGR.fit(train_x_vectors, yAGR_train)\n",
        "evaluation.append([ name, \"cAGR\", clf_log_cAGR.score(test_x_vectors, yAGR_test)])\n",
        "predAGR_log = clf_log_cAGR.predict(test_x_vectors)\n",
        "print(\"cAGR score: \", \"accuracy score\", accuracy_score(yAGR_test,predAGR_log), \"f1 score\", f1_score(yAGR_test,predAGR_log),\n",
        "      \"ROC AUC score\",roc_auc_score(yAGR_test,clf_log_cAGR.predict_proba(test_x_vectors)[:,1]))\n",
        "\n",
        "print(\"training Conscientiousness cCON using LogR...\")\n",
        "clf_log_cCON = LogisticRegression(solver='newton-cg')\n",
        "clf_log_cCON.fit(train_x_vectors, yCON_train)\n",
        "evaluation.append([ name, \"cCON\", clf_log_cCON.score(test_x_vectors, yCON_test)])\n",
        "predCON_log = clf_log_cCON.predict(test_x_vectors)\n",
        "print(\"cCON score: \",\"accuracy score\", accuracy_score(yCON_test,predCON_log), \"f1 score\", f1_score(yCON_test,predCON_log),\n",
        "      \"ROC AUC score\",roc_auc_score(yCON_test,clf_log_cCON.predict_proba(test_x_vectors)[:,1]))\n",
        "\n",
        "print(\"training Openness to Experience cOPN using LogR...\")\n",
        "clf_log_cOPN = LogisticRegression(solver='newton-cg')\n",
        "clf_log_cOPN.fit(train_x_vectors, yOPN_train)\n",
        "evaluation.append([ name, \"cOPN\", clf_log_cOPN.score(test_x_vectors, yOPN_test)])\n",
        "predOPN_log = clf_log_cOPN.predict(test_x_vectors)\n",
        "print(\"cOPN score: \", \"accuracy score\", accuracy_score(yOPN_test,predOPN_log), \"f1 score\", f1_score(yOPN_test,predOPN_log),\n",
        "      \"ROC AUC score\",roc_auc_score(yOPN_test,clf_log_cOPN.predict_proba(test_x_vectors)[:,1]))"
      ],
      "execution_count": 149,
      "outputs": [
        {
          "output_type": "stream",
          "text": [
            "training Extraversion cEXT using LogR...\n"
          ],
          "name": "stdout"
        },
        {
          "output_type": "stream",
          "text": [
            "/usr/local/lib/python3.7/dist-packages/sklearn/linear_model/_logistic.py:940: ConvergenceWarning: lbfgs failed to converge (status=1):\n",
            "STOP: TOTAL NO. of ITERATIONS REACHED LIMIT.\n",
            "\n",
            "Increase the number of iterations (max_iter) or scale the data as shown in:\n",
            "    https://scikit-learn.org/stable/modules/preprocessing.html\n",
            "Please also refer to the documentation for alternative solver options:\n",
            "    https://scikit-learn.org/stable/modules/linear_model.html#logistic-regression\n",
            "  extra_warning_msg=_LOGISTIC_SOLVER_CONVERGENCE_MSG)\n"
          ],
          "name": "stderr"
        },
        {
          "output_type": "stream",
          "text": [
            "cEXT score:  0.5598221503637834\n",
            "cEXT score:  accuracy score 0.5598221503637834 f1 score 0.3103229892336922 ROC AUC score 0.5264927507315775\n",
            "training Neuroticism cNEU using LogR...\n",
            "cNEU score:  accuracy score 0.5929668552950688 f1 score 0.2992345163535143 ROC AUC score 0.543932576417336\n",
            "training Agreeableness cAGR using using LogR...\n",
            "cAGR score:  accuracy score 0.5355699272433306 f1 score 0.622163761920421 ROC AUC score 0.521466565349544\n",
            "training Conscientiousness cCON using LogR...\n",
            "cCON score:  accuracy score 0.5412287793047696 f1 score 0.394020288307528 ROC AUC score 0.5509805602447774\n",
            "training Openness to Experience cOPN using LogR...\n",
            "cOPN score:  accuracy score 0.7122069523039612 f1 score 0.8179028132992328 ROC AUC score 0.5763670313724978\n"
          ],
          "name": "stdout"
        }
      ]
    },
    {
      "cell_type": "code",
      "metadata": {
        "colab": {
          "base_uri": "https://localhost:8080/"
        },
        "id": "yShPYtTI7IAe",
        "outputId": "2e11d765-23f4-41cb-9e1b-e650a75880f9"
      },
      "source": [
        "from sklearn.ensemble import RandomForestClassifier\n",
        "name = \"RF\"\n",
        "#evaluation = []\n",
        "\n",
        "print(\"training Extraversion cEXT using RF...\")\n",
        "clf_rf_cEXT = RandomForestClassifier()\n",
        "clf_rf_cEXT.fit(train_x_vectors, yEXT_train)\n",
        "evaluation.append([name, \"cEXT\", clf_rf_cEXT.score(test_x_vectors, yEXT_test)])\n",
        "predEXT_rf = clf_rf_cEXT.predict(test_x_vectors)\n",
        "print(\"cEXT score: \",\"accuracy score\", accuracy_score(yEXT_test,predEXT_rf), \"f1 score\", f1_score(yEXT_test,predEXT_rf),\n",
        "      \"ROC AUC score\",roc_auc_score(yEXT_test,clf_rf_cEXT.predict_proba(test_x_vectors)[:,1]))\n",
        "\n",
        "try:\n",
        "    print(\"training Neuroticism cNEU using RF...\")\n",
        "    clf_rf_cNEU = RandomForestClassifier()\n",
        "    clf_rf_cNEU.fit(train_x_vectors, yNEU_train)\n",
        "    evaluation.append([name, \"cNEU\", clf_rf_cNEU.score(test_x_vectors, yNEU_test)])\n",
        "    predNEU_rf = clf_rf_cNEU.predict(test_x_vectors)\n",
        "    print(\"cNEU score: \", \"accuracy score\", accuracy_score(yNEU_test,predNEU_rf), \"f1 score\", f1_score(yNEU_test,predNEU_rf),\n",
        "          \"ROC AUC score\",roc_auc_score(yNEU_test,clf_rf_cNEU.predict_proba(test_x_vectors)[:,1]))\n",
        "except:\n",
        "    print(\"with this data not available (MBTI only 4 dimensions)\")\n",
        "    \n",
        "print(\"training Agreeableness cAGR using using RF...\")\n",
        "clf_rf_cAGR = RandomForestClassifier()\n",
        "clf_rf_cAGR.fit(train_x_vectors, yAGR_train)\n",
        "evaluation.append([ name, \"cAGR\", clf_rf_cAGR.score(test_x_vectors, yAGR_test)])\n",
        "predAGR_rf = clf_rf_cAGR.predict(test_x_vectors)\n",
        "print(\"cAGR score: \", \"accuracy score\", accuracy_score(yAGR_test,predAGR_rf), \"f1 score\", f1_score(yAGR_test,predAGR_rf),\n",
        "      \"ROC AUC score\",roc_auc_score(yAGR_test,clf_rf_cAGR.predict_proba(test_x_vectors)[:,1]))\n",
        "\n",
        "print(\"training Conscientiousness cCON using RF...\")\n",
        "clf_rf_cCON = RandomForestClassifier()\n",
        "clf_rf_cCON.fit(train_x_vectors, yCON_train)\n",
        "evaluation.append([ name, \"cCON\", clf_rf_cCON.score(test_x_vectors, yCON_test)])\n",
        "predCON_rf = clf_rf_cCON.predict(test_x_vectors)\n",
        "print(\"cCON score: \",\"accuracy score\", accuracy_score(yCON_test,predCON_rf), \"f1 score\", f1_score(yCON_test,predCON_rf),\n",
        "      \"ROC AUC score\",roc_auc_score(yCON_test,clf_rf_cCON.predict_proba(test_x_vectors)[:,1]))\n",
        "\n",
        "print(\"training Openness to Experience cOPN using RF...\")\n",
        "clf_rf_cOPN = RandomForestClassifier()\n",
        "clf_rf_cOPN.fit(train_x_vectors, yOPN_train)\n",
        "evaluation.append([ name, \"cOPN\", clf_rf_cOPN.score(test_x_vectors, yOPN_test)])\n",
        "predOPN_rf = clf_rf_cOPN.predict(test_x_vectors)\n",
        "print(\"cOPN score: \", \"accuracy score\", accuracy_score(yOPN_test,predOPN_rf), \"f1 score\", f1_score(yOPN_test,predOPN_rf),\n",
        "      \"ROC AUC score\",roc_auc_score(yOPN_test,clf_rf_cOPN.predict_proba(test_x_vectors)[:,1]))"
      ],
      "execution_count": 150,
      "outputs": [
        {
          "output_type": "stream",
          "text": [
            "training Extraversion cEXT using RF...\n",
            "cEXT score:  accuracy score 0.555375909458367 f1 score 0.4450050454086781 ROC AUC score 0.5467368316041501\n",
            "training Neuroticism cNEU using RF...\n",
            "cNEU score:  accuracy score 0.5759902991107518 f1 score 0.3029900332225913 ROC AUC score 0.5831619789482738\n",
            "training Agreeableness cAGR using using RF...\n",
            "cAGR score:  accuracy score 0.5375909458367018 f1 score 0.5849056603773586 ROC AUC score 0.5464201720816206\n",
            "training Conscientiousness cCON using RF...\n",
            "cCON score:  accuracy score 0.5444624090541633 f1 score 0.5119099177132957 ROC AUC score 0.5592896048744461\n",
            "training Openness to Experience cOPN using RF...\n",
            "cOPN score:  accuracy score 0.6960388035569928 f1 score 0.8045738045738046 ROC AUC score 0.6257911982821563\n"
          ],
          "name": "stdout"
        }
      ]
    },
    {
      "cell_type": "code",
      "metadata": {
        "colab": {
          "base_uri": "https://localhost:8080/"
        },
        "id": "VEySfQMfocnh",
        "outputId": "7ad737d6-2188-42d8-96bf-99dc83531b56"
      },
      "source": [
        "from sklearn.metrics import roc_auc_score\n",
        "#p = clf_rf_cOPN.predict_proba(test_x_vectors)\n",
        "roc_auc_score(yOPN_test,clf_rf_cOPN.predict_proba(test_x_vectors)[:,1])\n",
        "#type(clf_rf_cOPN.predict_proba(test_x_vectors)[:,1])"
      ],
      "execution_count": 151,
      "outputs": [
        {
          "output_type": "execute_result",
          "data": {
            "text/plain": [
              "0.6257911982821563"
            ]
          },
          "metadata": {
            "tags": []
          },
          "execution_count": 151
        }
      ]
    },
    {
      "cell_type": "markdown",
      "metadata": {
        "id": "4mLX1ZP23o6U"
      },
      "source": [
        "##Evaluating results"
      ]
    },
    {
      "cell_type": "code",
      "metadata": {
        "colab": {
          "base_uri": "https://localhost:8080/"
        },
        "id": "QE8hFzKTVvFB",
        "outputId": "f07a1433-d3e2-4457-fa81-2681e034bcd7"
      },
      "source": [
        "evaluation"
      ],
      "execution_count": 152,
      "outputs": [
        {
          "output_type": "execute_result",
          "data": {
            "text/plain": [
              "[['svm', 'cEXT', 0.5695230396119644],\n",
              " ['svm', 'cNEU', 0.5885206143896524],\n",
              " ['svm', 'cAGR', 0.5404203718674212],\n",
              " ['svm', 'cCON', 0.555375909458367],\n",
              " ['svm', 'cOPN', 0.7037186742118028],\n",
              " ['tree', 'cEXT', 0.5375909458367018],\n",
              " ['tree', 'cNEU', 0.547696038803557],\n",
              " ['tree', 'cAGR', 0.5408245755860954],\n",
              " ['tree', 'cCON', 0.5040420371867421],\n",
              " ['tree', 'cOPN', 0.624090541632983],\n",
              " ['gNB', 'cEXT', 0.45715440582053357],\n",
              " ['gNB', 'cNEU', 0.42764753435731606],\n",
              " ['gNB', 'cAGR', 0.5303152789005658],\n",
              " ['gNB', 'cCON', 0.47049312853678255],\n",
              " ['gNB', 'cOPN', 0.3395311236863379],\n",
              " ['logR', 'cEXT', 0.5598221503637834],\n",
              " ['logR', 'cNEU', 0.5929668552950688],\n",
              " ['logR', 'cAGR', 0.5355699272433306],\n",
              " ['logR', 'cCON', 0.5412287793047696],\n",
              " ['logR', 'cOPN', 0.7122069523039612],\n",
              " ['RF', 'cEXT', 0.555375909458367],\n",
              " ['RF', 'cNEU', 0.5759902991107518],\n",
              " ['RF', 'cAGR', 0.5375909458367018],\n",
              " ['RF', 'cCON', 0.5444624090541633],\n",
              " ['RF', 'cOPN', 0.6960388035569928]]"
            ]
          },
          "metadata": {
            "tags": []
          },
          "execution_count": 152
        }
      ]
    },
    {
      "cell_type": "code",
      "metadata": {
        "id": "yvEiYSKh9UNG",
        "colab": {
          "base_uri": "https://localhost:8080/",
          "height": 194
        },
        "outputId": "8b4d290f-f4a3-40e8-af9a-2f662e4a405b"
      },
      "source": [
        "d = pd.DataFrame(evaluation,columns=['1','2','3'])\n",
        "#df.loc[df['#AUTHID'] == i\n",
        "d1 = d.loc[d['2']=='cEXT']\n",
        "d1\n",
        "#RF\n",
        "#57%"
      ],
      "execution_count": 153,
      "outputs": [
        {
          "output_type": "execute_result",
          "data": {
            "text/html": [
              "<div>\n",
              "<style scoped>\n",
              "    .dataframe tbody tr th:only-of-type {\n",
              "        vertical-align: middle;\n",
              "    }\n",
              "\n",
              "    .dataframe tbody tr th {\n",
              "        vertical-align: top;\n",
              "    }\n",
              "\n",
              "    .dataframe thead th {\n",
              "        text-align: right;\n",
              "    }\n",
              "</style>\n",
              "<table border=\"1\" class=\"dataframe\">\n",
              "  <thead>\n",
              "    <tr style=\"text-align: right;\">\n",
              "      <th></th>\n",
              "      <th>1</th>\n",
              "      <th>2</th>\n",
              "      <th>3</th>\n",
              "    </tr>\n",
              "  </thead>\n",
              "  <tbody>\n",
              "    <tr>\n",
              "      <th>0</th>\n",
              "      <td>svm</td>\n",
              "      <td>cEXT</td>\n",
              "      <td>0.569523</td>\n",
              "    </tr>\n",
              "    <tr>\n",
              "      <th>5</th>\n",
              "      <td>tree</td>\n",
              "      <td>cEXT</td>\n",
              "      <td>0.537591</td>\n",
              "    </tr>\n",
              "    <tr>\n",
              "      <th>10</th>\n",
              "      <td>gNB</td>\n",
              "      <td>cEXT</td>\n",
              "      <td>0.457154</td>\n",
              "    </tr>\n",
              "    <tr>\n",
              "      <th>15</th>\n",
              "      <td>logR</td>\n",
              "      <td>cEXT</td>\n",
              "      <td>0.559822</td>\n",
              "    </tr>\n",
              "    <tr>\n",
              "      <th>20</th>\n",
              "      <td>RF</td>\n",
              "      <td>cEXT</td>\n",
              "      <td>0.555376</td>\n",
              "    </tr>\n",
              "  </tbody>\n",
              "</table>\n",
              "</div>"
            ],
            "text/plain": [
              "       1     2         3\n",
              "0    svm  cEXT  0.569523\n",
              "5   tree  cEXT  0.537591\n",
              "10   gNB  cEXT  0.457154\n",
              "15  logR  cEXT  0.559822\n",
              "20    RF  cEXT  0.555376"
            ]
          },
          "metadata": {
            "tags": []
          },
          "execution_count": 153
        }
      ]
    },
    {
      "cell_type": "code",
      "metadata": {
        "colab": {
          "base_uri": "https://localhost:8080/",
          "height": 194
        },
        "id": "7rV2ysacVVcj",
        "outputId": "44370de1-a705-4a9c-9a78-d032e2d88dd5"
      },
      "source": [
        "d2 = d.loc[d['2']=='cNEU']\n",
        "d2\n",
        "#RF\n",
        "#62%"
      ],
      "execution_count": 154,
      "outputs": [
        {
          "output_type": "execute_result",
          "data": {
            "text/html": [
              "<div>\n",
              "<style scoped>\n",
              "    .dataframe tbody tr th:only-of-type {\n",
              "        vertical-align: middle;\n",
              "    }\n",
              "\n",
              "    .dataframe tbody tr th {\n",
              "        vertical-align: top;\n",
              "    }\n",
              "\n",
              "    .dataframe thead th {\n",
              "        text-align: right;\n",
              "    }\n",
              "</style>\n",
              "<table border=\"1\" class=\"dataframe\">\n",
              "  <thead>\n",
              "    <tr style=\"text-align: right;\">\n",
              "      <th></th>\n",
              "      <th>1</th>\n",
              "      <th>2</th>\n",
              "      <th>3</th>\n",
              "    </tr>\n",
              "  </thead>\n",
              "  <tbody>\n",
              "    <tr>\n",
              "      <th>1</th>\n",
              "      <td>svm</td>\n",
              "      <td>cNEU</td>\n",
              "      <td>0.588521</td>\n",
              "    </tr>\n",
              "    <tr>\n",
              "      <th>6</th>\n",
              "      <td>tree</td>\n",
              "      <td>cNEU</td>\n",
              "      <td>0.547696</td>\n",
              "    </tr>\n",
              "    <tr>\n",
              "      <th>11</th>\n",
              "      <td>gNB</td>\n",
              "      <td>cNEU</td>\n",
              "      <td>0.427648</td>\n",
              "    </tr>\n",
              "    <tr>\n",
              "      <th>16</th>\n",
              "      <td>logR</td>\n",
              "      <td>cNEU</td>\n",
              "      <td>0.592967</td>\n",
              "    </tr>\n",
              "    <tr>\n",
              "      <th>21</th>\n",
              "      <td>RF</td>\n",
              "      <td>cNEU</td>\n",
              "      <td>0.575990</td>\n",
              "    </tr>\n",
              "  </tbody>\n",
              "</table>\n",
              "</div>"
            ],
            "text/plain": [
              "       1     2         3\n",
              "1    svm  cNEU  0.588521\n",
              "6   tree  cNEU  0.547696\n",
              "11   gNB  cNEU  0.427648\n",
              "16  logR  cNEU  0.592967\n",
              "21    RF  cNEU  0.575990"
            ]
          },
          "metadata": {
            "tags": []
          },
          "execution_count": 154
        }
      ]
    },
    {
      "cell_type": "code",
      "metadata": {
        "colab": {
          "base_uri": "https://localhost:8080/",
          "height": 194
        },
        "id": "as1oKDXHaxMJ",
        "outputId": "547df76c-2f93-4193-eb6a-6935fcc92bc5"
      },
      "source": [
        "d3 = d.loc[d['2']=='cAGR']\n",
        "d3\n",
        "#RF\n",
        "#55%"
      ],
      "execution_count": 155,
      "outputs": [
        {
          "output_type": "execute_result",
          "data": {
            "text/html": [
              "<div>\n",
              "<style scoped>\n",
              "    .dataframe tbody tr th:only-of-type {\n",
              "        vertical-align: middle;\n",
              "    }\n",
              "\n",
              "    .dataframe tbody tr th {\n",
              "        vertical-align: top;\n",
              "    }\n",
              "\n",
              "    .dataframe thead th {\n",
              "        text-align: right;\n",
              "    }\n",
              "</style>\n",
              "<table border=\"1\" class=\"dataframe\">\n",
              "  <thead>\n",
              "    <tr style=\"text-align: right;\">\n",
              "      <th></th>\n",
              "      <th>1</th>\n",
              "      <th>2</th>\n",
              "      <th>3</th>\n",
              "    </tr>\n",
              "  </thead>\n",
              "  <tbody>\n",
              "    <tr>\n",
              "      <th>2</th>\n",
              "      <td>svm</td>\n",
              "      <td>cAGR</td>\n",
              "      <td>0.540420</td>\n",
              "    </tr>\n",
              "    <tr>\n",
              "      <th>7</th>\n",
              "      <td>tree</td>\n",
              "      <td>cAGR</td>\n",
              "      <td>0.540825</td>\n",
              "    </tr>\n",
              "    <tr>\n",
              "      <th>12</th>\n",
              "      <td>gNB</td>\n",
              "      <td>cAGR</td>\n",
              "      <td>0.530315</td>\n",
              "    </tr>\n",
              "    <tr>\n",
              "      <th>17</th>\n",
              "      <td>logR</td>\n",
              "      <td>cAGR</td>\n",
              "      <td>0.535570</td>\n",
              "    </tr>\n",
              "    <tr>\n",
              "      <th>22</th>\n",
              "      <td>RF</td>\n",
              "      <td>cAGR</td>\n",
              "      <td>0.537591</td>\n",
              "    </tr>\n",
              "  </tbody>\n",
              "</table>\n",
              "</div>"
            ],
            "text/plain": [
              "       1     2         3\n",
              "2    svm  cAGR  0.540420\n",
              "7   tree  cAGR  0.540825\n",
              "12   gNB  cAGR  0.530315\n",
              "17  logR  cAGR  0.535570\n",
              "22    RF  cAGR  0.537591"
            ]
          },
          "metadata": {
            "tags": []
          },
          "execution_count": 155
        }
      ]
    },
    {
      "cell_type": "code",
      "metadata": {
        "colab": {
          "base_uri": "https://localhost:8080/",
          "height": 194
        },
        "id": "DGLyZN7ua0Jy",
        "outputId": "c6b3e4e1-eeb6-4299-8784-fc6a32bed594"
      },
      "source": [
        "d4 = d.loc[d['2']=='cCON']\n",
        "d4\n",
        "#RF\n",
        "#58%"
      ],
      "execution_count": 156,
      "outputs": [
        {
          "output_type": "execute_result",
          "data": {
            "text/html": [
              "<div>\n",
              "<style scoped>\n",
              "    .dataframe tbody tr th:only-of-type {\n",
              "        vertical-align: middle;\n",
              "    }\n",
              "\n",
              "    .dataframe tbody tr th {\n",
              "        vertical-align: top;\n",
              "    }\n",
              "\n",
              "    .dataframe thead th {\n",
              "        text-align: right;\n",
              "    }\n",
              "</style>\n",
              "<table border=\"1\" class=\"dataframe\">\n",
              "  <thead>\n",
              "    <tr style=\"text-align: right;\">\n",
              "      <th></th>\n",
              "      <th>1</th>\n",
              "      <th>2</th>\n",
              "      <th>3</th>\n",
              "    </tr>\n",
              "  </thead>\n",
              "  <tbody>\n",
              "    <tr>\n",
              "      <th>3</th>\n",
              "      <td>svm</td>\n",
              "      <td>cCON</td>\n",
              "      <td>0.555376</td>\n",
              "    </tr>\n",
              "    <tr>\n",
              "      <th>8</th>\n",
              "      <td>tree</td>\n",
              "      <td>cCON</td>\n",
              "      <td>0.504042</td>\n",
              "    </tr>\n",
              "    <tr>\n",
              "      <th>13</th>\n",
              "      <td>gNB</td>\n",
              "      <td>cCON</td>\n",
              "      <td>0.470493</td>\n",
              "    </tr>\n",
              "    <tr>\n",
              "      <th>18</th>\n",
              "      <td>logR</td>\n",
              "      <td>cCON</td>\n",
              "      <td>0.541229</td>\n",
              "    </tr>\n",
              "    <tr>\n",
              "      <th>23</th>\n",
              "      <td>RF</td>\n",
              "      <td>cCON</td>\n",
              "      <td>0.544462</td>\n",
              "    </tr>\n",
              "  </tbody>\n",
              "</table>\n",
              "</div>"
            ],
            "text/plain": [
              "       1     2         3\n",
              "3    svm  cCON  0.555376\n",
              "8   tree  cCON  0.504042\n",
              "13   gNB  cCON  0.470493\n",
              "18  logR  cCON  0.541229\n",
              "23    RF  cCON  0.544462"
            ]
          },
          "metadata": {
            "tags": []
          },
          "execution_count": 156
        }
      ]
    },
    {
      "cell_type": "code",
      "metadata": {
        "colab": {
          "base_uri": "https://localhost:8080/",
          "height": 194
        },
        "id": "mQrbZ93fa2j0",
        "outputId": "7f805f41-b21c-4ae4-c8d2-158f2e33475d"
      },
      "source": [
        "d5 = d.loc[d['2']=='cOPN']\n",
        "d5\n",
        "#RF 74%"
      ],
      "execution_count": 157,
      "outputs": [
        {
          "output_type": "execute_result",
          "data": {
            "text/html": [
              "<div>\n",
              "<style scoped>\n",
              "    .dataframe tbody tr th:only-of-type {\n",
              "        vertical-align: middle;\n",
              "    }\n",
              "\n",
              "    .dataframe tbody tr th {\n",
              "        vertical-align: top;\n",
              "    }\n",
              "\n",
              "    .dataframe thead th {\n",
              "        text-align: right;\n",
              "    }\n",
              "</style>\n",
              "<table border=\"1\" class=\"dataframe\">\n",
              "  <thead>\n",
              "    <tr style=\"text-align: right;\">\n",
              "      <th></th>\n",
              "      <th>1</th>\n",
              "      <th>2</th>\n",
              "      <th>3</th>\n",
              "    </tr>\n",
              "  </thead>\n",
              "  <tbody>\n",
              "    <tr>\n",
              "      <th>4</th>\n",
              "      <td>svm</td>\n",
              "      <td>cOPN</td>\n",
              "      <td>0.703719</td>\n",
              "    </tr>\n",
              "    <tr>\n",
              "      <th>9</th>\n",
              "      <td>tree</td>\n",
              "      <td>cOPN</td>\n",
              "      <td>0.624091</td>\n",
              "    </tr>\n",
              "    <tr>\n",
              "      <th>14</th>\n",
              "      <td>gNB</td>\n",
              "      <td>cOPN</td>\n",
              "      <td>0.339531</td>\n",
              "    </tr>\n",
              "    <tr>\n",
              "      <th>19</th>\n",
              "      <td>logR</td>\n",
              "      <td>cOPN</td>\n",
              "      <td>0.712207</td>\n",
              "    </tr>\n",
              "    <tr>\n",
              "      <th>24</th>\n",
              "      <td>RF</td>\n",
              "      <td>cOPN</td>\n",
              "      <td>0.696039</td>\n",
              "    </tr>\n",
              "  </tbody>\n",
              "</table>\n",
              "</div>"
            ],
            "text/plain": [
              "       1     2         3\n",
              "4    svm  cOPN  0.703719\n",
              "9   tree  cOPN  0.624091\n",
              "14   gNB  cOPN  0.339531\n",
              "19  logR  cOPN  0.712207\n",
              "24    RF  cOPN  0.696039"
            ]
          },
          "metadata": {
            "tags": []
          },
          "execution_count": 157
        }
      ]
    },
    {
      "cell_type": "markdown",
      "metadata": {
        "id": "JAqR0IynzZz1"
      },
      "source": [
        "EVALUATING CLASSIFICATION REPORT FOR EACH BEST CLASSIFIER"
      ]
    },
    {
      "cell_type": "markdown",
      "metadata": {
        "id": "Yc_f5yw32DT_"
      },
      "source": [
        "Saving the model with best suitable performance for future uses"
      ]
    },
    {
      "cell_type": "code",
      "metadata": {
        "id": "DDKbGQxWfyqr"
      },
      "source": [
        ""
      ],
      "execution_count": 157,
      "outputs": []
    },
    {
      "cell_type": "code",
      "metadata": {
        "id": "Iw17KaFoxnpB"
      },
      "source": [
        "#Save the Modle to file in the current working directory\n",
        "#Specifying the model name with best chosen performance can be stored by\n",
        "#substituting the Pkl_Filename\n",
        "#This creates cAGR.pkl\n",
        "import pickle\n",
        "\n",
        "Pkl_Filename = \"cNEU.pkl\"  \n",
        "with open(Pkl_Filename, 'wb') as file:  \n",
        "    pickle.dump(clf_gnb_cNEU,file)\n",
        "Pkl_Filename = \"cEXT.pkl\"  \n",
        "with open(Pkl_Filename, 'wb') as file:  \n",
        "    pickle.dump(clf_rf_cEXT,file)\n",
        "\n",
        "\n",
        "Pkl_Filename = \"cAGR.pkl\"  \n",
        "with open(Pkl_Filename, 'wb') as file:  \n",
        "  pickle.dump(clf_dec_cAGR,file)\n",
        "Pkl_Filename = \"cCON.pkl\"  \n",
        "with open(Pkl_Filename, 'wb') as file:  \n",
        "  pickle.dump(clf_svm_cCON,file)\n",
        "Pkl_Filename = \"cOPN.pkl\"  \n",
        "with open(Pkl_Filename, 'wb') as file:  \n",
        "  pickle.dump(clf_svm_cOPN,file)"
      ],
      "execution_count": 169,
      "outputs": []
    },
    {
      "cell_type": "code",
      "metadata": {
        "id": "eAW0V3puy8GL"
      },
      "source": [
        "# Load the Model back from file with same name as saved in the working directory\n",
        "with open('cAGR.pkl', 'rb') as file:  \n",
        "    Pickled_AGR_Model = pickle.load(file)\n",
        "with open('cCON.pkl', 'rb') as file:  \n",
        "    Pickled_CON_Model = pickle.load(file)\n",
        "with open('cEXT.pkl', 'rb') as file:  \n",
        "    Pickled_EXT_Model = pickle.load(file)\n",
        "with open('cNEU.pkl', 'rb') as file:  \n",
        "    Pickled_NEU_Model = pickle.load(file)\n",
        "with open('cOPN.pkl', 'rb') as file:  \n",
        "    Pickled_OPN_Model = pickle.load(file)\n"
      ],
      "execution_count": 170,
      "outputs": []
    },
    {
      "cell_type": "code",
      "metadata": {
        "id": "bP_g0oLoFsKw"
      },
      "source": [
        "def clean_text(text):\n",
        "  text = tokenization(text)\n",
        "  text = unemotional_words(text)\n",
        "  text = \" \".join(text)\n",
        "  return (text) \n"
      ],
      "execution_count": 171,
      "outputs": []
    },
    {
      "cell_type": "code",
      "metadata": {
        "id": "wNBYkBtYFsZM"
      },
      "source": [
        "def pred_personality(text):\n",
        "  text = clean_text(text)\n",
        "  text_vec = bow_vectorizer.transform([text])\n",
        "  y_AGR_predict = Pickled_AGR_Model.predict(text_vec)  \n",
        "  y_CON_predict = Pickled_CON_Model.predict(text_vec)  \n",
        "  y_EXT_predict = Pickled_EXT_Model.predict(text_vec)  \n",
        "  y_NEU_predict = Pickled_NEU_Model.predict(text_vec.toarray())  \n",
        "  y_OPN_predict = Pickled_OPN_Model.predict(text_vec)  \n",
        "\n",
        "  return (y_AGR_predict[0],y_CON_predict[0],y_EXT_predict[0],y_NEU_predict[0],y_OPN_predict[0])"
      ],
      "execution_count": 172,
      "outputs": []
    },
    {
      "cell_type": "code",
      "metadata": {
        "colab": {
          "base_uri": "https://localhost:8080/"
        },
        "id": "WPTfqoCjz0uI",
        "outputId": "5bc0f1d3-4010-4b4d-df4f-c54341e90204"
      },
      "source": [
        "text = \"We are still best friends\"\n",
        "\n",
        "print(pred_personality(text))"
      ],
      "execution_count": 173,
      "outputs": [
        {
          "output_type": "stream",
          "text": [
            "(0, 0, 1, 1, 1)\n"
          ],
          "name": "stdout"
        }
      ]
    },
    {
      "cell_type": "code",
      "metadata": {
        "id": "_2qw1SV4GFV0"
      },
      "source": [
        ""
      ],
      "execution_count": null,
      "outputs": []
    }
  ]
}