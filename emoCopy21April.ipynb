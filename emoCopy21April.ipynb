{
  "nbformat": 4,
  "nbformat_minor": 0,
  "metadata": {
    "colab": {
      "name": "emoCopy21April.ipynb",
      "provenance": [],
      "collapsed_sections": []
    },
    "kernelspec": {
      "name": "python3",
      "display_name": "Python 3"
    },
    "language_info": {
      "name": "python"
    }
  },
  "cells": [
    {
      "cell_type": "code",
      "metadata": {
        "id": "6qomtO1IO_yE"
      },
      "source": [
        "import pandas as pd"
      ],
      "execution_count": null,
      "outputs": []
    },
    {
      "cell_type": "code",
      "metadata": {
        "id": "3aVgugCefOZq",
        "colab": {
          "base_uri": "https://localhost:8080/",
          "height": 646
        },
        "outputId": "81bd8224-83f3-4673-d3e0-ba359dda3367"
      },
      "source": [
        "#Loading the DataSet mypersonality\n",
        "df = pd.read_csv('mypersonality_final.csv' ,encoding='cp1252')\n",
        "df.head()\n",
        "#print(df.shape)"
      ],
      "execution_count": null,
      "outputs": [
        {
          "output_type": "execute_result",
          "data": {
            "text/html": [
              "<div>\n",
              "<style scoped>\n",
              "    .dataframe tbody tr th:only-of-type {\n",
              "        vertical-align: middle;\n",
              "    }\n",
              "\n",
              "    .dataframe tbody tr th {\n",
              "        vertical-align: top;\n",
              "    }\n",
              "\n",
              "    .dataframe thead th {\n",
              "        text-align: right;\n",
              "    }\n",
              "</style>\n",
              "<table border=\"1\" class=\"dataframe\">\n",
              "  <thead>\n",
              "    <tr style=\"text-align: right;\">\n",
              "      <th></th>\n",
              "      <th>#AUTHID</th>\n",
              "      <th>STATUS</th>\n",
              "      <th>sEXT</th>\n",
              "      <th>sNEU</th>\n",
              "      <th>sAGR</th>\n",
              "      <th>sCON</th>\n",
              "      <th>sOPN</th>\n",
              "      <th>cEXT</th>\n",
              "      <th>cNEU</th>\n",
              "      <th>cAGR</th>\n",
              "      <th>cCON</th>\n",
              "      <th>cOPN</th>\n",
              "      <th>DATE</th>\n",
              "      <th>NETWORKSIZE</th>\n",
              "      <th>BETWEENNESS</th>\n",
              "      <th>NBETWEENNESS</th>\n",
              "      <th>DENSITY</th>\n",
              "      <th>BROKERAGE</th>\n",
              "      <th>NBROKERAGE</th>\n",
              "      <th>TRANSITIVITY</th>\n",
              "    </tr>\n",
              "  </thead>\n",
              "  <tbody>\n",
              "    <tr>\n",
              "      <th>0</th>\n",
              "      <td>b7b7764cfa1c523e4e93ab2a79a946c4</td>\n",
              "      <td>likes the sound of thunder.</td>\n",
              "      <td>2.65</td>\n",
              "      <td>3.0</td>\n",
              "      <td>3.15</td>\n",
              "      <td>3.25</td>\n",
              "      <td>4.4</td>\n",
              "      <td>n</td>\n",
              "      <td>y</td>\n",
              "      <td>n</td>\n",
              "      <td>n</td>\n",
              "      <td>y</td>\n",
              "      <td>06/19/09 03:21 PM</td>\n",
              "      <td>180.0</td>\n",
              "      <td>14861.6</td>\n",
              "      <td>93.29</td>\n",
              "      <td>0.03</td>\n",
              "      <td>15661.0</td>\n",
              "      <td>0.49</td>\n",
              "      <td>0.1</td>\n",
              "    </tr>\n",
              "    <tr>\n",
              "      <th>1</th>\n",
              "      <td>b7b7764cfa1c523e4e93ab2a79a946c4</td>\n",
              "      <td>is so sleepy it's not even funny that's she ca...</td>\n",
              "      <td>2.65</td>\n",
              "      <td>3.0</td>\n",
              "      <td>3.15</td>\n",
              "      <td>3.25</td>\n",
              "      <td>4.4</td>\n",
              "      <td>n</td>\n",
              "      <td>y</td>\n",
              "      <td>n</td>\n",
              "      <td>n</td>\n",
              "      <td>y</td>\n",
              "      <td>07/02/09 08:41 AM</td>\n",
              "      <td>180.0</td>\n",
              "      <td>14861.6</td>\n",
              "      <td>93.29</td>\n",
              "      <td>0.03</td>\n",
              "      <td>15661.0</td>\n",
              "      <td>0.49</td>\n",
              "      <td>0.1</td>\n",
              "    </tr>\n",
              "    <tr>\n",
              "      <th>2</th>\n",
              "      <td>b7b7764cfa1c523e4e93ab2a79a946c4</td>\n",
              "      <td>is sore and wants the knot of muscles at the b...</td>\n",
              "      <td>2.65</td>\n",
              "      <td>3.0</td>\n",
              "      <td>3.15</td>\n",
              "      <td>3.25</td>\n",
              "      <td>4.4</td>\n",
              "      <td>n</td>\n",
              "      <td>y</td>\n",
              "      <td>n</td>\n",
              "      <td>n</td>\n",
              "      <td>y</td>\n",
              "      <td>06/15/09 01:15 PM</td>\n",
              "      <td>180.0</td>\n",
              "      <td>14861.6</td>\n",
              "      <td>93.29</td>\n",
              "      <td>0.03</td>\n",
              "      <td>15661.0</td>\n",
              "      <td>0.49</td>\n",
              "      <td>0.1</td>\n",
              "    </tr>\n",
              "    <tr>\n",
              "      <th>3</th>\n",
              "      <td>b7b7764cfa1c523e4e93ab2a79a946c4</td>\n",
              "      <td>likes how the day sounds in this new song.</td>\n",
              "      <td>2.65</td>\n",
              "      <td>3.0</td>\n",
              "      <td>3.15</td>\n",
              "      <td>3.25</td>\n",
              "      <td>4.4</td>\n",
              "      <td>n</td>\n",
              "      <td>y</td>\n",
              "      <td>n</td>\n",
              "      <td>n</td>\n",
              "      <td>y</td>\n",
              "      <td>06/22/09 04:48 AM</td>\n",
              "      <td>180.0</td>\n",
              "      <td>14861.6</td>\n",
              "      <td>93.29</td>\n",
              "      <td>0.03</td>\n",
              "      <td>15661.0</td>\n",
              "      <td>0.49</td>\n",
              "      <td>0.1</td>\n",
              "    </tr>\n",
              "    <tr>\n",
              "      <th>4</th>\n",
              "      <td>b7b7764cfa1c523e4e93ab2a79a946c4</td>\n",
              "      <td>is home. &lt;3</td>\n",
              "      <td>2.65</td>\n",
              "      <td>3.0</td>\n",
              "      <td>3.15</td>\n",
              "      <td>3.25</td>\n",
              "      <td>4.4</td>\n",
              "      <td>n</td>\n",
              "      <td>y</td>\n",
              "      <td>n</td>\n",
              "      <td>n</td>\n",
              "      <td>y</td>\n",
              "      <td>07/20/09 02:31 AM</td>\n",
              "      <td>180.0</td>\n",
              "      <td>14861.6</td>\n",
              "      <td>93.29</td>\n",
              "      <td>0.03</td>\n",
              "      <td>15661.0</td>\n",
              "      <td>0.49</td>\n",
              "      <td>0.1</td>\n",
              "    </tr>\n",
              "  </tbody>\n",
              "</table>\n",
              "</div>"
            ],
            "text/plain": [
              "                            #AUTHID  ... TRANSITIVITY\n",
              "0  b7b7764cfa1c523e4e93ab2a79a946c4  ...          0.1\n",
              "1  b7b7764cfa1c523e4e93ab2a79a946c4  ...          0.1\n",
              "2  b7b7764cfa1c523e4e93ab2a79a946c4  ...          0.1\n",
              "3  b7b7764cfa1c523e4e93ab2a79a946c4  ...          0.1\n",
              "4  b7b7764cfa1c523e4e93ab2a79a946c4  ...          0.1\n",
              "\n",
              "[5 rows x 20 columns]"
            ]
          },
          "metadata": {
            "tags": []
          },
          "execution_count": 113
        }
      ]
    },
    {
      "cell_type": "code",
      "metadata": {
        "colab": {
          "base_uri": "https://localhost:8080/"
        },
        "id": "lCs4a93bXJJe",
        "outputId": "27bd9224-9f4b-4357-d4dc-ce0323fa440e"
      },
      "source": [
        "#Checking out Shape of Data set (9917 , 20)\n",
        "df.shape"
      ],
      "execution_count": null,
      "outputs": [
        {
          "output_type": "execute_result",
          "data": {
            "text/plain": [
              "(9917, 20)"
            ]
          },
          "metadata": {
            "tags": []
          },
          "execution_count": 114
        }
      ]
    },
    {
      "cell_type": "code",
      "metadata": {
        "id": "G8GyIS17V7sz"
      },
      "source": [
        "#df_id "
      ],
      "execution_count": null,
      "outputs": []
    },
    {
      "cell_type": "code",
      "metadata": {
        "id": "dTmw7ZsSVvBD"
      },
      "source": [
        "#df_id.size()"
      ],
      "execution_count": null,
      "outputs": []
    },
    {
      "cell_type": "markdown",
      "metadata": {
        "id": "uoAiKdmlIM4j"
      },
      "source": [
        "Merging the dataset based on UniqueAuth IDs, since for each unique IDs the \n",
        "Status column which has the text about the personality has same PERSONALITY values, therefore it is necessary to merge text for a each ID's Personality Trait "
      ]
    },
    {
      "cell_type": "code",
      "metadata": {
        "colab": {
          "base_uri": "https://localhost:8080/"
        },
        "id": "WdaFYPA0QfZi",
        "outputId": "b372ffa1-b2d4-4ed6-f554-633b9de7bb6b"
      },
      "source": [
        "#Removing the columns that are not required for the prediction.\n",
        "df1 = df[df.columns[:12]]\n",
        "df1.shape"
      ],
      "execution_count": null,
      "outputs": [
        {
          "output_type": "execute_result",
          "data": {
            "text/plain": [
              "(9917, 12)"
            ]
          },
          "metadata": {
            "tags": []
          },
          "execution_count": 117
        }
      ]
    },
    {
      "cell_type": "code",
      "metadata": {
        "colab": {
          "base_uri": "https://localhost:8080/",
          "height": 411
        },
        "id": "WdxhtW2ncsZx",
        "outputId": "8c4150a7-33eb-450d-8d04-ae2a43478caa"
      },
      "source": [
        "df1"
      ],
      "execution_count": null,
      "outputs": [
        {
          "output_type": "execute_result",
          "data": {
            "text/html": [
              "<div>\n",
              "<style scoped>\n",
              "    .dataframe tbody tr th:only-of-type {\n",
              "        vertical-align: middle;\n",
              "    }\n",
              "\n",
              "    .dataframe tbody tr th {\n",
              "        vertical-align: top;\n",
              "    }\n",
              "\n",
              "    .dataframe thead th {\n",
              "        text-align: right;\n",
              "    }\n",
              "</style>\n",
              "<table border=\"1\" class=\"dataframe\">\n",
              "  <thead>\n",
              "    <tr style=\"text-align: right;\">\n",
              "      <th></th>\n",
              "      <th>#AUTHID</th>\n",
              "      <th>STATUS</th>\n",
              "      <th>sEXT</th>\n",
              "      <th>sNEU</th>\n",
              "      <th>sAGR</th>\n",
              "      <th>sCON</th>\n",
              "      <th>sOPN</th>\n",
              "      <th>cEXT</th>\n",
              "      <th>cNEU</th>\n",
              "      <th>cAGR</th>\n",
              "      <th>cCON</th>\n",
              "      <th>cOPN</th>\n",
              "    </tr>\n",
              "  </thead>\n",
              "  <tbody>\n",
              "    <tr>\n",
              "      <th>0</th>\n",
              "      <td>b7b7764cfa1c523e4e93ab2a79a946c4</td>\n",
              "      <td>likes the sound of thunder.</td>\n",
              "      <td>2.65</td>\n",
              "      <td>3.00</td>\n",
              "      <td>3.15</td>\n",
              "      <td>3.25</td>\n",
              "      <td>4.40</td>\n",
              "      <td>n</td>\n",
              "      <td>y</td>\n",
              "      <td>n</td>\n",
              "      <td>n</td>\n",
              "      <td>y</td>\n",
              "    </tr>\n",
              "    <tr>\n",
              "      <th>1</th>\n",
              "      <td>b7b7764cfa1c523e4e93ab2a79a946c4</td>\n",
              "      <td>is so sleepy it's not even funny that's she ca...</td>\n",
              "      <td>2.65</td>\n",
              "      <td>3.00</td>\n",
              "      <td>3.15</td>\n",
              "      <td>3.25</td>\n",
              "      <td>4.40</td>\n",
              "      <td>n</td>\n",
              "      <td>y</td>\n",
              "      <td>n</td>\n",
              "      <td>n</td>\n",
              "      <td>y</td>\n",
              "    </tr>\n",
              "    <tr>\n",
              "      <th>2</th>\n",
              "      <td>b7b7764cfa1c523e4e93ab2a79a946c4</td>\n",
              "      <td>is sore and wants the knot of muscles at the b...</td>\n",
              "      <td>2.65</td>\n",
              "      <td>3.00</td>\n",
              "      <td>3.15</td>\n",
              "      <td>3.25</td>\n",
              "      <td>4.40</td>\n",
              "      <td>n</td>\n",
              "      <td>y</td>\n",
              "      <td>n</td>\n",
              "      <td>n</td>\n",
              "      <td>y</td>\n",
              "    </tr>\n",
              "    <tr>\n",
              "      <th>3</th>\n",
              "      <td>b7b7764cfa1c523e4e93ab2a79a946c4</td>\n",
              "      <td>likes how the day sounds in this new song.</td>\n",
              "      <td>2.65</td>\n",
              "      <td>3.00</td>\n",
              "      <td>3.15</td>\n",
              "      <td>3.25</td>\n",
              "      <td>4.40</td>\n",
              "      <td>n</td>\n",
              "      <td>y</td>\n",
              "      <td>n</td>\n",
              "      <td>n</td>\n",
              "      <td>y</td>\n",
              "    </tr>\n",
              "    <tr>\n",
              "      <th>4</th>\n",
              "      <td>b7b7764cfa1c523e4e93ab2a79a946c4</td>\n",
              "      <td>is home. &lt;3</td>\n",
              "      <td>2.65</td>\n",
              "      <td>3.00</td>\n",
              "      <td>3.15</td>\n",
              "      <td>3.25</td>\n",
              "      <td>4.40</td>\n",
              "      <td>n</td>\n",
              "      <td>y</td>\n",
              "      <td>n</td>\n",
              "      <td>n</td>\n",
              "      <td>y</td>\n",
              "    </tr>\n",
              "    <tr>\n",
              "      <th>...</th>\n",
              "      <td>...</td>\n",
              "      <td>...</td>\n",
              "      <td>...</td>\n",
              "      <td>...</td>\n",
              "      <td>...</td>\n",
              "      <td>...</td>\n",
              "      <td>...</td>\n",
              "      <td>...</td>\n",
              "      <td>...</td>\n",
              "      <td>...</td>\n",
              "      <td>...</td>\n",
              "      <td>...</td>\n",
              "    </tr>\n",
              "    <tr>\n",
              "      <th>9912</th>\n",
              "      <td>deb899e426c1a5c66c24eeb0d7df6257</td>\n",
              "      <td>little things give you away.</td>\n",
              "      <td>2.15</td>\n",
              "      <td>2.15</td>\n",
              "      <td>4.10</td>\n",
              "      <td>2.90</td>\n",
              "      <td>4.60</td>\n",
              "      <td>n</td>\n",
              "      <td>n</td>\n",
              "      <td>y</td>\n",
              "      <td>n</td>\n",
              "      <td>y</td>\n",
              "    </tr>\n",
              "    <tr>\n",
              "      <th>9913</th>\n",
              "      <td>ea28a927cb6663480ea33ca917c3c8ba</td>\n",
              "      <td>is wishing it was Saturday.</td>\n",
              "      <td>4.05</td>\n",
              "      <td>3.35</td>\n",
              "      <td>3.80</td>\n",
              "      <td>3.95</td>\n",
              "      <td>4.50</td>\n",
              "      <td>y</td>\n",
              "      <td>y</td>\n",
              "      <td>y</td>\n",
              "      <td>y</td>\n",
              "      <td>y</td>\n",
              "    </tr>\n",
              "    <tr>\n",
              "      <th>9914</th>\n",
              "      <td>ea28a927cb6663480ea33ca917c3c8ba</td>\n",
              "      <td>is studying hard for the G.R.E.</td>\n",
              "      <td>4.05</td>\n",
              "      <td>3.35</td>\n",
              "      <td>3.80</td>\n",
              "      <td>3.95</td>\n",
              "      <td>4.50</td>\n",
              "      <td>y</td>\n",
              "      <td>y</td>\n",
              "      <td>y</td>\n",
              "      <td>y</td>\n",
              "      <td>y</td>\n",
              "    </tr>\n",
              "    <tr>\n",
              "      <th>9915</th>\n",
              "      <td>5532642937eb3497a43e15dbb23a9d2d</td>\n",
              "      <td>snipers get more head</td>\n",
              "      <td>1.40</td>\n",
              "      <td>4.05</td>\n",
              "      <td>3.30</td>\n",
              "      <td>3.40</td>\n",
              "      <td>3.95</td>\n",
              "      <td>n</td>\n",
              "      <td>y</td>\n",
              "      <td>n</td>\n",
              "      <td>n</td>\n",
              "      <td>y</td>\n",
              "    </tr>\n",
              "    <tr>\n",
              "      <th>9916</th>\n",
              "      <td>a286b7286b1247d4a7851709e9f31e1e</td>\n",
              "      <td>Last night was amazing! Not only did I see *PR...</td>\n",
              "      <td>4.25</td>\n",
              "      <td>3.00</td>\n",
              "      <td>3.25</td>\n",
              "      <td>3.50</td>\n",
              "      <td>4.00</td>\n",
              "      <td>y</td>\n",
              "      <td>y</td>\n",
              "      <td>n</td>\n",
              "      <td>y</td>\n",
              "      <td>y</td>\n",
              "    </tr>\n",
              "  </tbody>\n",
              "</table>\n",
              "<p>9917 rows × 12 columns</p>\n",
              "</div>"
            ],
            "text/plain": [
              "                               #AUTHID  ... cOPN\n",
              "0     b7b7764cfa1c523e4e93ab2a79a946c4  ...    y\n",
              "1     b7b7764cfa1c523e4e93ab2a79a946c4  ...    y\n",
              "2     b7b7764cfa1c523e4e93ab2a79a946c4  ...    y\n",
              "3     b7b7764cfa1c523e4e93ab2a79a946c4  ...    y\n",
              "4     b7b7764cfa1c523e4e93ab2a79a946c4  ...    y\n",
              "...                                ...  ...  ...\n",
              "9912  deb899e426c1a5c66c24eeb0d7df6257  ...    y\n",
              "9913  ea28a927cb6663480ea33ca917c3c8ba  ...    y\n",
              "9914  ea28a927cb6663480ea33ca917c3c8ba  ...    y\n",
              "9915  5532642937eb3497a43e15dbb23a9d2d  ...    y\n",
              "9916  a286b7286b1247d4a7851709e9f31e1e  ...    y\n",
              "\n",
              "[9917 rows x 12 columns]"
            ]
          },
          "metadata": {
            "tags": []
          },
          "execution_count": 118
        }
      ]
    },
    {
      "cell_type": "code",
      "metadata": {
        "id": "HAqZMJGyefXm"
      },
      "source": [
        "#Since we have unique features for each unique IDs , it is necessary to remove the duplicates\n",
        "df1 = df1.drop_duplicates(keep='first')\n"
      ],
      "execution_count": null,
      "outputs": []
    },
    {
      "cell_type": "code",
      "metadata": {
        "colab": {
          "base_uri": "https://localhost:8080/",
          "height": 411
        },
        "id": "2fSahrfdgRUZ",
        "outputId": "4aa67b83-7554-47d7-c973-e739efbc0a57"
      },
      "source": [
        "df1"
      ],
      "execution_count": null,
      "outputs": [
        {
          "output_type": "execute_result",
          "data": {
            "text/html": [
              "<div>\n",
              "<style scoped>\n",
              "    .dataframe tbody tr th:only-of-type {\n",
              "        vertical-align: middle;\n",
              "    }\n",
              "\n",
              "    .dataframe tbody tr th {\n",
              "        vertical-align: top;\n",
              "    }\n",
              "\n",
              "    .dataframe thead th {\n",
              "        text-align: right;\n",
              "    }\n",
              "</style>\n",
              "<table border=\"1\" class=\"dataframe\">\n",
              "  <thead>\n",
              "    <tr style=\"text-align: right;\">\n",
              "      <th></th>\n",
              "      <th>#AUTHID</th>\n",
              "      <th>STATUS</th>\n",
              "      <th>sEXT</th>\n",
              "      <th>sNEU</th>\n",
              "      <th>sAGR</th>\n",
              "      <th>sCON</th>\n",
              "      <th>sOPN</th>\n",
              "      <th>cEXT</th>\n",
              "      <th>cNEU</th>\n",
              "      <th>cAGR</th>\n",
              "      <th>cCON</th>\n",
              "      <th>cOPN</th>\n",
              "    </tr>\n",
              "  </thead>\n",
              "  <tbody>\n",
              "    <tr>\n",
              "      <th>0</th>\n",
              "      <td>b7b7764cfa1c523e4e93ab2a79a946c4</td>\n",
              "      <td>likes the sound of thunder.</td>\n",
              "      <td>2.65</td>\n",
              "      <td>3.00</td>\n",
              "      <td>3.15</td>\n",
              "      <td>3.25</td>\n",
              "      <td>4.40</td>\n",
              "      <td>n</td>\n",
              "      <td>y</td>\n",
              "      <td>n</td>\n",
              "      <td>n</td>\n",
              "      <td>y</td>\n",
              "    </tr>\n",
              "    <tr>\n",
              "      <th>1</th>\n",
              "      <td>b7b7764cfa1c523e4e93ab2a79a946c4</td>\n",
              "      <td>is so sleepy it's not even funny that's she ca...</td>\n",
              "      <td>2.65</td>\n",
              "      <td>3.00</td>\n",
              "      <td>3.15</td>\n",
              "      <td>3.25</td>\n",
              "      <td>4.40</td>\n",
              "      <td>n</td>\n",
              "      <td>y</td>\n",
              "      <td>n</td>\n",
              "      <td>n</td>\n",
              "      <td>y</td>\n",
              "    </tr>\n",
              "    <tr>\n",
              "      <th>2</th>\n",
              "      <td>b7b7764cfa1c523e4e93ab2a79a946c4</td>\n",
              "      <td>is sore and wants the knot of muscles at the b...</td>\n",
              "      <td>2.65</td>\n",
              "      <td>3.00</td>\n",
              "      <td>3.15</td>\n",
              "      <td>3.25</td>\n",
              "      <td>4.40</td>\n",
              "      <td>n</td>\n",
              "      <td>y</td>\n",
              "      <td>n</td>\n",
              "      <td>n</td>\n",
              "      <td>y</td>\n",
              "    </tr>\n",
              "    <tr>\n",
              "      <th>3</th>\n",
              "      <td>b7b7764cfa1c523e4e93ab2a79a946c4</td>\n",
              "      <td>likes how the day sounds in this new song.</td>\n",
              "      <td>2.65</td>\n",
              "      <td>3.00</td>\n",
              "      <td>3.15</td>\n",
              "      <td>3.25</td>\n",
              "      <td>4.40</td>\n",
              "      <td>n</td>\n",
              "      <td>y</td>\n",
              "      <td>n</td>\n",
              "      <td>n</td>\n",
              "      <td>y</td>\n",
              "    </tr>\n",
              "    <tr>\n",
              "      <th>4</th>\n",
              "      <td>b7b7764cfa1c523e4e93ab2a79a946c4</td>\n",
              "      <td>is home. &lt;3</td>\n",
              "      <td>2.65</td>\n",
              "      <td>3.00</td>\n",
              "      <td>3.15</td>\n",
              "      <td>3.25</td>\n",
              "      <td>4.40</td>\n",
              "      <td>n</td>\n",
              "      <td>y</td>\n",
              "      <td>n</td>\n",
              "      <td>n</td>\n",
              "      <td>y</td>\n",
              "    </tr>\n",
              "    <tr>\n",
              "      <th>...</th>\n",
              "      <td>...</td>\n",
              "      <td>...</td>\n",
              "      <td>...</td>\n",
              "      <td>...</td>\n",
              "      <td>...</td>\n",
              "      <td>...</td>\n",
              "      <td>...</td>\n",
              "      <td>...</td>\n",
              "      <td>...</td>\n",
              "      <td>...</td>\n",
              "      <td>...</td>\n",
              "      <td>...</td>\n",
              "    </tr>\n",
              "    <tr>\n",
              "      <th>9912</th>\n",
              "      <td>deb899e426c1a5c66c24eeb0d7df6257</td>\n",
              "      <td>little things give you away.</td>\n",
              "      <td>2.15</td>\n",
              "      <td>2.15</td>\n",
              "      <td>4.10</td>\n",
              "      <td>2.90</td>\n",
              "      <td>4.60</td>\n",
              "      <td>n</td>\n",
              "      <td>n</td>\n",
              "      <td>y</td>\n",
              "      <td>n</td>\n",
              "      <td>y</td>\n",
              "    </tr>\n",
              "    <tr>\n",
              "      <th>9913</th>\n",
              "      <td>ea28a927cb6663480ea33ca917c3c8ba</td>\n",
              "      <td>is wishing it was Saturday.</td>\n",
              "      <td>4.05</td>\n",
              "      <td>3.35</td>\n",
              "      <td>3.80</td>\n",
              "      <td>3.95</td>\n",
              "      <td>4.50</td>\n",
              "      <td>y</td>\n",
              "      <td>y</td>\n",
              "      <td>y</td>\n",
              "      <td>y</td>\n",
              "      <td>y</td>\n",
              "    </tr>\n",
              "    <tr>\n",
              "      <th>9914</th>\n",
              "      <td>ea28a927cb6663480ea33ca917c3c8ba</td>\n",
              "      <td>is studying hard for the G.R.E.</td>\n",
              "      <td>4.05</td>\n",
              "      <td>3.35</td>\n",
              "      <td>3.80</td>\n",
              "      <td>3.95</td>\n",
              "      <td>4.50</td>\n",
              "      <td>y</td>\n",
              "      <td>y</td>\n",
              "      <td>y</td>\n",
              "      <td>y</td>\n",
              "      <td>y</td>\n",
              "    </tr>\n",
              "    <tr>\n",
              "      <th>9915</th>\n",
              "      <td>5532642937eb3497a43e15dbb23a9d2d</td>\n",
              "      <td>snipers get more head</td>\n",
              "      <td>1.40</td>\n",
              "      <td>4.05</td>\n",
              "      <td>3.30</td>\n",
              "      <td>3.40</td>\n",
              "      <td>3.95</td>\n",
              "      <td>n</td>\n",
              "      <td>y</td>\n",
              "      <td>n</td>\n",
              "      <td>n</td>\n",
              "      <td>y</td>\n",
              "    </tr>\n",
              "    <tr>\n",
              "      <th>9916</th>\n",
              "      <td>a286b7286b1247d4a7851709e9f31e1e</td>\n",
              "      <td>Last night was amazing! Not only did I see *PR...</td>\n",
              "      <td>4.25</td>\n",
              "      <td>3.00</td>\n",
              "      <td>3.25</td>\n",
              "      <td>3.50</td>\n",
              "      <td>4.00</td>\n",
              "      <td>y</td>\n",
              "      <td>y</td>\n",
              "      <td>n</td>\n",
              "      <td>y</td>\n",
              "      <td>y</td>\n",
              "    </tr>\n",
              "  </tbody>\n",
              "</table>\n",
              "<p>9902 rows × 12 columns</p>\n",
              "</div>"
            ],
            "text/plain": [
              "                               #AUTHID  ... cOPN\n",
              "0     b7b7764cfa1c523e4e93ab2a79a946c4  ...    y\n",
              "1     b7b7764cfa1c523e4e93ab2a79a946c4  ...    y\n",
              "2     b7b7764cfa1c523e4e93ab2a79a946c4  ...    y\n",
              "3     b7b7764cfa1c523e4e93ab2a79a946c4  ...    y\n",
              "4     b7b7764cfa1c523e4e93ab2a79a946c4  ...    y\n",
              "...                                ...  ...  ...\n",
              "9912  deb899e426c1a5c66c24eeb0d7df6257  ...    y\n",
              "9913  ea28a927cb6663480ea33ca917c3c8ba  ...    y\n",
              "9914  ea28a927cb6663480ea33ca917c3c8ba  ...    y\n",
              "9915  5532642937eb3497a43e15dbb23a9d2d  ...    y\n",
              "9916  a286b7286b1247d4a7851709e9f31e1e  ...    y\n",
              "\n",
              "[9902 rows x 12 columns]"
            ]
          },
          "metadata": {
            "tags": []
          },
          "execution_count": 120
        }
      ]
    },
    {
      "cell_type": "markdown",
      "metadata": {
        "id": "xBAnn2RmJ0WU"
      },
      "source": [
        "##Cleaning Text"
      ]
    },
    {
      "cell_type": "code",
      "metadata": {
        "colab": {
          "base_uri": "https://localhost:8080/",
          "height": 518
        },
        "id": "Va62d1gllntq",
        "outputId": "e6bf1907-07e6-49b3-9b64-f9061631cdd5"
      },
      "source": [
        "df1[df1.columns[1]].replace(\"[^a-zA-Z]\",\" \",regex=True, inplace=True)\n",
        "df1['STATUS'] = df1['STATUS'].str.lower()\n",
        "df1"
      ],
      "execution_count": null,
      "outputs": [
        {
          "output_type": "stream",
          "text": [
            "/usr/local/lib/python3.7/dist-packages/ipykernel_launcher.py:1: SettingWithCopyWarning: \n",
            "A value is trying to be set on a copy of a slice from a DataFrame.\n",
            "Try using .loc[row_indexer,col_indexer] = value instead\n",
            "\n",
            "See the caveats in the documentation: https://pandas.pydata.org/pandas-docs/stable/user_guide/indexing.html#returning-a-view-versus-a-copy\n",
            "  \"\"\"Entry point for launching an IPython kernel.\n"
          ],
          "name": "stderr"
        },
        {
          "output_type": "execute_result",
          "data": {
            "text/html": [
              "<div>\n",
              "<style scoped>\n",
              "    .dataframe tbody tr th:only-of-type {\n",
              "        vertical-align: middle;\n",
              "    }\n",
              "\n",
              "    .dataframe tbody tr th {\n",
              "        vertical-align: top;\n",
              "    }\n",
              "\n",
              "    .dataframe thead th {\n",
              "        text-align: right;\n",
              "    }\n",
              "</style>\n",
              "<table border=\"1\" class=\"dataframe\">\n",
              "  <thead>\n",
              "    <tr style=\"text-align: right;\">\n",
              "      <th></th>\n",
              "      <th>#AUTHID</th>\n",
              "      <th>STATUS</th>\n",
              "      <th>sEXT</th>\n",
              "      <th>sNEU</th>\n",
              "      <th>sAGR</th>\n",
              "      <th>sCON</th>\n",
              "      <th>sOPN</th>\n",
              "      <th>cEXT</th>\n",
              "      <th>cNEU</th>\n",
              "      <th>cAGR</th>\n",
              "      <th>cCON</th>\n",
              "      <th>cOPN</th>\n",
              "    </tr>\n",
              "  </thead>\n",
              "  <tbody>\n",
              "    <tr>\n",
              "      <th>0</th>\n",
              "      <td>b7b7764cfa1c523e4e93ab2a79a946c4</td>\n",
              "      <td>likes the sound of thunder</td>\n",
              "      <td>2.65</td>\n",
              "      <td>3.00</td>\n",
              "      <td>3.15</td>\n",
              "      <td>3.25</td>\n",
              "      <td>4.40</td>\n",
              "      <td>n</td>\n",
              "      <td>y</td>\n",
              "      <td>n</td>\n",
              "      <td>n</td>\n",
              "      <td>y</td>\n",
              "    </tr>\n",
              "    <tr>\n",
              "      <th>1</th>\n",
              "      <td>b7b7764cfa1c523e4e93ab2a79a946c4</td>\n",
              "      <td>is so sleepy it s not even funny that s she ca...</td>\n",
              "      <td>2.65</td>\n",
              "      <td>3.00</td>\n",
              "      <td>3.15</td>\n",
              "      <td>3.25</td>\n",
              "      <td>4.40</td>\n",
              "      <td>n</td>\n",
              "      <td>y</td>\n",
              "      <td>n</td>\n",
              "      <td>n</td>\n",
              "      <td>y</td>\n",
              "    </tr>\n",
              "    <tr>\n",
              "      <th>2</th>\n",
              "      <td>b7b7764cfa1c523e4e93ab2a79a946c4</td>\n",
              "      <td>is sore and wants the knot of muscles at the b...</td>\n",
              "      <td>2.65</td>\n",
              "      <td>3.00</td>\n",
              "      <td>3.15</td>\n",
              "      <td>3.25</td>\n",
              "      <td>4.40</td>\n",
              "      <td>n</td>\n",
              "      <td>y</td>\n",
              "      <td>n</td>\n",
              "      <td>n</td>\n",
              "      <td>y</td>\n",
              "    </tr>\n",
              "    <tr>\n",
              "      <th>3</th>\n",
              "      <td>b7b7764cfa1c523e4e93ab2a79a946c4</td>\n",
              "      <td>likes how the day sounds in this new song</td>\n",
              "      <td>2.65</td>\n",
              "      <td>3.00</td>\n",
              "      <td>3.15</td>\n",
              "      <td>3.25</td>\n",
              "      <td>4.40</td>\n",
              "      <td>n</td>\n",
              "      <td>y</td>\n",
              "      <td>n</td>\n",
              "      <td>n</td>\n",
              "      <td>y</td>\n",
              "    </tr>\n",
              "    <tr>\n",
              "      <th>4</th>\n",
              "      <td>b7b7764cfa1c523e4e93ab2a79a946c4</td>\n",
              "      <td>is home</td>\n",
              "      <td>2.65</td>\n",
              "      <td>3.00</td>\n",
              "      <td>3.15</td>\n",
              "      <td>3.25</td>\n",
              "      <td>4.40</td>\n",
              "      <td>n</td>\n",
              "      <td>y</td>\n",
              "      <td>n</td>\n",
              "      <td>n</td>\n",
              "      <td>y</td>\n",
              "    </tr>\n",
              "    <tr>\n",
              "      <th>...</th>\n",
              "      <td>...</td>\n",
              "      <td>...</td>\n",
              "      <td>...</td>\n",
              "      <td>...</td>\n",
              "      <td>...</td>\n",
              "      <td>...</td>\n",
              "      <td>...</td>\n",
              "      <td>...</td>\n",
              "      <td>...</td>\n",
              "      <td>...</td>\n",
              "      <td>...</td>\n",
              "      <td>...</td>\n",
              "    </tr>\n",
              "    <tr>\n",
              "      <th>9912</th>\n",
              "      <td>deb899e426c1a5c66c24eeb0d7df6257</td>\n",
              "      <td>little things give you away</td>\n",
              "      <td>2.15</td>\n",
              "      <td>2.15</td>\n",
              "      <td>4.10</td>\n",
              "      <td>2.90</td>\n",
              "      <td>4.60</td>\n",
              "      <td>n</td>\n",
              "      <td>n</td>\n",
              "      <td>y</td>\n",
              "      <td>n</td>\n",
              "      <td>y</td>\n",
              "    </tr>\n",
              "    <tr>\n",
              "      <th>9913</th>\n",
              "      <td>ea28a927cb6663480ea33ca917c3c8ba</td>\n",
              "      <td>is wishing it was saturday</td>\n",
              "      <td>4.05</td>\n",
              "      <td>3.35</td>\n",
              "      <td>3.80</td>\n",
              "      <td>3.95</td>\n",
              "      <td>4.50</td>\n",
              "      <td>y</td>\n",
              "      <td>y</td>\n",
              "      <td>y</td>\n",
              "      <td>y</td>\n",
              "      <td>y</td>\n",
              "    </tr>\n",
              "    <tr>\n",
              "      <th>9914</th>\n",
              "      <td>ea28a927cb6663480ea33ca917c3c8ba</td>\n",
              "      <td>is studying hard for the g r e</td>\n",
              "      <td>4.05</td>\n",
              "      <td>3.35</td>\n",
              "      <td>3.80</td>\n",
              "      <td>3.95</td>\n",
              "      <td>4.50</td>\n",
              "      <td>y</td>\n",
              "      <td>y</td>\n",
              "      <td>y</td>\n",
              "      <td>y</td>\n",
              "      <td>y</td>\n",
              "    </tr>\n",
              "    <tr>\n",
              "      <th>9915</th>\n",
              "      <td>5532642937eb3497a43e15dbb23a9d2d</td>\n",
              "      <td>snipers get more head</td>\n",
              "      <td>1.40</td>\n",
              "      <td>4.05</td>\n",
              "      <td>3.30</td>\n",
              "      <td>3.40</td>\n",
              "      <td>3.95</td>\n",
              "      <td>n</td>\n",
              "      <td>y</td>\n",
              "      <td>n</td>\n",
              "      <td>n</td>\n",
              "      <td>y</td>\n",
              "    </tr>\n",
              "    <tr>\n",
              "      <th>9916</th>\n",
              "      <td>a286b7286b1247d4a7851709e9f31e1e</td>\n",
              "      <td>last night was amazing  not only did i see  pr...</td>\n",
              "      <td>4.25</td>\n",
              "      <td>3.00</td>\n",
              "      <td>3.25</td>\n",
              "      <td>3.50</td>\n",
              "      <td>4.00</td>\n",
              "      <td>y</td>\n",
              "      <td>y</td>\n",
              "      <td>n</td>\n",
              "      <td>y</td>\n",
              "      <td>y</td>\n",
              "    </tr>\n",
              "  </tbody>\n",
              "</table>\n",
              "<p>9902 rows × 12 columns</p>\n",
              "</div>"
            ],
            "text/plain": [
              "                               #AUTHID  ... cOPN\n",
              "0     b7b7764cfa1c523e4e93ab2a79a946c4  ...    y\n",
              "1     b7b7764cfa1c523e4e93ab2a79a946c4  ...    y\n",
              "2     b7b7764cfa1c523e4e93ab2a79a946c4  ...    y\n",
              "3     b7b7764cfa1c523e4e93ab2a79a946c4  ...    y\n",
              "4     b7b7764cfa1c523e4e93ab2a79a946c4  ...    y\n",
              "...                                ...  ...  ...\n",
              "9912  deb899e426c1a5c66c24eeb0d7df6257  ...    y\n",
              "9913  ea28a927cb6663480ea33ca917c3c8ba  ...    y\n",
              "9914  ea28a927cb6663480ea33ca917c3c8ba  ...    y\n",
              "9915  5532642937eb3497a43e15dbb23a9d2d  ...    y\n",
              "9916  a286b7286b1247d4a7851709e9f31e1e  ...    y\n",
              "\n",
              "[9902 rows x 12 columns]"
            ]
          },
          "metadata": {
            "tags": []
          },
          "execution_count": 123
        }
      ]
    },
    {
      "cell_type": "code",
      "metadata": {
        "id": "KpH4WmnmvA0X"
      },
      "source": [
        "df_lexicon = pd.read_csv('Emotion_Lexicon.csv', index_col=0)\n",
        "\n",
        "\n",
        "# some of the words have no emotional category, \n",
        "# so let's remove them as they have no use to us.\n",
        "# can be improved by not even loading them when all columns are 0. maybe later.\n",
        "df_lexicon = df_lexicon[(df_lexicon.T != 0).any()]\n",
        "emotional_words = df_lexicon.index.tolist()\n",
        "#emotional_words"
      ],
      "execution_count": null,
      "outputs": []
    },
    {
      "cell_type": "code",
      "metadata": {
        "colab": {
          "base_uri": "https://localhost:8080/",
          "height": 518
        },
        "id": "kPDxVFvgycpq",
        "outputId": "1c566d79-dd92-4eb8-b7ae-88abe4d881b3"
      },
      "source": [
        "import re\n",
        "def tokenization(text):\n",
        "    text = re.split('\\W+', text)\n",
        "    return text\n",
        "\n",
        "df1['STATUS'] = df1['STATUS'].apply(lambda x: tokenization(x.lower()))\n",
        "df1"
      ],
      "execution_count": null,
      "outputs": [
        {
          "output_type": "stream",
          "text": [
            "/usr/local/lib/python3.7/dist-packages/ipykernel_launcher.py:6: SettingWithCopyWarning: \n",
            "A value is trying to be set on a copy of a slice from a DataFrame.\n",
            "Try using .loc[row_indexer,col_indexer] = value instead\n",
            "\n",
            "See the caveats in the documentation: https://pandas.pydata.org/pandas-docs/stable/user_guide/indexing.html#returning-a-view-versus-a-copy\n",
            "  \n"
          ],
          "name": "stderr"
        },
        {
          "output_type": "execute_result",
          "data": {
            "text/html": [
              "<div>\n",
              "<style scoped>\n",
              "    .dataframe tbody tr th:only-of-type {\n",
              "        vertical-align: middle;\n",
              "    }\n",
              "\n",
              "    .dataframe tbody tr th {\n",
              "        vertical-align: top;\n",
              "    }\n",
              "\n",
              "    .dataframe thead th {\n",
              "        text-align: right;\n",
              "    }\n",
              "</style>\n",
              "<table border=\"1\" class=\"dataframe\">\n",
              "  <thead>\n",
              "    <tr style=\"text-align: right;\">\n",
              "      <th></th>\n",
              "      <th>#AUTHID</th>\n",
              "      <th>STATUS</th>\n",
              "      <th>sEXT</th>\n",
              "      <th>sNEU</th>\n",
              "      <th>sAGR</th>\n",
              "      <th>sCON</th>\n",
              "      <th>sOPN</th>\n",
              "      <th>cEXT</th>\n",
              "      <th>cNEU</th>\n",
              "      <th>cAGR</th>\n",
              "      <th>cCON</th>\n",
              "      <th>cOPN</th>\n",
              "    </tr>\n",
              "  </thead>\n",
              "  <tbody>\n",
              "    <tr>\n",
              "      <th>0</th>\n",
              "      <td>b7b7764cfa1c523e4e93ab2a79a946c4</td>\n",
              "      <td>[likes, the, sound, of, thunder, ]</td>\n",
              "      <td>2.65</td>\n",
              "      <td>3.00</td>\n",
              "      <td>3.15</td>\n",
              "      <td>3.25</td>\n",
              "      <td>4.40</td>\n",
              "      <td>n</td>\n",
              "      <td>y</td>\n",
              "      <td>n</td>\n",
              "      <td>n</td>\n",
              "      <td>y</td>\n",
              "    </tr>\n",
              "    <tr>\n",
              "      <th>1</th>\n",
              "      <td>b7b7764cfa1c523e4e93ab2a79a946c4</td>\n",
              "      <td>[is, so, sleepy, it, s, not, even, funny, that...</td>\n",
              "      <td>2.65</td>\n",
              "      <td>3.00</td>\n",
              "      <td>3.15</td>\n",
              "      <td>3.25</td>\n",
              "      <td>4.40</td>\n",
              "      <td>n</td>\n",
              "      <td>y</td>\n",
              "      <td>n</td>\n",
              "      <td>n</td>\n",
              "      <td>y</td>\n",
              "    </tr>\n",
              "    <tr>\n",
              "      <th>2</th>\n",
              "      <td>b7b7764cfa1c523e4e93ab2a79a946c4</td>\n",
              "      <td>[is, sore, and, wants, the, knot, of, muscles,...</td>\n",
              "      <td>2.65</td>\n",
              "      <td>3.00</td>\n",
              "      <td>3.15</td>\n",
              "      <td>3.25</td>\n",
              "      <td>4.40</td>\n",
              "      <td>n</td>\n",
              "      <td>y</td>\n",
              "      <td>n</td>\n",
              "      <td>n</td>\n",
              "      <td>y</td>\n",
              "    </tr>\n",
              "    <tr>\n",
              "      <th>3</th>\n",
              "      <td>b7b7764cfa1c523e4e93ab2a79a946c4</td>\n",
              "      <td>[likes, how, the, day, sounds, in, this, new, ...</td>\n",
              "      <td>2.65</td>\n",
              "      <td>3.00</td>\n",
              "      <td>3.15</td>\n",
              "      <td>3.25</td>\n",
              "      <td>4.40</td>\n",
              "      <td>n</td>\n",
              "      <td>y</td>\n",
              "      <td>n</td>\n",
              "      <td>n</td>\n",
              "      <td>y</td>\n",
              "    </tr>\n",
              "    <tr>\n",
              "      <th>4</th>\n",
              "      <td>b7b7764cfa1c523e4e93ab2a79a946c4</td>\n",
              "      <td>[is, home, ]</td>\n",
              "      <td>2.65</td>\n",
              "      <td>3.00</td>\n",
              "      <td>3.15</td>\n",
              "      <td>3.25</td>\n",
              "      <td>4.40</td>\n",
              "      <td>n</td>\n",
              "      <td>y</td>\n",
              "      <td>n</td>\n",
              "      <td>n</td>\n",
              "      <td>y</td>\n",
              "    </tr>\n",
              "    <tr>\n",
              "      <th>...</th>\n",
              "      <td>...</td>\n",
              "      <td>...</td>\n",
              "      <td>...</td>\n",
              "      <td>...</td>\n",
              "      <td>...</td>\n",
              "      <td>...</td>\n",
              "      <td>...</td>\n",
              "      <td>...</td>\n",
              "      <td>...</td>\n",
              "      <td>...</td>\n",
              "      <td>...</td>\n",
              "      <td>...</td>\n",
              "    </tr>\n",
              "    <tr>\n",
              "      <th>9912</th>\n",
              "      <td>deb899e426c1a5c66c24eeb0d7df6257</td>\n",
              "      <td>[little, things, give, you, away, ]</td>\n",
              "      <td>2.15</td>\n",
              "      <td>2.15</td>\n",
              "      <td>4.10</td>\n",
              "      <td>2.90</td>\n",
              "      <td>4.60</td>\n",
              "      <td>n</td>\n",
              "      <td>n</td>\n",
              "      <td>y</td>\n",
              "      <td>n</td>\n",
              "      <td>y</td>\n",
              "    </tr>\n",
              "    <tr>\n",
              "      <th>9913</th>\n",
              "      <td>ea28a927cb6663480ea33ca917c3c8ba</td>\n",
              "      <td>[is, wishing, it, was, saturday, ]</td>\n",
              "      <td>4.05</td>\n",
              "      <td>3.35</td>\n",
              "      <td>3.80</td>\n",
              "      <td>3.95</td>\n",
              "      <td>4.50</td>\n",
              "      <td>y</td>\n",
              "      <td>y</td>\n",
              "      <td>y</td>\n",
              "      <td>y</td>\n",
              "      <td>y</td>\n",
              "    </tr>\n",
              "    <tr>\n",
              "      <th>9914</th>\n",
              "      <td>ea28a927cb6663480ea33ca917c3c8ba</td>\n",
              "      <td>[is, studying, hard, for, the, g, r, e, ]</td>\n",
              "      <td>4.05</td>\n",
              "      <td>3.35</td>\n",
              "      <td>3.80</td>\n",
              "      <td>3.95</td>\n",
              "      <td>4.50</td>\n",
              "      <td>y</td>\n",
              "      <td>y</td>\n",
              "      <td>y</td>\n",
              "      <td>y</td>\n",
              "      <td>y</td>\n",
              "    </tr>\n",
              "    <tr>\n",
              "      <th>9915</th>\n",
              "      <td>5532642937eb3497a43e15dbb23a9d2d</td>\n",
              "      <td>[snipers, get, more, head]</td>\n",
              "      <td>1.40</td>\n",
              "      <td>4.05</td>\n",
              "      <td>3.30</td>\n",
              "      <td>3.40</td>\n",
              "      <td>3.95</td>\n",
              "      <td>n</td>\n",
              "      <td>y</td>\n",
              "      <td>n</td>\n",
              "      <td>n</td>\n",
              "      <td>y</td>\n",
              "    </tr>\n",
              "    <tr>\n",
              "      <th>9916</th>\n",
              "      <td>a286b7286b1247d4a7851709e9f31e1e</td>\n",
              "      <td>[last, night, was, amazing, not, only, did, i,...</td>\n",
              "      <td>4.25</td>\n",
              "      <td>3.00</td>\n",
              "      <td>3.25</td>\n",
              "      <td>3.50</td>\n",
              "      <td>4.00</td>\n",
              "      <td>y</td>\n",
              "      <td>y</td>\n",
              "      <td>n</td>\n",
              "      <td>y</td>\n",
              "      <td>y</td>\n",
              "    </tr>\n",
              "  </tbody>\n",
              "</table>\n",
              "<p>9902 rows × 12 columns</p>\n",
              "</div>"
            ],
            "text/plain": [
              "                               #AUTHID  ... cOPN\n",
              "0     b7b7764cfa1c523e4e93ab2a79a946c4  ...    y\n",
              "1     b7b7764cfa1c523e4e93ab2a79a946c4  ...    y\n",
              "2     b7b7764cfa1c523e4e93ab2a79a946c4  ...    y\n",
              "3     b7b7764cfa1c523e4e93ab2a79a946c4  ...    y\n",
              "4     b7b7764cfa1c523e4e93ab2a79a946c4  ...    y\n",
              "...                                ...  ...  ...\n",
              "9912  deb899e426c1a5c66c24eeb0d7df6257  ...    y\n",
              "9913  ea28a927cb6663480ea33ca917c3c8ba  ...    y\n",
              "9914  ea28a927cb6663480ea33ca917c3c8ba  ...    y\n",
              "9915  5532642937eb3497a43e15dbb23a9d2d  ...    y\n",
              "9916  a286b7286b1247d4a7851709e9f31e1e  ...    y\n",
              "\n",
              "[9902 rows x 12 columns]"
            ]
          },
          "metadata": {
            "tags": []
          },
          "execution_count": 125
        }
      ]
    },
    {
      "cell_type": "code",
      "metadata": {
        "colab": {
          "base_uri": "https://localhost:8080/",
          "height": 518
        },
        "id": "W66uxsjivRrx",
        "outputId": "2bc0bc76-2b93-4895-c97a-f66683c89901"
      },
      "source": [
        "#Removing unemotional words from the words list\n",
        "\n",
        "def unemotional_words(text):\n",
        "    text = [word for word in text if word not in emotional_words]\n",
        "    return text\n",
        "    \n",
        "df1['STATUS'] = df1['STATUS'].apply(lambda x: unemotional_words(x))\n",
        "df1"
      ],
      "execution_count": null,
      "outputs": [
        {
          "output_type": "stream",
          "text": [
            "/usr/local/lib/python3.7/dist-packages/ipykernel_launcher.py:7: SettingWithCopyWarning: \n",
            "A value is trying to be set on a copy of a slice from a DataFrame.\n",
            "Try using .loc[row_indexer,col_indexer] = value instead\n",
            "\n",
            "See the caveats in the documentation: https://pandas.pydata.org/pandas-docs/stable/user_guide/indexing.html#returning-a-view-versus-a-copy\n",
            "  import sys\n"
          ],
          "name": "stderr"
        },
        {
          "output_type": "execute_result",
          "data": {
            "text/html": [
              "<div>\n",
              "<style scoped>\n",
              "    .dataframe tbody tr th:only-of-type {\n",
              "        vertical-align: middle;\n",
              "    }\n",
              "\n",
              "    .dataframe tbody tr th {\n",
              "        vertical-align: top;\n",
              "    }\n",
              "\n",
              "    .dataframe thead th {\n",
              "        text-align: right;\n",
              "    }\n",
              "</style>\n",
              "<table border=\"1\" class=\"dataframe\">\n",
              "  <thead>\n",
              "    <tr style=\"text-align: right;\">\n",
              "      <th></th>\n",
              "      <th>#AUTHID</th>\n",
              "      <th>STATUS</th>\n",
              "      <th>sEXT</th>\n",
              "      <th>sNEU</th>\n",
              "      <th>sAGR</th>\n",
              "      <th>sCON</th>\n",
              "      <th>sOPN</th>\n",
              "      <th>cEXT</th>\n",
              "      <th>cNEU</th>\n",
              "      <th>cAGR</th>\n",
              "      <th>cCON</th>\n",
              "      <th>cOPN</th>\n",
              "    </tr>\n",
              "  </thead>\n",
              "  <tbody>\n",
              "    <tr>\n",
              "      <th>0</th>\n",
              "      <td>b7b7764cfa1c523e4e93ab2a79a946c4</td>\n",
              "      <td>[likes, the, sound, of, thunder, ]</td>\n",
              "      <td>2.65</td>\n",
              "      <td>3.00</td>\n",
              "      <td>3.15</td>\n",
              "      <td>3.25</td>\n",
              "      <td>4.40</td>\n",
              "      <td>n</td>\n",
              "      <td>y</td>\n",
              "      <td>n</td>\n",
              "      <td>n</td>\n",
              "      <td>y</td>\n",
              "    </tr>\n",
              "    <tr>\n",
              "      <th>1</th>\n",
              "      <td>b7b7764cfa1c523e4e93ab2a79a946c4</td>\n",
              "      <td>[is, so, sleepy, it, s, not, even, funny, that...</td>\n",
              "      <td>2.65</td>\n",
              "      <td>3.00</td>\n",
              "      <td>3.15</td>\n",
              "      <td>3.25</td>\n",
              "      <td>4.40</td>\n",
              "      <td>n</td>\n",
              "      <td>y</td>\n",
              "      <td>n</td>\n",
              "      <td>n</td>\n",
              "      <td>y</td>\n",
              "    </tr>\n",
              "    <tr>\n",
              "      <th>2</th>\n",
              "      <td>b7b7764cfa1c523e4e93ab2a79a946c4</td>\n",
              "      <td>[is, and, wants, the, knot, of, muscles, at, t...</td>\n",
              "      <td>2.65</td>\n",
              "      <td>3.00</td>\n",
              "      <td>3.15</td>\n",
              "      <td>3.25</td>\n",
              "      <td>4.40</td>\n",
              "      <td>n</td>\n",
              "      <td>y</td>\n",
              "      <td>n</td>\n",
              "      <td>n</td>\n",
              "      <td>y</td>\n",
              "    </tr>\n",
              "    <tr>\n",
              "      <th>3</th>\n",
              "      <td>b7b7764cfa1c523e4e93ab2a79a946c4</td>\n",
              "      <td>[likes, how, the, day, sounds, in, this, new, ...</td>\n",
              "      <td>2.65</td>\n",
              "      <td>3.00</td>\n",
              "      <td>3.15</td>\n",
              "      <td>3.25</td>\n",
              "      <td>4.40</td>\n",
              "      <td>n</td>\n",
              "      <td>y</td>\n",
              "      <td>n</td>\n",
              "      <td>n</td>\n",
              "      <td>y</td>\n",
              "    </tr>\n",
              "    <tr>\n",
              "      <th>4</th>\n",
              "      <td>b7b7764cfa1c523e4e93ab2a79a946c4</td>\n",
              "      <td>[is, home, ]</td>\n",
              "      <td>2.65</td>\n",
              "      <td>3.00</td>\n",
              "      <td>3.15</td>\n",
              "      <td>3.25</td>\n",
              "      <td>4.40</td>\n",
              "      <td>n</td>\n",
              "      <td>y</td>\n",
              "      <td>n</td>\n",
              "      <td>n</td>\n",
              "      <td>y</td>\n",
              "    </tr>\n",
              "    <tr>\n",
              "      <th>...</th>\n",
              "      <td>...</td>\n",
              "      <td>...</td>\n",
              "      <td>...</td>\n",
              "      <td>...</td>\n",
              "      <td>...</td>\n",
              "      <td>...</td>\n",
              "      <td>...</td>\n",
              "      <td>...</td>\n",
              "      <td>...</td>\n",
              "      <td>...</td>\n",
              "      <td>...</td>\n",
              "      <td>...</td>\n",
              "    </tr>\n",
              "    <tr>\n",
              "      <th>9912</th>\n",
              "      <td>deb899e426c1a5c66c24eeb0d7df6257</td>\n",
              "      <td>[little, things, give, you, away, ]</td>\n",
              "      <td>2.15</td>\n",
              "      <td>2.15</td>\n",
              "      <td>4.10</td>\n",
              "      <td>2.90</td>\n",
              "      <td>4.60</td>\n",
              "      <td>n</td>\n",
              "      <td>n</td>\n",
              "      <td>y</td>\n",
              "      <td>n</td>\n",
              "      <td>y</td>\n",
              "    </tr>\n",
              "    <tr>\n",
              "      <th>9913</th>\n",
              "      <td>ea28a927cb6663480ea33ca917c3c8ba</td>\n",
              "      <td>[is, wishing, it, was, saturday, ]</td>\n",
              "      <td>4.05</td>\n",
              "      <td>3.35</td>\n",
              "      <td>3.80</td>\n",
              "      <td>3.95</td>\n",
              "      <td>4.50</td>\n",
              "      <td>y</td>\n",
              "      <td>y</td>\n",
              "      <td>y</td>\n",
              "      <td>y</td>\n",
              "      <td>y</td>\n",
              "    </tr>\n",
              "    <tr>\n",
              "      <th>9914</th>\n",
              "      <td>ea28a927cb6663480ea33ca917c3c8ba</td>\n",
              "      <td>[is, studying, hard, for, the, g, r, e, ]</td>\n",
              "      <td>4.05</td>\n",
              "      <td>3.35</td>\n",
              "      <td>3.80</td>\n",
              "      <td>3.95</td>\n",
              "      <td>4.50</td>\n",
              "      <td>y</td>\n",
              "      <td>y</td>\n",
              "      <td>y</td>\n",
              "      <td>y</td>\n",
              "      <td>y</td>\n",
              "    </tr>\n",
              "    <tr>\n",
              "      <th>9915</th>\n",
              "      <td>5532642937eb3497a43e15dbb23a9d2d</td>\n",
              "      <td>[snipers, get, more, head]</td>\n",
              "      <td>1.40</td>\n",
              "      <td>4.05</td>\n",
              "      <td>3.30</td>\n",
              "      <td>3.40</td>\n",
              "      <td>3.95</td>\n",
              "      <td>n</td>\n",
              "      <td>y</td>\n",
              "      <td>n</td>\n",
              "      <td>n</td>\n",
              "      <td>y</td>\n",
              "    </tr>\n",
              "    <tr>\n",
              "      <th>9916</th>\n",
              "      <td>a286b7286b1247d4a7851709e9f31e1e</td>\n",
              "      <td>[last, night, was, amazing, not, only, did, i,...</td>\n",
              "      <td>4.25</td>\n",
              "      <td>3.00</td>\n",
              "      <td>3.25</td>\n",
              "      <td>3.50</td>\n",
              "      <td>4.00</td>\n",
              "      <td>y</td>\n",
              "      <td>y</td>\n",
              "      <td>n</td>\n",
              "      <td>y</td>\n",
              "      <td>y</td>\n",
              "    </tr>\n",
              "  </tbody>\n",
              "</table>\n",
              "<p>9902 rows × 12 columns</p>\n",
              "</div>"
            ],
            "text/plain": [
              "                               #AUTHID  ... cOPN\n",
              "0     b7b7764cfa1c523e4e93ab2a79a946c4  ...    y\n",
              "1     b7b7764cfa1c523e4e93ab2a79a946c4  ...    y\n",
              "2     b7b7764cfa1c523e4e93ab2a79a946c4  ...    y\n",
              "3     b7b7764cfa1c523e4e93ab2a79a946c4  ...    y\n",
              "4     b7b7764cfa1c523e4e93ab2a79a946c4  ...    y\n",
              "...                                ...  ...  ...\n",
              "9912  deb899e426c1a5c66c24eeb0d7df6257  ...    y\n",
              "9913  ea28a927cb6663480ea33ca917c3c8ba  ...    y\n",
              "9914  ea28a927cb6663480ea33ca917c3c8ba  ...    y\n",
              "9915  5532642937eb3497a43e15dbb23a9d2d  ...    y\n",
              "9916  a286b7286b1247d4a7851709e9f31e1e  ...    y\n",
              "\n",
              "[9902 rows x 12 columns]"
            ]
          },
          "metadata": {
            "tags": []
          },
          "execution_count": 126
        }
      ]
    },
    {
      "cell_type": "code",
      "metadata": {
        "colab": {
          "base_uri": "https://localhost:8080/",
          "height": 553
        },
        "id": "vBg_VQvsTwfN",
        "outputId": "6a9b54bf-c6ba-4318-87e3-e07fc469f93f"
      },
      "source": [
        "#Removing Non English Words, like Slangs, spellling mistakes etc\n",
        "import nltk\n",
        "nltk.download('words')\n",
        "words = set(nltk.corpus.words.words())\n",
        "\n",
        "def remove_slang(x):\n",
        "  text = [x1 for x1 in x if x1 in words]\n",
        "  return text\n",
        "\n",
        "df1['STATUS'] = df1['STATUS'].apply(lambda x: remove_slang(x))\n",
        "df1['STATUS'] = df1['STATUS'].apply(lambda x:\" \".join(x))\n",
        "df1"
      ],
      "execution_count": null,
      "outputs": [
        {
          "output_type": "stream",
          "text": [
            "[nltk_data] Downloading package words to /root/nltk_data...\n",
            "[nltk_data]   Package words is already up-to-date!\n"
          ],
          "name": "stdout"
        },
        {
          "output_type": "stream",
          "text": [
            "/usr/local/lib/python3.7/dist-packages/ipykernel_launcher.py:9: SettingWithCopyWarning: \n",
            "A value is trying to be set on a copy of a slice from a DataFrame.\n",
            "Try using .loc[row_indexer,col_indexer] = value instead\n",
            "\n",
            "See the caveats in the documentation: https://pandas.pydata.org/pandas-docs/stable/user_guide/indexing.html#returning-a-view-versus-a-copy\n",
            "  if __name__ == '__main__':\n"
          ],
          "name": "stderr"
        },
        {
          "output_type": "execute_result",
          "data": {
            "text/html": [
              "<div>\n",
              "<style scoped>\n",
              "    .dataframe tbody tr th:only-of-type {\n",
              "        vertical-align: middle;\n",
              "    }\n",
              "\n",
              "    .dataframe tbody tr th {\n",
              "        vertical-align: top;\n",
              "    }\n",
              "\n",
              "    .dataframe thead th {\n",
              "        text-align: right;\n",
              "    }\n",
              "</style>\n",
              "<table border=\"1\" class=\"dataframe\">\n",
              "  <thead>\n",
              "    <tr style=\"text-align: right;\">\n",
              "      <th></th>\n",
              "      <th>#AUTHID</th>\n",
              "      <th>STATUS</th>\n",
              "      <th>sEXT</th>\n",
              "      <th>sNEU</th>\n",
              "      <th>sAGR</th>\n",
              "      <th>sCON</th>\n",
              "      <th>sOPN</th>\n",
              "      <th>cEXT</th>\n",
              "      <th>cNEU</th>\n",
              "      <th>cAGR</th>\n",
              "      <th>cCON</th>\n",
              "      <th>cOPN</th>\n",
              "    </tr>\n",
              "  </thead>\n",
              "  <tbody>\n",
              "    <tr>\n",
              "      <th>0</th>\n",
              "      <td>b7b7764cfa1c523e4e93ab2a79a946c4</td>\n",
              "      <td>[the, sound, of, thunder]</td>\n",
              "      <td>2.65</td>\n",
              "      <td>3.00</td>\n",
              "      <td>3.15</td>\n",
              "      <td>3.25</td>\n",
              "      <td>4.40</td>\n",
              "      <td>n</td>\n",
              "      <td>y</td>\n",
              "      <td>n</td>\n",
              "      <td>n</td>\n",
              "      <td>y</td>\n",
              "    </tr>\n",
              "    <tr>\n",
              "      <th>1</th>\n",
              "      <td>b7b7764cfa1c523e4e93ab2a79a946c4</td>\n",
              "      <td>[is, so, sleepy, it, s, not, even, funny, that...</td>\n",
              "      <td>2.65</td>\n",
              "      <td>3.00</td>\n",
              "      <td>3.15</td>\n",
              "      <td>3.25</td>\n",
              "      <td>4.40</td>\n",
              "      <td>n</td>\n",
              "      <td>y</td>\n",
              "      <td>n</td>\n",
              "      <td>n</td>\n",
              "      <td>y</td>\n",
              "    </tr>\n",
              "    <tr>\n",
              "      <th>2</th>\n",
              "      <td>b7b7764cfa1c523e4e93ab2a79a946c4</td>\n",
              "      <td>[is, and, the, knot, of, at, the, of, her, nec...</td>\n",
              "      <td>2.65</td>\n",
              "      <td>3.00</td>\n",
              "      <td>3.15</td>\n",
              "      <td>3.25</td>\n",
              "      <td>4.40</td>\n",
              "      <td>n</td>\n",
              "      <td>y</td>\n",
              "      <td>n</td>\n",
              "      <td>n</td>\n",
              "      <td>y</td>\n",
              "    </tr>\n",
              "    <tr>\n",
              "      <th>3</th>\n",
              "      <td>b7b7764cfa1c523e4e93ab2a79a946c4</td>\n",
              "      <td>[how, the, day, in, this, new, song]</td>\n",
              "      <td>2.65</td>\n",
              "      <td>3.00</td>\n",
              "      <td>3.15</td>\n",
              "      <td>3.25</td>\n",
              "      <td>4.40</td>\n",
              "      <td>n</td>\n",
              "      <td>y</td>\n",
              "      <td>n</td>\n",
              "      <td>n</td>\n",
              "      <td>y</td>\n",
              "    </tr>\n",
              "    <tr>\n",
              "      <th>4</th>\n",
              "      <td>b7b7764cfa1c523e4e93ab2a79a946c4</td>\n",
              "      <td>[is, home]</td>\n",
              "      <td>2.65</td>\n",
              "      <td>3.00</td>\n",
              "      <td>3.15</td>\n",
              "      <td>3.25</td>\n",
              "      <td>4.40</td>\n",
              "      <td>n</td>\n",
              "      <td>y</td>\n",
              "      <td>n</td>\n",
              "      <td>n</td>\n",
              "      <td>y</td>\n",
              "    </tr>\n",
              "    <tr>\n",
              "      <th>...</th>\n",
              "      <td>...</td>\n",
              "      <td>...</td>\n",
              "      <td>...</td>\n",
              "      <td>...</td>\n",
              "      <td>...</td>\n",
              "      <td>...</td>\n",
              "      <td>...</td>\n",
              "      <td>...</td>\n",
              "      <td>...</td>\n",
              "      <td>...</td>\n",
              "      <td>...</td>\n",
              "      <td>...</td>\n",
              "    </tr>\n",
              "    <tr>\n",
              "      <th>9912</th>\n",
              "      <td>deb899e426c1a5c66c24eeb0d7df6257</td>\n",
              "      <td>[little, give, you, away]</td>\n",
              "      <td>2.15</td>\n",
              "      <td>2.15</td>\n",
              "      <td>4.10</td>\n",
              "      <td>2.90</td>\n",
              "      <td>4.60</td>\n",
              "      <td>n</td>\n",
              "      <td>n</td>\n",
              "      <td>y</td>\n",
              "      <td>n</td>\n",
              "      <td>y</td>\n",
              "    </tr>\n",
              "    <tr>\n",
              "      <th>9913</th>\n",
              "      <td>ea28a927cb6663480ea33ca917c3c8ba</td>\n",
              "      <td>[is, wishing, it, was]</td>\n",
              "      <td>4.05</td>\n",
              "      <td>3.35</td>\n",
              "      <td>3.80</td>\n",
              "      <td>3.95</td>\n",
              "      <td>4.50</td>\n",
              "      <td>y</td>\n",
              "      <td>y</td>\n",
              "      <td>y</td>\n",
              "      <td>y</td>\n",
              "      <td>y</td>\n",
              "    </tr>\n",
              "    <tr>\n",
              "      <th>9914</th>\n",
              "      <td>ea28a927cb6663480ea33ca917c3c8ba</td>\n",
              "      <td>[is, hard, for, the, g, r, e]</td>\n",
              "      <td>4.05</td>\n",
              "      <td>3.35</td>\n",
              "      <td>3.80</td>\n",
              "      <td>3.95</td>\n",
              "      <td>4.50</td>\n",
              "      <td>y</td>\n",
              "      <td>y</td>\n",
              "      <td>y</td>\n",
              "      <td>y</td>\n",
              "      <td>y</td>\n",
              "    </tr>\n",
              "    <tr>\n",
              "      <th>9915</th>\n",
              "      <td>5532642937eb3497a43e15dbb23a9d2d</td>\n",
              "      <td>[get, more, head]</td>\n",
              "      <td>1.40</td>\n",
              "      <td>4.05</td>\n",
              "      <td>3.30</td>\n",
              "      <td>3.40</td>\n",
              "      <td>3.95</td>\n",
              "      <td>n</td>\n",
              "      <td>y</td>\n",
              "      <td>n</td>\n",
              "      <td>n</td>\n",
              "      <td>y</td>\n",
              "    </tr>\n",
              "    <tr>\n",
              "      <th>9916</th>\n",
              "      <td>a286b7286b1247d4a7851709e9f31e1e</td>\n",
              "      <td>[last, night, was, amazing, not, only, did, i,...</td>\n",
              "      <td>4.25</td>\n",
              "      <td>3.00</td>\n",
              "      <td>3.25</td>\n",
              "      <td>3.50</td>\n",
              "      <td>4.00</td>\n",
              "      <td>y</td>\n",
              "      <td>y</td>\n",
              "      <td>n</td>\n",
              "      <td>y</td>\n",
              "      <td>y</td>\n",
              "    </tr>\n",
              "  </tbody>\n",
              "</table>\n",
              "<p>9902 rows × 12 columns</p>\n",
              "</div>"
            ],
            "text/plain": [
              "                               #AUTHID  ... cOPN\n",
              "0     b7b7764cfa1c523e4e93ab2a79a946c4  ...    y\n",
              "1     b7b7764cfa1c523e4e93ab2a79a946c4  ...    y\n",
              "2     b7b7764cfa1c523e4e93ab2a79a946c4  ...    y\n",
              "3     b7b7764cfa1c523e4e93ab2a79a946c4  ...    y\n",
              "4     b7b7764cfa1c523e4e93ab2a79a946c4  ...    y\n",
              "...                                ...  ...  ...\n",
              "9912  deb899e426c1a5c66c24eeb0d7df6257  ...    y\n",
              "9913  ea28a927cb6663480ea33ca917c3c8ba  ...    y\n",
              "9914  ea28a927cb6663480ea33ca917c3c8ba  ...    y\n",
              "9915  5532642937eb3497a43e15dbb23a9d2d  ...    y\n",
              "9916  a286b7286b1247d4a7851709e9f31e1e  ...    y\n",
              "\n",
              "[9902 rows x 12 columns]"
            ]
          },
          "metadata": {
            "tags": []
          },
          "execution_count": 127
        }
      ]
    },
    {
      "cell_type": "code",
      "metadata": {
        "id": "L8F1OIX_JtaB"
      },
      "source": [
        "con_col = ['#AUTHID','sEXT','sNEU','sAGR','sCON','sOPN']"
      ],
      "execution_count": null,
      "outputs": []
    },
    {
      "cell_type": "code",
      "metadata": {
        "id": "dC-bbYezl8Lz",
        "colab": {
          "base_uri": "https://localhost:8080/"
        },
        "outputId": "57f5f635-b61a-483a-a117-9aa4ef5ac06f"
      },
      "source": [
        "x = df1['STATUS']\n",
        "y = df1.drop(con_col,axis=1)\n",
        "y.isnull().sum()"
      ],
      "execution_count": null,
      "outputs": [
        {
          "output_type": "execute_result",
          "data": {
            "text/plain": [
              "STATUS    0\n",
              "cEXT      0\n",
              "cNEU      0\n",
              "cAGR      0\n",
              "cCON      0\n",
              "cOPN      0\n",
              "dtype: int64"
            ]
          },
          "metadata": {
            "tags": []
          },
          "execution_count": 130
        }
      ]
    },
    {
      "cell_type": "code",
      "metadata": {
        "id": "bxb1LG9C2L4z"
      },
      "source": [
        "#x_train[7787]"
      ],
      "execution_count": null,
      "outputs": []
    },
    {
      "cell_type": "code",
      "metadata": {
        "id": "r4Uwh7SDJB28"
      },
      "source": [
        "from sklearn.model_selection import train_test_split\n",
        "x_train,x_test,yEXT_train,yEXT_test = train_test_split(x,y['cEXT'], test_size=0.20, random_state=42)\n",
        "x_train,x_test,yNEU_train,yNEU_test = train_test_split(x,y['cNEU'], test_size=0.20, random_state=42)\n",
        "x_train,x_test,yAGR_train,yAGR_test = train_test_split(x,y['cAGR'], test_size=0.20, random_state=42)\n",
        "x_train,x_test,yCON_train,yCON_test = train_test_split(x,y['cCON'], test_size=0.20, random_state=42)\n",
        "x_train,x_test,yOPN_train,yOPN_test = train_test_split(x,y['cOPN'], test_size=0.20, random_state=42)"
      ],
      "execution_count": null,
      "outputs": []
    },
    {
      "cell_type": "markdown",
      "metadata": {
        "id": "2XW67HAs3P6j"
      },
      "source": [
        "Creating a bag of words method to create a vocabulary of each of the \n",
        "big five personality traits so that the model learns which words are associated \n",
        "with which trait."
      ]
    },
    {
      "cell_type": "code",
      "metadata": {
        "id": "gyzIWE5wJDDH"
      },
      "source": [
        "\n",
        "from sklearn.feature_extraction.text import CountVectorizer\n",
        "bow_vectorizer = CountVectorizer()\n",
        "\n",
        "# create vectors from our words\n",
        "train_x_vectors = bow_vectorizer.fit_transform(x_train)\n",
        "test_x_vectors = bow_vectorizer.transform(x_test)"
      ],
      "execution_count": null,
      "outputs": []
    },
    {
      "cell_type": "code",
      "metadata": {
        "colab": {
          "base_uri": "https://localhost:8080/"
        },
        "id": "NFUnAy6cvoVI",
        "outputId": "2b388f35-0a60-420d-f9f6-27d3f2c2bd26"
      },
      "source": [
        "len(bow_vectorizer.vocabulary_)"
      ],
      "execution_count": null,
      "outputs": [
        {
          "output_type": "execute_result",
          "data": {
            "text/plain": [
              "4761"
            ]
          },
          "metadata": {
            "tags": []
          },
          "execution_count": 135
        }
      ]
    },
    {
      "cell_type": "markdown",
      "metadata": {
        "id": "nABqfIY_3kXC"
      },
      "source": [
        "##Model Building"
      ]
    },
    {
      "cell_type": "code",
      "metadata": {
        "colab": {
          "base_uri": "https://localhost:8080/"
        },
        "id": "GT5icb2iMfPt",
        "outputId": "e1f3c14b-8e13-4762-cbe0-27907399a4b9"
      },
      "source": [
        "from sklearn import svm\n",
        "name = \"svm\"\n",
        "evaluation = []\n",
        "\n",
        "print(\"training Extraversion cEXT using SVM...\")\n",
        "clf_svm_cEXT = svm.SVC(kernel='linear')\n",
        "clf_svm_cEXT.fit(train_x_vectors, yEXT_train)\n",
        "evaluation.append([name, \"cEXT\", clf_svm_cEXT.score(test_x_vectors, yEXT_test)])\n",
        "print(\"cEXT score: \", clf_svm_cEXT.score(test_x_vectors, yEXT_test))\n",
        "\n",
        "try:\n",
        "    print(\"training Neuroticism cNEU using SVM...\")\n",
        "    clf_svm_cNEU = svm.SVC(kernel='linear')\n",
        "    clf_svm_cNEU.fit(train_x_vectors, yNEU_train)\n",
        "    evaluation.append([name, \"cNEU\", clf_svm_cNEU.score(test_x_vectors, yNEU_test)])\n",
        "    print(\"cNEU score: \", clf_svm_cNEU.score(test_x_vectors, yNEU_test))\n",
        "except:\n",
        "    print(\"with this data not available (MBTI only 4 dimensions)\")\n",
        "    \n",
        "print(\"training Agreeableness cAGR using using SVM...\")\n",
        "clf_svm_cAGR = svm.SVC(kernel='linear')\n",
        "clf_svm_cAGR.fit(train_x_vectors, yAGR_train)\n",
        "evaluation.append([ name, \"cAGR\", clf_svm_cAGR.score(test_x_vectors, yAGR_test)])\n",
        "\n",
        "print(\"cAGR score: \", clf_svm_cAGR.score(test_x_vectors, yAGR_test))\n",
        "\n",
        "print(\"training Conscientiousness cCON using SVM...\")\n",
        "clf_svm_cCON = svm.SVC(kernel='linear')\n",
        "clf_svm_cCON.fit(train_x_vectors, yCON_train)\n",
        "evaluation.append([ name, \"cCON\", clf_svm_cCON.score(test_x_vectors, yCON_test)])\n",
        "print(\"cCON score: \", clf_svm_cCON.score(test_x_vectors, yCON_test))\n",
        "\n",
        "print(\"training Openness to Experience cOPN using SVM...\")\n",
        "clf_svm_cOPN = svm.SVC(kernel='linear')\n",
        "clf_svm_cOPN.fit(train_x_vectors, yOPN_train)\n",
        "evaluation.append([ name, \"cOPN\", clf_svm_cOPN.score(test_x_vectors, yOPN_test)])\n",
        "print(\"cOPN score: \", clf_svm_cOPN.score(test_x_vectors, yOPN_test))"
      ],
      "execution_count": null,
      "outputs": [
        {
          "output_type": "stream",
          "text": [
            "training Extraversion cEXT using SVM...\n",
            "cEXT score:  0.5678950025239778\n",
            "training Neuroticism cNEU using SVM...\n",
            "cNEU score:  0.602221100454316\n",
            "training Agreeableness cAGR using using SVM...\n",
            "cAGR score:  0.5406360424028268\n",
            "training Conscientiousness cCON using SVM...\n",
            "cCON score:  0.5729429581019687\n",
            "training Openness to Experience cOPN using SVM...\n",
            "cOPN score:  0.7269056032306915\n"
          ],
          "name": "stdout"
        }
      ]
    },
    {
      "cell_type": "code",
      "metadata": {
        "id": "PYrcwaAynKvS"
      },
      "source": [
        "from sklearn import metrics"
      ],
      "execution_count": null,
      "outputs": []
    },
    {
      "cell_type": "code",
      "metadata": {
        "colab": {
          "base_uri": "https://localhost:8080/"
        },
        "id": "E_DPDhjUOC4U",
        "outputId": "6f0a3963-c7bb-4c69-8dfa-c30c45be78ea"
      },
      "source": [
        "from sklearn import tree\n",
        "name = \"tree\"\n",
        "#evaluation = []\n",
        "\n",
        "print(\"training Extraversion cEXT using TREE...\")\n",
        "clf_dec_cEXT = tree.DecisionTreeClassifier()\n",
        "clf_dec_cEXT.fit(train_x_vectors, yEXT_train)\n",
        "evaluation.append([name, \"cEXT\", clf_dec_cEXT.score(test_x_vectors, yEXT_test)])\n",
        "print(\"cEXT score: \", clf_dec_cEXT.score(test_x_vectors, yEXT_test))\n",
        "\n",
        "try:\n",
        "    print(\"training Neuroticism cNEU using TREE...\")\n",
        "    clf_dec_cNEU = tree.DecisionTreeClassifier()\n",
        "    clf_dec_cNEU.fit(train_x_vectors, yNEU_train)\n",
        "    evaluation.append([name, \"cNEU\", clf_dec_cNEU.score(test_x_vectors, yNEU_test)])\n",
        "    print(\"cNEU score: \", clf_dec_cNEU.score(test_x_vectors, yNEU_test))\n",
        "except:\n",
        "    print(\"with this data not available (MBTI only 4 dimensions)\")\n",
        "    \n",
        "print(\"training Agreeableness cAGR using using TREE...\")\n",
        "clf_dec_cAGR = tree.DecisionTreeClassifier()\n",
        "clf_dec_cAGR.fit(train_x_vectors, yAGR_train)\n",
        "evaluation.append([ name, \"cAGR\", clf_dec_cAGR.score(test_x_vectors, yAGR_test)])\n",
        "\n",
        "print(\"cAGR score: \", clf_dec_cAGR.score(test_x_vectors, yAGR_test))\n",
        "\n",
        "print(\"training Conscientiousness cCON using TREE...\")\n",
        "clf_dec_cCON = tree.DecisionTreeClassifier()\n",
        "clf_dec_cCON.fit(train_x_vectors, yCON_train)\n",
        "evaluation.append([ name, \"cCON\", clf_dec_cCON.score(test_x_vectors, yCON_test)])\n",
        "print(\"cCON score: \", clf_dec_cCON.score(test_x_vectors, yCON_test))\n",
        "\n",
        "print(\"training Openness to Experience cOPN using TREE...\")\n",
        "clf_dec_cOPN = tree.DecisionTreeClassifier()\n",
        "clf_dec_cOPN.fit(train_x_vectors, yOPN_train)\n",
        "evaluation.append([ name, \"cOPN\", clf_dec_cOPN.score(test_x_vectors, yOPN_test)])\n",
        "print(\"cOPN score: \", clf_dec_cOPN.score(test_x_vectors, yOPN_test))"
      ],
      "execution_count": null,
      "outputs": [
        {
          "output_type": "stream",
          "text": [
            "training Extraversion cEXT using TREE...\n",
            "cEXT score:  0.5360928823826351\n",
            "training Neuroticism cNEU using TREE...\n",
            "cNEU score:  0.5759717314487632\n",
            "training Agreeableness cAGR using using TREE...\n",
            "cAGR score:  0.5209490156486623\n",
            "training Conscientiousness cCON using TREE...\n",
            "cCON score:  0.5512367491166078\n",
            "training Openness to Experience cOPN using TREE...\n",
            "cOPN score:  0.6552246340232206\n"
          ],
          "name": "stdout"
        }
      ]
    },
    {
      "cell_type": "code",
      "metadata": {
        "colab": {
          "base_uri": "https://localhost:8080/"
        },
        "id": "e-wcVwX26FyK",
        "outputId": "44705b9f-42f5-4275-b157-2a4ecd64a660"
      },
      "source": [
        "from sklearn.naive_bayes import GaussianNB\n",
        "name = \"gNB\"\n",
        "#evaluation = []\n",
        "\n",
        "print(\"training Extraversion cEXT using gNB...\")\n",
        "clf_gnb_cEXT = GaussianNB()\n",
        "clf_gnb_cEXT.fit(train_x_vectors.toarray(), yEXT_train)\n",
        "evaluation.append([name, \"cEXT\", clf_gnb_cEXT.score(test_x_vectors.toarray(), yEXT_test)])\n",
        "print(\"cEXT score: \", clf_gnb_cEXT.score(test_x_vectors.toarray(), yEXT_test))\n",
        "\n",
        "try:\n",
        "    print(\"training Neuroticism cNEU using gNB...\")\n",
        "    clf_gnb_cNEU = GaussianNB()\n",
        "    clf_gnb_cNEU.fit(train_x_vectors.toarray(), yNEU_train)\n",
        "    evaluation.append([name, \"cNEU\", clf_gnb_cNEU.score(test_x_vectors.toarray(), yNEU_test)])\n",
        "    print(\"cNEU score: \", clf_gnb_cNEU.score(test_x_vectors.toarray(), yNEU_test))\n",
        "except:\n",
        "    print(\"with this data not available (MBTI only 4 dimensions)\")\n",
        "    \n",
        "print(\"training Agreeableness cAGR using using gNB...\")\n",
        "clf_gnb_cAGR = GaussianNB()\n",
        "clf_gnb_cAGR.fit(train_x_vectors.toarray(), yAGR_train)\n",
        "evaluation.append([ name, \"cAGR\", clf_gnb_cAGR.score(test_x_vectors.toarray(), yAGR_test)])\n",
        "\n",
        "print(\"cAGR score: \", clf_gnb_cAGR.score(test_x_vectors.toarray(), yAGR_test))\n",
        "\n",
        "print(\"training Conscientiousness cCON using gNB...\")\n",
        "clf_gnb_cCON = GaussianNB()\n",
        "clf_gnb_cCON.fit(train_x_vectors.toarray(), yCON_train)\n",
        "evaluation.append([ name, \"cCON\", clf_gnb_cCON.score(test_x_vectors.toarray(), yCON_test)])\n",
        "print(\"cCON score: \", clf_gnb_cCON.score(test_x_vectors.toarray(), yCON_test))\n",
        "\n",
        "print(\"training Openness to Experience cOPN using gNB...\")\n",
        "clf_gnb_cOPN = GaussianNB()\n",
        "clf_gnb_cOPN.fit(train_x_vectors.toarray(), yOPN_train)\n",
        "evaluation.append([ name, \"cOPN\", clf_gnb_cOPN.score(test_x_vectors.toarray(), yOPN_test)])\n",
        "print(\"cOPN score: \", clf_gnb_cOPN.score(test_x_vectors.toarray(), yOPN_test))"
      ],
      "execution_count": null,
      "outputs": [
        {
          "output_type": "stream",
          "text": [
            "training Extraversion cEXT using gNB...\n",
            "cEXT score:  0.47753659767794043\n",
            "training Neuroticism cNEU using gNB...\n",
            "cNEU score:  0.447753659767794\n",
            "training Agreeableness cAGR using using gNB...\n",
            "cAGR score:  0.5037859666834932\n",
            "training Conscientiousness cCON using gNB...\n",
            "cCON score:  0.5017667844522968\n",
            "training Openness to Experience cOPN using gNB...\n",
            "cOPN score:  0.39121655729429583\n"
          ],
          "name": "stdout"
        }
      ]
    },
    {
      "cell_type": "code",
      "metadata": {
        "colab": {
          "base_uri": "https://localhost:8080/"
        },
        "id": "HiSHVXNucDKJ",
        "outputId": "4e2e0ad8-e2b5-435e-9b05-07d33d42064a"
      },
      "source": [
        "from sklearn.linear_model import LogisticRegression\n",
        "name = \"logR\"\n",
        "#evaluation = []\n",
        "\n",
        "print(\"training Extraversion cEXT using LogR...\")\n",
        "clf_log_cEXT = LogisticRegression(solver=\"newton-cg\")\n",
        "clf_log_cEXT.fit(train_x_vectors, yEXT_train)\n",
        "evaluation.append([name, \"cEXT\", clf_log_cEXT.score(test_x_vectors, yEXT_test)])\n",
        "print(\"cEXT score: \", clf_log_cEXT.score(test_x_vectors, yEXT_test))\n",
        "\n",
        "try:\n",
        "    print(\"training Neuroticism cNEU using LogR...\")\n",
        "    clf_log_cNEU = LogisticRegression(solver='newton-cg')\n",
        "    clf_log_cNEU.fit(train_x_vectors, yNEU_train)\n",
        "    evaluation.append([name, \"cNEU\", clf_log_cNEU.score(test_x_vectors, yNEU_test)])\n",
        "    print(\"cNEU score: \", clf_log_cNEU.score(test_x_vectors, yNEU_test))\n",
        "except:\n",
        "    print(\"with this data not available (MBTI only 4 dimensions)\")\n",
        "    \n",
        "print(\"training Agreeableness cAGR using using LogR...\")\n",
        "clf_log_cAGR = LogisticRegression(solver='newton-cg')\n",
        "clf_log_cAGR.fit(train_x_vectors, yAGR_train)\n",
        "evaluation.append([ name, \"cAGR\", clf_log_cAGR.score(test_x_vectors, yAGR_test)])\n",
        "\n",
        "print(\"cAGR score: \", clf_log_cAGR.score(test_x_vectors, yAGR_test))\n",
        "\n",
        "print(\"training Conscientiousness cCON using LogR...\")\n",
        "clf_log_cCON = LogisticRegression(solver='newton-cg')\n",
        "clf_log_cCON.fit(train_x_vectors, yCON_train)\n",
        "evaluation.append([ name, \"cCON\", clf_log_cCON.score(test_x_vectors, yCON_test)])\n",
        "print(\"cCON score: \", clf_log_cCON.score(test_x_vectors, yCON_test))\n",
        "\n",
        "print(\"training Openness to Experience cOPN using LogR...\")\n",
        "clf_log_cOPN = LogisticRegression(solver='newton-cg')\n",
        "clf_log_cOPN.fit(train_x_vectors, yOPN_train)\n",
        "evaluation.append([ name, \"cOPN\", clf_log_cOPN.score(test_x_vectors, yOPN_test)])\n",
        "print(\"cOPN score: \", clf_log_cOPN.score(test_x_vectors, yOPN_test))"
      ],
      "execution_count": null,
      "outputs": [
        {
          "output_type": "stream",
          "text": [
            "training Extraversion cEXT using LogR...\n",
            "cEXT score:  0.5734477536597677\n",
            "training Neuroticism cNEU using LogR...\n",
            "cNEU score:  0.6219081272084805\n",
            "training Agreeableness cAGR using using LogR...\n",
            "cAGR score:  0.5502271580010096\n",
            "training Conscientiousness cCON using LogR...\n",
            "cCON score:  0.5810196870267542\n",
            "training Openness to Experience cOPN using LogR...\n",
            "cOPN score:  0.7319535588086825\n"
          ],
          "name": "stdout"
        }
      ]
    },
    {
      "cell_type": "code",
      "metadata": {
        "colab": {
          "base_uri": "https://localhost:8080/"
        },
        "id": "yShPYtTI7IAe",
        "outputId": "d0f8bc20-d0ba-417f-a93e-92baad498e81"
      },
      "source": [
        "from sklearn.ensemble import RandomForestClassifier\n",
        "name = \"RF\"\n",
        "#evaluation = []\n",
        "\n",
        "print(\"training Extraversion cEXT using RF...\")\n",
        "clf_rf_cEXT = RandomForestClassifier()\n",
        "clf_rf_cEXT.fit(train_x_vectors, yEXT_train)\n",
        "evaluation.append([name, \"cEXT\", clf_rf_cEXT.score(test_x_vectors, yEXT_test)])\n",
        "print(\"cEXT score: \", clf_rf_cEXT.score(test_x_vectors, yEXT_test))\n",
        "\n",
        "try:\n",
        "    print(\"training Neuroticism cNEU using RF...\")\n",
        "    clf_rf_cNEU = RandomForestClassifier()\n",
        "    clf_rf_cNEU.fit(train_x_vectors, yNEU_train)\n",
        "    evaluation.append([name, \"cNEU\", clf_rf_cNEU.score(test_x_vectors, yNEU_test)])\n",
        "    print(\"cNEU score: \", clf_rf_cNEU.score(test_x_vectors, yNEU_test))\n",
        "except:\n",
        "    print(\"with this data not available (MBTI only 4 dimensions)\")\n",
        "    \n",
        "print(\"training Agreeableness cAGR using using RF...\")\n",
        "clf_rf_cAGR = RandomForestClassifier()\n",
        "clf_rf_cAGR.fit(train_x_vectors, yAGR_train)\n",
        "evaluation.append([ name, \"cAGR\", clf_rf_cAGR.score(test_x_vectors, yAGR_test)])\n",
        "\n",
        "print(\"cAGR score: \", clf_rf_cAGR.score(test_x_vectors, yAGR_test))\n",
        "\n",
        "print(\"training Conscientiousness cCON using RF...\")\n",
        "clf_rf_cCON = RandomForestClassifier()\n",
        "clf_rf_cCON.fit(train_x_vectors, yCON_train)\n",
        "evaluation.append([ name, \"cCON\", clf_rf_cCON.score(test_x_vectors, yCON_test)])\n",
        "print(\"cCON score: \", clf_rf_cCON.score(test_x_vectors, yCON_test))\n",
        "\n",
        "print(\"training Openness to Experience cOPN using RF...\")\n",
        "clf_rf_cOPN = RandomForestClassifier()\n",
        "clf_rf_cOPN.fit(train_x_vectors, yOPN_train)\n",
        "evaluation.append([ name, \"cOPN\", clf_rf_cOPN.score(test_x_vectors, yOPN_test)])\n",
        "print(\"cOPN score: \", clf_rf_cOPN.score(test_x_vectors, yOPN_test))"
      ],
      "execution_count": null,
      "outputs": [
        {
          "output_type": "stream",
          "text": [
            "training Extraversion cEXT using RF...\n",
            "cEXT score:  0.5739525492175669\n",
            "training Neuroticism cNEU using RF...\n",
            "cNEU score:  0.6229177183240787\n",
            "training Agreeableness cAGR using using RF...\n",
            "cAGR score:  0.5552751135790005\n",
            "training Conscientiousness cCON using RF...\n",
            "cCON score:  0.591115598182736\n",
            "training Openness to Experience cOPN using RF...\n",
            "cOPN score:  0.7410398788490661\n"
          ],
          "name": "stdout"
        }
      ]
    },
    {
      "cell_type": "markdown",
      "metadata": {
        "id": "4mLX1ZP23o6U"
      },
      "source": [
        "##Evaluating results"
      ]
    },
    {
      "cell_type": "code",
      "metadata": {
        "colab": {
          "base_uri": "https://localhost:8080/"
        },
        "id": "QE8hFzKTVvFB",
        "outputId": "722b6b30-eb71-4c93-9919-038a6f4f1f04"
      },
      "source": [
        "evaluation"
      ],
      "execution_count": null,
      "outputs": [
        {
          "output_type": "execute_result",
          "data": {
            "text/plain": [
              "[['svm', 'cEXT', 0.5678950025239778],\n",
              " ['svm', 'cNEU', 0.602221100454316],\n",
              " ['svm', 'cAGR', 0.5406360424028268],\n",
              " ['svm', 'cCON', 0.5729429581019687],\n",
              " ['svm', 'cOPN', 0.7269056032306915],\n",
              " ['tree', 'cEXT', 0.5360928823826351],\n",
              " ['tree', 'cNEU', 0.5759717314487632],\n",
              " ['tree', 'cAGR', 0.5209490156486623],\n",
              " ['tree', 'cCON', 0.5512367491166078],\n",
              " ['tree', 'cOPN', 0.6552246340232206],\n",
              " ['gNB', 'cEXT', 0.47753659767794043],\n",
              " ['gNB', 'cNEU', 0.447753659767794],\n",
              " ['gNB', 'cAGR', 0.5037859666834932],\n",
              " ['gNB', 'cCON', 0.5017667844522968],\n",
              " ['gNB', 'cOPN', 0.39121655729429583],\n",
              " ['logR', 'cEXT', 0.5734477536597677],\n",
              " ['logR', 'cNEU', 0.6219081272084805],\n",
              " ['logR', 'cAGR', 0.5502271580010096],\n",
              " ['logR', 'cCON', 0.5810196870267542],\n",
              " ['logR', 'cOPN', 0.7319535588086825],\n",
              " ['RF', 'cEXT', 0.5739525492175669],\n",
              " ['RF', 'cNEU', 0.6229177183240787],\n",
              " ['RF', 'cAGR', 0.5552751135790005],\n",
              " ['RF', 'cCON', 0.591115598182736],\n",
              " ['RF', 'cOPN', 0.7410398788490661]]"
            ]
          },
          "metadata": {
            "tags": []
          },
          "execution_count": 142
        }
      ]
    },
    {
      "cell_type": "code",
      "metadata": {
        "id": "yvEiYSKh9UNG",
        "colab": {
          "base_uri": "https://localhost:8080/",
          "height": 200
        },
        "outputId": "df7825fc-bbfd-4f65-d81b-1b948e3367da"
      },
      "source": [
        "d = pd.DataFrame(evaluation,columns=['1','2','3'])\n",
        "#df.loc[df['#AUTHID'] == i\n",
        "d1 = d.loc[d['2']=='cEXT']\n",
        "d1\n",
        "#RF\n",
        "#57%"
      ],
      "execution_count": null,
      "outputs": [
        {
          "output_type": "execute_result",
          "data": {
            "text/html": [
              "<div>\n",
              "<style scoped>\n",
              "    .dataframe tbody tr th:only-of-type {\n",
              "        vertical-align: middle;\n",
              "    }\n",
              "\n",
              "    .dataframe tbody tr th {\n",
              "        vertical-align: top;\n",
              "    }\n",
              "\n",
              "    .dataframe thead th {\n",
              "        text-align: right;\n",
              "    }\n",
              "</style>\n",
              "<table border=\"1\" class=\"dataframe\">\n",
              "  <thead>\n",
              "    <tr style=\"text-align: right;\">\n",
              "      <th></th>\n",
              "      <th>1</th>\n",
              "      <th>2</th>\n",
              "      <th>3</th>\n",
              "    </tr>\n",
              "  </thead>\n",
              "  <tbody>\n",
              "    <tr>\n",
              "      <th>0</th>\n",
              "      <td>svm</td>\n",
              "      <td>cEXT</td>\n",
              "      <td>0.567895</td>\n",
              "    </tr>\n",
              "    <tr>\n",
              "      <th>5</th>\n",
              "      <td>tree</td>\n",
              "      <td>cEXT</td>\n",
              "      <td>0.536093</td>\n",
              "    </tr>\n",
              "    <tr>\n",
              "      <th>10</th>\n",
              "      <td>gNB</td>\n",
              "      <td>cEXT</td>\n",
              "      <td>0.477537</td>\n",
              "    </tr>\n",
              "    <tr>\n",
              "      <th>15</th>\n",
              "      <td>logR</td>\n",
              "      <td>cEXT</td>\n",
              "      <td>0.573448</td>\n",
              "    </tr>\n",
              "    <tr>\n",
              "      <th>20</th>\n",
              "      <td>RF</td>\n",
              "      <td>cEXT</td>\n",
              "      <td>0.573953</td>\n",
              "    </tr>\n",
              "  </tbody>\n",
              "</table>\n",
              "</div>"
            ],
            "text/plain": [
              "       1     2         3\n",
              "0    svm  cEXT  0.567895\n",
              "5   tree  cEXT  0.536093\n",
              "10   gNB  cEXT  0.477537\n",
              "15  logR  cEXT  0.573448\n",
              "20    RF  cEXT  0.573953"
            ]
          },
          "metadata": {
            "tags": []
          },
          "execution_count": 144
        }
      ]
    },
    {
      "cell_type": "code",
      "metadata": {
        "colab": {
          "base_uri": "https://localhost:8080/",
          "height": 200
        },
        "id": "7rV2ysacVVcj",
        "outputId": "0bef49d6-27cf-4193-c999-8465a2cfe75b"
      },
      "source": [
        "d2 = d.loc[d['2']=='cNEU']\n",
        "d2\n",
        "#RF\n",
        "#62%"
      ],
      "execution_count": null,
      "outputs": [
        {
          "output_type": "execute_result",
          "data": {
            "text/html": [
              "<div>\n",
              "<style scoped>\n",
              "    .dataframe tbody tr th:only-of-type {\n",
              "        vertical-align: middle;\n",
              "    }\n",
              "\n",
              "    .dataframe tbody tr th {\n",
              "        vertical-align: top;\n",
              "    }\n",
              "\n",
              "    .dataframe thead th {\n",
              "        text-align: right;\n",
              "    }\n",
              "</style>\n",
              "<table border=\"1\" class=\"dataframe\">\n",
              "  <thead>\n",
              "    <tr style=\"text-align: right;\">\n",
              "      <th></th>\n",
              "      <th>1</th>\n",
              "      <th>2</th>\n",
              "      <th>3</th>\n",
              "    </tr>\n",
              "  </thead>\n",
              "  <tbody>\n",
              "    <tr>\n",
              "      <th>1</th>\n",
              "      <td>svm</td>\n",
              "      <td>cNEU</td>\n",
              "      <td>0.602221</td>\n",
              "    </tr>\n",
              "    <tr>\n",
              "      <th>6</th>\n",
              "      <td>tree</td>\n",
              "      <td>cNEU</td>\n",
              "      <td>0.575972</td>\n",
              "    </tr>\n",
              "    <tr>\n",
              "      <th>11</th>\n",
              "      <td>gNB</td>\n",
              "      <td>cNEU</td>\n",
              "      <td>0.447754</td>\n",
              "    </tr>\n",
              "    <tr>\n",
              "      <th>16</th>\n",
              "      <td>logR</td>\n",
              "      <td>cNEU</td>\n",
              "      <td>0.621908</td>\n",
              "    </tr>\n",
              "    <tr>\n",
              "      <th>21</th>\n",
              "      <td>RF</td>\n",
              "      <td>cNEU</td>\n",
              "      <td>0.622918</td>\n",
              "    </tr>\n",
              "  </tbody>\n",
              "</table>\n",
              "</div>"
            ],
            "text/plain": [
              "       1     2         3\n",
              "1    svm  cNEU  0.602221\n",
              "6   tree  cNEU  0.575972\n",
              "11   gNB  cNEU  0.447754\n",
              "16  logR  cNEU  0.621908\n",
              "21    RF  cNEU  0.622918"
            ]
          },
          "metadata": {
            "tags": []
          },
          "execution_count": 145
        }
      ]
    },
    {
      "cell_type": "code",
      "metadata": {
        "colab": {
          "base_uri": "https://localhost:8080/",
          "height": 200
        },
        "id": "as1oKDXHaxMJ",
        "outputId": "5d96f04f-18b4-4f78-83bd-515b389cc762"
      },
      "source": [
        "d3 = d.loc[d['2']=='cAGR']\n",
        "d3\n",
        "#RF\n",
        "#55%"
      ],
      "execution_count": null,
      "outputs": [
        {
          "output_type": "execute_result",
          "data": {
            "text/html": [
              "<div>\n",
              "<style scoped>\n",
              "    .dataframe tbody tr th:only-of-type {\n",
              "        vertical-align: middle;\n",
              "    }\n",
              "\n",
              "    .dataframe tbody tr th {\n",
              "        vertical-align: top;\n",
              "    }\n",
              "\n",
              "    .dataframe thead th {\n",
              "        text-align: right;\n",
              "    }\n",
              "</style>\n",
              "<table border=\"1\" class=\"dataframe\">\n",
              "  <thead>\n",
              "    <tr style=\"text-align: right;\">\n",
              "      <th></th>\n",
              "      <th>1</th>\n",
              "      <th>2</th>\n",
              "      <th>3</th>\n",
              "    </tr>\n",
              "  </thead>\n",
              "  <tbody>\n",
              "    <tr>\n",
              "      <th>2</th>\n",
              "      <td>svm</td>\n",
              "      <td>cAGR</td>\n",
              "      <td>0.540636</td>\n",
              "    </tr>\n",
              "    <tr>\n",
              "      <th>7</th>\n",
              "      <td>tree</td>\n",
              "      <td>cAGR</td>\n",
              "      <td>0.520949</td>\n",
              "    </tr>\n",
              "    <tr>\n",
              "      <th>12</th>\n",
              "      <td>gNB</td>\n",
              "      <td>cAGR</td>\n",
              "      <td>0.503786</td>\n",
              "    </tr>\n",
              "    <tr>\n",
              "      <th>17</th>\n",
              "      <td>logR</td>\n",
              "      <td>cAGR</td>\n",
              "      <td>0.550227</td>\n",
              "    </tr>\n",
              "    <tr>\n",
              "      <th>22</th>\n",
              "      <td>RF</td>\n",
              "      <td>cAGR</td>\n",
              "      <td>0.555275</td>\n",
              "    </tr>\n",
              "  </tbody>\n",
              "</table>\n",
              "</div>"
            ],
            "text/plain": [
              "       1     2         3\n",
              "2    svm  cAGR  0.540636\n",
              "7   tree  cAGR  0.520949\n",
              "12   gNB  cAGR  0.503786\n",
              "17  logR  cAGR  0.550227\n",
              "22    RF  cAGR  0.555275"
            ]
          },
          "metadata": {
            "tags": []
          },
          "execution_count": 146
        }
      ]
    },
    {
      "cell_type": "code",
      "metadata": {
        "colab": {
          "base_uri": "https://localhost:8080/",
          "height": 200
        },
        "id": "DGLyZN7ua0Jy",
        "outputId": "bf9f00f8-e592-4121-e1be-f0cec7b97c6d"
      },
      "source": [
        "d4 = d.loc[d['2']=='cCON']\n",
        "d4\n",
        "#RF\n",
        "#58%"
      ],
      "execution_count": null,
      "outputs": [
        {
          "output_type": "execute_result",
          "data": {
            "text/html": [
              "<div>\n",
              "<style scoped>\n",
              "    .dataframe tbody tr th:only-of-type {\n",
              "        vertical-align: middle;\n",
              "    }\n",
              "\n",
              "    .dataframe tbody tr th {\n",
              "        vertical-align: top;\n",
              "    }\n",
              "\n",
              "    .dataframe thead th {\n",
              "        text-align: right;\n",
              "    }\n",
              "</style>\n",
              "<table border=\"1\" class=\"dataframe\">\n",
              "  <thead>\n",
              "    <tr style=\"text-align: right;\">\n",
              "      <th></th>\n",
              "      <th>1</th>\n",
              "      <th>2</th>\n",
              "      <th>3</th>\n",
              "    </tr>\n",
              "  </thead>\n",
              "  <tbody>\n",
              "    <tr>\n",
              "      <th>3</th>\n",
              "      <td>svm</td>\n",
              "      <td>cCON</td>\n",
              "      <td>0.572943</td>\n",
              "    </tr>\n",
              "    <tr>\n",
              "      <th>8</th>\n",
              "      <td>tree</td>\n",
              "      <td>cCON</td>\n",
              "      <td>0.551237</td>\n",
              "    </tr>\n",
              "    <tr>\n",
              "      <th>13</th>\n",
              "      <td>gNB</td>\n",
              "      <td>cCON</td>\n",
              "      <td>0.501767</td>\n",
              "    </tr>\n",
              "    <tr>\n",
              "      <th>18</th>\n",
              "      <td>logR</td>\n",
              "      <td>cCON</td>\n",
              "      <td>0.581020</td>\n",
              "    </tr>\n",
              "    <tr>\n",
              "      <th>23</th>\n",
              "      <td>RF</td>\n",
              "      <td>cCON</td>\n",
              "      <td>0.591116</td>\n",
              "    </tr>\n",
              "  </tbody>\n",
              "</table>\n",
              "</div>"
            ],
            "text/plain": [
              "       1     2         3\n",
              "3    svm  cCON  0.572943\n",
              "8   tree  cCON  0.551237\n",
              "13   gNB  cCON  0.501767\n",
              "18  logR  cCON  0.581020\n",
              "23    RF  cCON  0.591116"
            ]
          },
          "metadata": {
            "tags": []
          },
          "execution_count": 147
        }
      ]
    },
    {
      "cell_type": "code",
      "metadata": {
        "colab": {
          "base_uri": "https://localhost:8080/",
          "height": 200
        },
        "id": "mQrbZ93fa2j0",
        "outputId": "989ca652-82f7-45c0-a773-11df0b0c90e8"
      },
      "source": [
        "d5 = d.loc[d['2']=='cOPN']\n",
        "d5\n",
        "#RF 74%"
      ],
      "execution_count": null,
      "outputs": [
        {
          "output_type": "execute_result",
          "data": {
            "text/html": [
              "<div>\n",
              "<style scoped>\n",
              "    .dataframe tbody tr th:only-of-type {\n",
              "        vertical-align: middle;\n",
              "    }\n",
              "\n",
              "    .dataframe tbody tr th {\n",
              "        vertical-align: top;\n",
              "    }\n",
              "\n",
              "    .dataframe thead th {\n",
              "        text-align: right;\n",
              "    }\n",
              "</style>\n",
              "<table border=\"1\" class=\"dataframe\">\n",
              "  <thead>\n",
              "    <tr style=\"text-align: right;\">\n",
              "      <th></th>\n",
              "      <th>1</th>\n",
              "      <th>2</th>\n",
              "      <th>3</th>\n",
              "    </tr>\n",
              "  </thead>\n",
              "  <tbody>\n",
              "    <tr>\n",
              "      <th>4</th>\n",
              "      <td>svm</td>\n",
              "      <td>cOPN</td>\n",
              "      <td>0.726906</td>\n",
              "    </tr>\n",
              "    <tr>\n",
              "      <th>9</th>\n",
              "      <td>tree</td>\n",
              "      <td>cOPN</td>\n",
              "      <td>0.655225</td>\n",
              "    </tr>\n",
              "    <tr>\n",
              "      <th>14</th>\n",
              "      <td>gNB</td>\n",
              "      <td>cOPN</td>\n",
              "      <td>0.391217</td>\n",
              "    </tr>\n",
              "    <tr>\n",
              "      <th>19</th>\n",
              "      <td>logR</td>\n",
              "      <td>cOPN</td>\n",
              "      <td>0.731954</td>\n",
              "    </tr>\n",
              "    <tr>\n",
              "      <th>24</th>\n",
              "      <td>RF</td>\n",
              "      <td>cOPN</td>\n",
              "      <td>0.741040</td>\n",
              "    </tr>\n",
              "  </tbody>\n",
              "</table>\n",
              "</div>"
            ],
            "text/plain": [
              "       1     2         3\n",
              "4    svm  cOPN  0.726906\n",
              "9   tree  cOPN  0.655225\n",
              "14   gNB  cOPN  0.391217\n",
              "19  logR  cOPN  0.731954\n",
              "24    RF  cOPN  0.741040"
            ]
          },
          "metadata": {
            "tags": []
          },
          "execution_count": 148
        }
      ]
    },
    {
      "cell_type": "markdown",
      "metadata": {
        "id": "JAqR0IynzZz1"
      },
      "source": [
        "EVALUATING CLASSIFICATION REPORT FOR EACH BEST CLASSIFIER"
      ]
    },
    {
      "cell_type": "code",
      "metadata": {
        "id": "h4i_eHMh5Xty"
      },
      "source": [
        "from sklearn.model_selection import GridSearchCV\n",
        "# Create the parameter grid based on the results of random search \n",
        "param_grid = {\n",
        "    'criterion':['giny','entropy'],\n",
        "    'max_depth': list(range(2,46,2)),\n",
        "    'n_estimators': [100, 200]\n",
        "}\n",
        "# Create a based model\n",
        "rf = RandomForestClassifier()\n",
        "# Instantiate the grid search model\n",
        "grid_search = GridSearchCV(estimator = rf, param_grid = param_grid, \n",
        "                          cv = 10, n_jobs = -1, verbose = 2)\n",
        "# Fit the grid search to the data\n",
        "grid_search.fit(train_x_vectors, yEXT_train)\n"
      ],
      "execution_count": null,
      "outputs": []
    },
    {
      "cell_type": "code",
      "metadata": {
        "colab": {
          "base_uri": "https://localhost:8080/"
        },
        "id": "lRghTz2RVvZJ",
        "outputId": "8b079d15-26f3-41b8-8b8f-5daf8596bac6"
      },
      "source": [
        "print(\"##############EXTROVERTNES#############\")\n",
        "predEXT = grid_search.predict(test_x_vectors)\n",
        "print(metrics.classification_report(yEXT_test,predEXT),\"\\n\",grid_search.best_score_)\n",
        "#grid_search.best_params_"
      ],
      "execution_count": null,
      "outputs": [
        {
          "output_type": "stream",
          "text": [
            "##############EXTROVERTNES#############\n",
            "              precision    recall  f1-score   support\n",
            "\n",
            "           n       0.57      0.98      0.72      1112\n",
            "           y       0.68      0.06      0.10       869\n",
            "\n",
            "    accuracy                           0.57      1981\n",
            "   macro avg       0.63      0.52      0.41      1981\n",
            "weighted avg       0.62      0.57      0.45      1981\n",
            " \n",
            " 0.597525379902429\n"
          ],
          "name": "stdout"
        }
      ]
    },
    {
      "cell_type": "code",
      "metadata": {
        "id": "AyAcxc4yVfCE"
      },
      "source": [
        "import pickle\n",
        "Pkl_Filename = \"cEXT.pkl\"  \n",
        "\n",
        "with open(Pkl_Filename, 'wb') as file:  \n",
        "    pickle.dump(grid_search, file)"
      ],
      "execution_count": null,
      "outputs": []
    },
    {
      "cell_type": "code",
      "metadata": {
        "colab": {
          "base_uri": "https://localhost:8080/"
        },
        "id": "t84oR2GJH579",
        "outputId": "60badf2c-fd74-4f8d-cc81-84e8d55c8848"
      },
      "source": [
        "gridNEU_search = grid_search.fit(train_x_vectors, yNEU_train)\n",
        "#print(grid_search.best_params_,grid_search.best_score_)\n",
        "print(\"##############EXTROVERTNES#############\")\n",
        "predNEU = gridNEU_search.predict(test_x_vectors)\n",
        "print(metrics.classification_report(yNEU_test,predNEU),\"\\n\",gridNEU_search.best_score_)"
      ],
      "execution_count": null,
      "outputs": [
        {
          "output_type": "stream",
          "text": [
            "Fitting 10 folds for each of 88 candidates, totalling 880 fits\n"
          ],
          "name": "stdout"
        },
        {
          "output_type": "stream",
          "text": [
            "[Parallel(n_jobs=-1)]: Using backend LokyBackend with 2 concurrent workers.\n",
            "[Parallel(n_jobs=-1)]: Done  37 tasks      | elapsed:    3.8s\n",
            "[Parallel(n_jobs=-1)]: Done 158 tasks      | elapsed:   12.5s\n",
            "[Parallel(n_jobs=-1)]: Done 361 tasks      | elapsed:   27.0s\n",
            "[Parallel(n_jobs=-1)]: Done 644 tasks      | elapsed:  3.7min\n",
            "[Parallel(n_jobs=-1)]: Done 880 out of 880 | elapsed: 13.0min finished\n"
          ],
          "name": "stderr"
        },
        {
          "output_type": "stream",
          "text": [
            "##############EXTROVERTNES#############\n",
            "              precision    recall  f1-score   support\n",
            "\n",
            "           n       0.63      1.00      0.77      1239\n",
            "           y       0.82      0.01      0.02       742\n",
            "\n",
            "    accuracy                           0.63      1981\n",
            "   macro avg       0.72      0.51      0.40      1981\n",
            "weighted avg       0.70      0.63      0.49      1981\n",
            " \n",
            " 0.6275722228591081\n"
          ],
          "name": "stdout"
        }
      ]
    },
    {
      "cell_type": "code",
      "metadata": {
        "id": "Y66e3Ss4WRye"
      },
      "source": [
        "Pkl_Filename = \"cNEU.pkl\"  \n",
        "\n",
        "with open(Pkl_Filename, 'wb') as file:  \n",
        "    pickle.dump(gridNEU_search, file)"
      ],
      "execution_count": null,
      "outputs": []
    },
    {
      "cell_type": "code",
      "metadata": {
        "colab": {
          "base_uri": "https://localhost:8080/"
        },
        "id": "Djk2-c4FH6hf",
        "outputId": "2481532e-0dcd-46bd-e619-32e0ef5cda6e"
      },
      "source": [
        "gridOPN_search = grid_search.fit(train_x_vectors, yOPN_train)\n",
        "#print(grid_search.best_params_,grid_search.best_score_)\n",
        "print(\"##############OPENNESS#############\")\n",
        "predOPN = gridOPN_search.predict(test_x_vectors)\n",
        "print(metrics.classification_report(yOPN_test,predOPN),\"\\n\",gridOPN_search.best_score_)\n",
        "Pkl_Filename = \"cOPN.pkl\"  \n",
        "with open(Pkl_Filename, 'wb') as file:  \n",
        "    pickle.dump(gridOPN_search, file)"
      ],
      "execution_count": null,
      "outputs": [
        {
          "output_type": "stream",
          "text": [
            "Fitting 10 folds for each of 88 candidates, totalling 880 fits\n"
          ],
          "name": "stdout"
        },
        {
          "output_type": "stream",
          "text": [
            "[Parallel(n_jobs=-1)]: Using backend LokyBackend with 2 concurrent workers.\n",
            "[Parallel(n_jobs=-1)]: Done  70 tasks      | elapsed:    4.8s\n",
            "[Parallel(n_jobs=-1)]: Done 312 tasks      | elapsed:   21.5s\n",
            "[Parallel(n_jobs=-1)]: Done 591 tasks      | elapsed:  2.4min\n",
            "[Parallel(n_jobs=-1)]: Done 874 tasks      | elapsed: 12.8min\n",
            "[Parallel(n_jobs=-1)]: Done 880 out of 880 | elapsed: 13.2min finished\n"
          ],
          "name": "stderr"
        },
        {
          "output_type": "stream",
          "text": [
            "##############OPENNESS#############\n",
            "              precision    recall  f1-score   support\n",
            "\n",
            "           n       1.00      0.01      0.03       492\n",
            "           y       0.75      1.00      0.86      1489\n",
            "\n",
            "    accuracy                           0.76      1981\n",
            "   macro avg       0.88      0.51      0.44      1981\n",
            "weighted avg       0.82      0.76      0.65      1981\n",
            " \n",
            " 0.7439717158979453\n"
          ],
          "name": "stdout"
        }
      ]
    },
    {
      "cell_type": "code",
      "metadata": {
        "colab": {
          "base_uri": "https://localhost:8080/"
        },
        "id": "4wbr2npiH7YY",
        "outputId": "66013a10-45f6-4c4e-f2a9-bd16b0825def"
      },
      "source": [
        "gridAGR_search = grid_search.fit(train_x_vectors, yAGR_train)\n",
        "#print(grid_search.best_params_,grid_search.best_score_)\n",
        "print(\"############AGR###############\")\n",
        "predAGR = gridAGR_search.predict(test_x_vectors)\n",
        "print(metrics.classification_report(yAGR_test,predAGR),\"\\n\",gridAGR_search.best_score_)\n",
        "Pkl_Filename = \"cAGR.pkl\"  \n",
        "with open(Pkl_Filename, 'wb') as file:  \n",
        "    pickle.dump(gridAGR_search, file)"
      ],
      "execution_count": null,
      "outputs": [
        {
          "output_type": "stream",
          "text": [
            "Fitting 10 folds for each of 88 candidates, totalling 880 fits\n"
          ],
          "name": "stdout"
        },
        {
          "output_type": "stream",
          "text": [
            "[Parallel(n_jobs=-1)]: Using backend LokyBackend with 2 concurrent workers.\n",
            "[Parallel(n_jobs=-1)]: Done  70 tasks      | elapsed:    4.8s\n",
            "[Parallel(n_jobs=-1)]: Done 312 tasks      | elapsed:   21.6s\n",
            "[Parallel(n_jobs=-1)]: Done 591 tasks      | elapsed:  2.4min\n",
            "[Parallel(n_jobs=-1)]: Done 874 tasks      | elapsed: 12.7min\n",
            "[Parallel(n_jobs=-1)]: Done 880 out of 880 | elapsed: 13.1min finished\n"
          ],
          "name": "stderr"
        },
        {
          "output_type": "stream",
          "text": [
            "############AGR###############\n",
            "              precision    recall  f1-score   support\n",
            "\n",
            "           n       0.52      0.10      0.16       921\n",
            "           y       0.54      0.92      0.68      1060\n",
            "\n",
            "    accuracy                           0.54      1981\n",
            "   macro avg       0.53      0.51      0.42      1981\n",
            "weighted avg       0.53      0.54      0.44      1981\n",
            " \n",
            " 0.5602841147923115\n"
          ],
          "name": "stdout"
        }
      ]
    },
    {
      "cell_type": "code",
      "metadata": {
        "colab": {
          "base_uri": "https://localhost:8080/"
        },
        "id": "GoAfFqJuH7_I",
        "outputId": "518eab93-3cab-4d02-80e8-2275328caa52"
      },
      "source": [
        "gridCON_search = grid_search.fit(train_x_vectors, yCON_train)\n",
        "#print(grid_search.best_params_,grid_search.best_score_)\n",
        "print(\"############CON############\")\n",
        "predCON = gridCON_search.predict(test_x_vectors)\n",
        "print(metrics.classification_report(yCON_test,predAGR),'\\n',gridCON_search.best_score_)\n",
        "Pkl_Filename = \"cCON.pkl\"  \n",
        "with open(Pkl_Filename, 'wb') as file:  \n",
        "    pickle.dump(gridCON_search, file)"
      ],
      "execution_count": null,
      "outputs": [
        {
          "output_type": "stream",
          "text": [
            "Fitting 10 folds for each of 88 candidates, totalling 880 fits\n"
          ],
          "name": "stdout"
        },
        {
          "output_type": "stream",
          "text": [
            "[Parallel(n_jobs=-1)]: Using backend LokyBackend with 2 concurrent workers.\n",
            "[Parallel(n_jobs=-1)]: Done  70 tasks      | elapsed:    4.7s\n",
            "[Parallel(n_jobs=-1)]: Done 312 tasks      | elapsed:   21.6s\n",
            "[Parallel(n_jobs=-1)]: Done 591 tasks      | elapsed:  2.4min\n",
            "[Parallel(n_jobs=-1)]: Done 874 tasks      | elapsed: 12.8min\n",
            "[Parallel(n_jobs=-1)]: Done 880 out of 880 | elapsed: 13.2min finished\n"
          ],
          "name": "stderr"
        },
        {
          "output_type": "stream",
          "text": [
            "############CON############\n",
            "              precision    recall  f1-score   support\n",
            "\n",
            "           n       0.57      0.09      0.16      1061\n",
            "           y       0.47      0.92      0.62       920\n",
            "\n",
            "    accuracy                           0.48      1981\n",
            "   macro avg       0.52      0.51      0.39      1981\n",
            "weighted avg       0.52      0.48      0.37      1981\n",
            " \n",
            " 0.5716474327130064\n"
          ],
          "name": "stdout"
        }
      ]
    },
    {
      "cell_type": "code",
      "metadata": {
        "id": "CP35yGFtXv3K"
      },
      "source": [
        ""
      ],
      "execution_count": null,
      "outputs": []
    },
    {
      "cell_type": "markdown",
      "metadata": {
        "id": "Yc_f5yw32DT_"
      },
      "source": [
        "Saving the model with best suitable performance for future uses"
      ]
    },
    {
      "cell_type": "code",
      "metadata": {
        "id": "DDKbGQxWfyqr"
      },
      "source": [
        ""
      ],
      "execution_count": null,
      "outputs": []
    },
    {
      "cell_type": "code",
      "metadata": {
        "id": "Iw17KaFoxnpB"
      },
      "source": [
        "#Save the Modle to file in the current working directory\n",
        "#Specifying the model name with best chosen performance can be stored by\n",
        "#substituting the Pkl_Filename\n",
        "#This creates cAGR.pkl\n",
        "\n",
        "\n",
        "Pkl_Filename = \"cNEU.pkl\"  \n",
        "with open(Pkl_Filename, 'wb') as file:  \n",
        "    pickle.dump(clf_gnb_cNEU,file)\n",
        "\n",
        "Pkl_Filename = \"cAGR.pkl\"  \n",
        "with open(Pkl_Filename, 'wb') as file:  \n",
        "  pickle.dump(clf_dec_cAGR,file)\n",
        "Pkl_Filename = \"cCON.pkl\"  \n",
        "with open(Pkl_Filename, 'wb') as file:  \n",
        "  pickle.dump(clf_svm_cCON,file)\n",
        "Pkl_Filename = \"cOPN.pkl\"  \n",
        "with open(Pkl_Filename, 'wb') as file:  \n",
        "  pickle.dump(clf_svm_cOPN,file)"
      ],
      "execution_count": null,
      "outputs": []
    },
    {
      "cell_type": "code",
      "metadata": {
        "id": "eAW0V3puy8GL"
      },
      "source": [
        "# Load the Model back from file with same name as saved in the working directory\n",
        "with open('cAGR.pkl', 'rb') as file:  \n",
        "    Pickled_AGR_Model = pickle.load(file)\n",
        "with open('cCON.pkl', 'rb') as file:  \n",
        "    Pickled_CON_Model = pickle.load(file)\n",
        "with open('cEXT.pkl', 'rb') as file:  \n",
        "    Pickled_EXT_Model = pickle.load(file)\n",
        "with open('cNEU.pkl', 'rb') as file:  \n",
        "    Pickled_NEU_Model = pickle.load(file)\n",
        "with open('cOPN.pkl', 'rb') as file:  \n",
        "    Pickled_OPN_Model = pickle.load(file)\n"
      ],
      "execution_count": null,
      "outputs": []
    },
    {
      "cell_type": "code",
      "metadata": {
        "id": "bP_g0oLoFsKw"
      },
      "source": [
        "def clean_text(text):\n",
        "  text = tokenization(text)\n",
        "  text = unemotional_words(text)\n",
        "  text = \" \".join(text)\n",
        "  return (text) \n"
      ],
      "execution_count": null,
      "outputs": []
    },
    {
      "cell_type": "code",
      "metadata": {
        "id": "wNBYkBtYFsZM"
      },
      "source": [
        "def pred_personality(text):\n",
        "  text = clean_text(text)\n",
        "  text_vec = bow_vectorizer.transform([text])\n",
        "  y_AGR_predict = Pickled_AGR_Model.predict(text_vec)  \n",
        "  y_CON_predict = Pickled_CON_Model.predict(text_vec)  \n",
        "  y_EXT_predict = Pickled_EXT_Model.predict(text_vec)  \n",
        "  y_NEU_predict = Pickled_NEU_Model.predict(text_vec.toarray())  \n",
        "  y_OPN_predict = Pickled_OPN_Model.predict(text_vec)  \n",
        "\n",
        "  return (y_AGR_predict[0],y_CON_predict[0],y_EXT_predict[0],y_NEU_predict[0],y_OPN_predict[0])"
      ],
      "execution_count": null,
      "outputs": []
    },
    {
      "cell_type": "code",
      "metadata": {
        "colab": {
          "base_uri": "https://localhost:8080/"
        },
        "id": "WPTfqoCjz0uI",
        "outputId": "bb3616ae-94d6-4237-cb2d-e9a693eb7ca0"
      },
      "source": [
        "text = \"We are still best friends\"\n",
        "\n",
        "print(pred_personality(text))"
      ],
      "execution_count": null,
      "outputs": [
        {
          "output_type": "stream",
          "text": [
            "('n', 'n', 'n', 'y', 'y')\n"
          ],
          "name": "stdout"
        }
      ]
    },
    {
      "cell_type": "code",
      "metadata": {
        "id": "_2qw1SV4GFV0"
      },
      "source": [
        ""
      ],
      "execution_count": null,
      "outputs": []
    }
  ]
}